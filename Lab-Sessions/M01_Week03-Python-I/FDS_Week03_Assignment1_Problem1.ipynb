{
 "cells": [
  {
   "cell_type": "markdown",
   "metadata": {
    "colab_type": "text",
    "id": "FlFh0Ez7MGKT"
   },
   "source": [
    "# Assignment 1 Problem 1 "
   ]
  },
  {
   "cell_type": "markdown",
   "metadata": {
    "colab_type": "text",
    "id": "RTjXUeWbMLb3"
   },
   "source": [
    "Exercise 1: \n",
    "\n",
    "\n",
    "---\n",
    "\n",
    "\n",
    "1.   Prompt the user \"Enter your weight (in kgs)\" and record weight\n",
    "2.   Prompt the user \"What is your preferred unit of height? Type \"F\" for feet and \"M\" for meters\" and record the preference\n",
    "3.   If user says \"F\" then prompt user \"You will enter your height given as feet and inches. First enter feet\" and record feet and then prompt user \"Now enter inches\" and record inches\n",
    "4.   If user says \"M\" then prompt user \"What is your height in meters\" and record height in meters\n",
    "5.   If user had chosen \"F\" then convert height into meters\n",
    "6.   Compute BMI using the following formula $$\\mbox{BMI} = \\dfrac{\\mbox{Weight (in kgs)}}{\\mbox{Height }^2\\mbox{(in m)}}$$\n",
    "7.   Depending on the value of BMI, report the user's type given by the following table: \n",
    "> *   $\\mbox{BMI} < 18.5$: UNDERWEIGHT\n",
    "> *   $18.5 \\leq \\mbox{BMI} < 25$: NORMAL\n",
    "> *   $25 \\leq \\mbox{BMI} < 30$: OVERWEIGHT\n",
    "> *   $\\mbox{BMI} \\geq 30$: VERY-OVERWEIGHT\n"
   ]
  },
  {
   "cell_type": "markdown",
   "metadata": {
    "colab_type": "text",
    "id": "vZMtJq0mO2T0"
   },
   "source": [
    "# Solution to Problem 1"
   ]
  },
  {
   "cell_type": "code",
   "execution_count": 1,
   "metadata": {
    "colab": {},
    "colab_type": "code",
    "id": "RMs-QqK3LubH"
   },
   "outputs": [
    {
     "name": "stdout",
     "output_type": "stream",
     "text": [
      "Enter your weight in kgs 80\n",
      "What is your preferred unit of height \"F\" of feet and \"M\" for meters F\n",
      "I am in the F block. TODO\n"
     ]
    }
   ],
   "source": [
    "weight = input(\"Enter your weight in kgs \")\n",
    "height_unit = input('What is your preferred unit of height \"F\" of feet and \"M\" for meters ')\n",
    "\n",
    "if height_unit == \"F\":\n",
    "    print(\"I am in the F block. TODO\")\n",
    "else:\n",
    "    print(\"I am in the M block. TODO\")"
   ]
  },
  {
   "cell_type": "code",
   "execution_count": 2,
   "metadata": {
    "colab": {},
    "colab_type": "code",
    "id": "2kvKEJ4yPicA"
   },
   "outputs": [
    {
     "name": "stdout",
     "output_type": "stream",
     "text": [
      "Enter your weight in kgs 80\n",
      "What is your preferred unit of height \"F\" of feet and \"M\" for meters F\n",
      "Please enter both feet and inches. Now enter feet 5\n",
      "Now enter inches 9\n"
     ]
    }
   ],
   "source": [
    "weight = input(\"Enter your weight in kgs \")\n",
    "height_unit = input('What is your preferred unit of height \"F\" of feet and \"M\" for meters ')\n",
    "\n",
    "if height_unit == \"F\":\n",
    "    feet = input(\"Please enter both feet and inches. Now enter feet \")\n",
    "    inches = input(\"Now enter inches \")\n",
    "else:\n",
    "    meters = input(\"Please enter your height in meters \")"
   ]
  },
  {
   "cell_type": "code",
   "execution_count": 3,
   "metadata": {
    "colab": {},
    "colab_type": "code",
    "id": "SDw6ZdiaP47t"
   },
   "outputs": [
    {
     "name": "stdout",
     "output_type": "stream",
     "text": [
      "Enter your weight in kgs 80\n",
      "What is your preferred unit of height \"F\" of feet and \"M\" for meters F\n",
      "Please enter both feet and inches. Now enter feet 5\n",
      "Now enter inches 8\n"
     ]
    },
    {
     "ename": "TypeError",
     "evalue": "unsupported operand type(s) for /: 'str' and 'int'",
     "output_type": "error",
     "traceback": [
      "\u001b[1;31m---------------------------------------------------------------------------\u001b[0m",
      "\u001b[1;31mTypeError\u001b[0m                                 Traceback (most recent call last)",
      "\u001b[1;32m<ipython-input-3-db9415d28b5c>\u001b[0m in \u001b[0;36m<module>\u001b[1;34m\u001b[0m\n\u001b[0;32m      5\u001b[0m     \u001b[0mfeet\u001b[0m \u001b[1;33m=\u001b[0m \u001b[0minput\u001b[0m\u001b[1;33m(\u001b[0m\u001b[1;34m\"Please enter both feet and inches. Now enter feet \"\u001b[0m\u001b[1;33m)\u001b[0m\u001b[1;33m\u001b[0m\u001b[1;33m\u001b[0m\u001b[0m\n\u001b[0;32m      6\u001b[0m     \u001b[0minches\u001b[0m \u001b[1;33m=\u001b[0m \u001b[0minput\u001b[0m\u001b[1;33m(\u001b[0m\u001b[1;34m\"Now enter inches \"\u001b[0m\u001b[1;33m)\u001b[0m\u001b[1;33m\u001b[0m\u001b[1;33m\u001b[0m\u001b[0m\n\u001b[1;32m----> 7\u001b[1;33m     \u001b[0mmeters\u001b[0m \u001b[1;33m=\u001b[0m \u001b[1;33m(\u001b[0m\u001b[0mfeet\u001b[0m \u001b[1;33m+\u001b[0m \u001b[0minches\u001b[0m\u001b[1;33m/\u001b[0m\u001b[1;36m12\u001b[0m\u001b[1;33m)\u001b[0m \u001b[1;33m*\u001b[0m \u001b[1;36m0.3048\u001b[0m\u001b[1;33m\u001b[0m\u001b[1;33m\u001b[0m\u001b[0m\n\u001b[0m\u001b[0;32m      8\u001b[0m \u001b[1;32melse\u001b[0m\u001b[1;33m:\u001b[0m\u001b[1;33m\u001b[0m\u001b[1;33m\u001b[0m\u001b[0m\n\u001b[0;32m      9\u001b[0m     \u001b[0mmeters\u001b[0m \u001b[1;33m=\u001b[0m \u001b[0minput\u001b[0m\u001b[1;33m(\u001b[0m\u001b[1;34m\"Please enter your height in meters \"\u001b[0m\u001b[1;33m)\u001b[0m\u001b[1;33m\u001b[0m\u001b[1;33m\u001b[0m\u001b[0m\n",
      "\u001b[1;31mTypeError\u001b[0m: unsupported operand type(s) for /: 'str' and 'int'"
     ]
    }
   ],
   "source": [
    "weight = input(\"Enter your weight in kgs \")\n",
    "height_unit = input('What is your preferred unit of height \"F\" of feet and \"M\" for meters ')\n",
    "\n",
    "if height_unit == \"F\":\n",
    "    feet = input(\"Please enter both feet and inches. Now enter feet \")\n",
    "   #feet = int(feet) # Not a good design.\n",
    "    inches = input(\"Now enter inches \")\n",
    "    meters = (feet + inches/12) * 0.3048 # Not allowed to divide a string by an integer\n",
    "else:\n",
    "    meters = input(\"Please enter your height in meters \")\n",
    "\n",
    "height = meters"
   ]
  },
  {
   "cell_type": "code",
   "execution_count": 4,
   "metadata": {
    "colab": {},
    "colab_type": "code",
    "id": "FkFG3ffRQfT1"
   },
   "outputs": [],
   "source": [
    "def input_single_integer(prompt):\n",
    "    ret = int(input(prompt))\n",
    "    return ret"
   ]
  },
  {
   "cell_type": "code",
   "execution_count": 5,
   "metadata": {
    "colab": {},
    "colab_type": "code",
    "id": "o0ISXy6ORGSK"
   },
   "outputs": [
    {
     "name": "stdout",
     "output_type": "stream",
     "text": [
      "Enter your weight in kgs 80\n",
      "What is your preferred unit of height \"F\" of feet and \"M\" for meters F\n",
      "Please enter both feet and inches. Now enter feet 5\n",
      "Now enter inches 9\n"
     ]
    }
   ],
   "source": [
    "weight = input(\"Enter your weight in kgs \")\n",
    "height_unit = input('What is your preferred unit of height \"F\" of feet and \"M\" for meters ')\n",
    "\n",
    "if height_unit == \"F\":\n",
    "    feet = input_single_integer(\"Please enter both feet and inches. Now enter feet \")\n",
    "    inches = input_single_integer(\"Now enter inches \")\n",
    "    meters = (feet + inches/12) * 0.3048\n",
    "else:\n",
    "    meters = input(\"Please enter your height in meters \")\n",
    "\n",
    "height = meters"
   ]
  },
  {
   "cell_type": "code",
   "execution_count": 6,
   "metadata": {
    "colab": {},
    "colab_type": "code",
    "id": "9q9T8EoZRKgd"
   },
   "outputs": [
    {
     "name": "stdout",
     "output_type": "stream",
     "text": [
      "1.7526000000000002\n"
     ]
    }
   ],
   "source": [
    "print(meters)"
   ]
  },
  {
   "cell_type": "code",
   "execution_count": 7,
   "metadata": {
    "colab": {},
    "colab_type": "code",
    "id": "rY-seMCoSEcz"
   },
   "outputs": [],
   "source": [
    "def input_single_float(prompt):\n",
    "    ret = float(input(prompt))\n",
    "    return ret"
   ]
  },
  {
   "cell_type": "code",
   "execution_count": 9,
   "metadata": {
    "colab": {},
    "colab_type": "code",
    "id": "T3mwwzV6RSg0"
   },
   "outputs": [
    {
     "name": "stdout",
     "output_type": "stream",
     "text": [
      "Enter your weight in kgs 80\n",
      "What is your preferred unit of height \"F\" of feet and \"M\" for meters F\n",
      "Please enter both feet and inches. Now enter feet 5\n",
      "Now enter inches 9\n",
      "Your BMI is 26.045000630223896\n"
     ]
    }
   ],
   "source": [
    "weight = input_single_float(\"Enter your weight in kgs \")\n",
    "height_unit = input('What is your preferred unit of height \"F\" of feet and \"M\" for meters ')\n",
    "\n",
    "if height_unit == \"F\":\n",
    "    feet = input_single_integer(\"Please enter both feet and inches. Now enter feet \")\n",
    "    inches = input_single_integer(\"Now enter inches \")\n",
    "    meters = (feet + inches/12) * 0.3048\n",
    "else:\n",
    "    meters = input_single_float(\"Please enter your height in meters \")\n",
    "\n",
    "height = meters\n",
    "\n",
    "bmi = weight / height**2\n",
    "\n",
    "print(\"Your BMI is\", bmi)"
   ]
  },
  {
   "cell_type": "code",
   "execution_count": 10,
   "metadata": {
    "colab": {},
    "colab_type": "code",
    "id": "1C1TqWB0RzoX"
   },
   "outputs": [
    {
     "name": "stdout",
     "output_type": "stream",
     "text": [
      "Enter your weight in kgs 80\n",
      "What is your preferred unit of height \"F\" of feet and \"M\" for meters F\n",
      "Please enter both feet and inches. Now enter feet 5\n",
      "Now enter inches 9\n",
      "Your BMI is 26.045000630223896\n",
      "You are OVERWEIGHT. Watch out.\n"
     ]
    }
   ],
   "source": [
    "weight = input_single_float(\"Enter your weight in kgs \")\n",
    "height_unit = input('What is your preferred unit of height \"F\" of feet and \"M\" for meters ')\n",
    "\n",
    "if height_unit == \"F\":\n",
    "    feet = input_single_integer(\"Please enter both feet and inches. Now enter feet \")\n",
    "    inches = input_single_integer(\"Now enter inches \")\n",
    "    meters = (feet + inches/12) * 0.3048\n",
    "else:\n",
    "    meters = input_single_float(\"Please enter your height in meters \")\n",
    "\n",
    "height = meters\n",
    "\n",
    "bmi = weight / height**2\n",
    "\n",
    "print(\"Your BMI is\", bmi)\n",
    "\n",
    "if bmi < 18.5:\n",
    "    print(\"You are UNDERWEIGHT. Please consult doctor\")\n",
    "elif bmi < 25:\n",
    "    print(\"You are NORMAL. Great going.\")\n",
    "elif bmi < 30:\n",
    "    print(\"You are OVERWEIGHT. Watch out.\")\n",
    "else:\n",
    "    print(\"You are VERY OVERWEIGHT. Please consult doctor\")"
   ]
  }
 ],
 "metadata": {
  "colab": {
   "name": "Assignment_1-Problem_1-Solution.ipynb",
   "provenance": []
  },
  "kernelspec": {
   "display_name": "Python 3",
   "language": "python",
   "name": "python3"
  },
  "language_info": {
   "codemirror_mode": {
    "name": "ipython",
    "version": 3
   },
   "file_extension": ".py",
   "mimetype": "text/x-python",
   "name": "python",
   "nbconvert_exporter": "python",
   "pygments_lexer": "ipython3",
   "version": "3.8.8"
  }
 },
 "nbformat": 4,
 "nbformat_minor": 1
}
