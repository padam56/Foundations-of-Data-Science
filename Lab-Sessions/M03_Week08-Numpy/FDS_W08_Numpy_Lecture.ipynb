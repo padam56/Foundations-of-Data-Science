{
 "cells": [
  {
   "cell_type": "code",
   "execution_count": 1,
   "metadata": {
    "colab": {},
    "colab_type": "code",
    "id": "bxDEhuxYaq84"
   },
   "outputs": [],
   "source": [
    "import numpy as np"
   ]
  },
  {
   "cell_type": "markdown",
   "metadata": {
    "colab_type": "text",
    "id": "68khGiVxYo7H"
   },
   "source": [
    "## Comparing performance with lists, etc."
   ]
  },
  {
   "cell_type": "code",
   "execution_count": 2,
   "metadata": {
    "colab": {},
    "colab_type": "code",
    "id": "Eit9EIf7Ybr6"
   },
   "outputs": [],
   "source": [
    "N = 100000000"
   ]
  },
  {
   "cell_type": "code",
   "execution_count": null,
   "metadata": {
    "colab": {
     "base_uri": "https://localhost:8080/",
     "height": 54
    },
    "colab_type": "code",
    "id": "Db9hU3X_YuVe",
    "outputId": "fb3307e7-c207-49f2-d35d-3dc22f7b86b3"
   },
   "outputs": [],
   "source": [
    "%%time\n",
    "list_ = list(range(N))\n",
    "for i in range(N):\n",
    "    list_[i] = list_[i] * list_[i]"
   ]
  },
  {
   "cell_type": "code",
   "execution_count": null,
   "metadata": {
    "colab": {
     "base_uri": "https://localhost:8080/",
     "height": 54
    },
    "colab_type": "code",
    "id": "Gv3M483RZAB3",
    "outputId": "3e900212-0850-4396-927e-02b75eec5050"
   },
   "outputs": [],
   "source": [
    "%%time\n",
    "list_ = list(range(N))\n",
    "list_ = [item * item for item in list_]"
   ]
  },
  {
   "cell_type": "code",
   "execution_count": null,
   "metadata": {
    "colab": {
     "base_uri": "https://localhost:8080/",
     "height": 54
    },
    "colab_type": "code",
    "id": "2bcmoyBwZe4r",
    "outputId": "760e13b9-6e83-490d-e7e0-e415eb1b1eff"
   },
   "outputs": [],
   "source": [
    "%%time\n",
    "list_ = list(range(N))\n",
    "list_ = map(lambda x: x * x, list_)"
   ]
  },
  {
   "cell_type": "code",
   "execution_count": null,
   "metadata": {
    "colab": {
     "base_uri": "https://localhost:8080/",
     "height": 54
    },
    "colab_type": "code",
    "id": "JGzpwFZnaCOl",
    "outputId": "0f68210b-8c29-4f2d-8eba-55c2a330eb1e"
   },
   "outputs": [],
   "source": [
    "%%time\n",
    "list_ = list(range(N))\n",
    "list_sum = 0\n",
    "for item in list_:\n",
    "    list_sum += item"
   ]
  },
  {
   "cell_type": "code",
   "execution_count": null,
   "metadata": {
    "colab": {
     "base_uri": "https://localhost:8080/",
     "height": 54
    },
    "colab_type": "code",
    "id": "5c4L-NuLacK9",
    "outputId": "a9a95dff-b351-4280-b09b-13583e2758cc"
   },
   "outputs": [],
   "source": [
    "%%time\n",
    "list_ = list(range(N))\n",
    "list_sum = sum(list_)"
   ]
  },
  {
   "cell_type": "code",
   "execution_count": 3,
   "metadata": {
    "colab": {
     "base_uri": "https://localhost:8080/",
     "height": 54
    },
    "colab_type": "code",
    "id": "OwYuugJ2a9dS",
    "outputId": "102f413c-5bd4-42c5-b405-216a09d467e6"
   },
   "outputs": [
    {
     "name": "stdout",
     "output_type": "stream",
     "text": [
      "Wall time: 371 ms\n"
     ]
    }
   ],
   "source": [
    "%%time\n",
    "arr = np.arange(N)\n",
    "arr = arr * arr"
   ]
  },
  {
   "cell_type": "code",
   "execution_count": 4,
   "metadata": {
    "colab": {
     "base_uri": "https://localhost:8080/",
     "height": 54
    },
    "colab_type": "code",
    "id": "cjNUo9uhbS0V",
    "outputId": "a100a109-3e45-4188-876e-d9f2f1cfdae3"
   },
   "outputs": [
    {
     "name": "stdout",
     "output_type": "stream",
     "text": [
      "Wall time: 260 ms\n"
     ]
    }
   ],
   "source": [
    "%%time\n",
    "arr = np.arange(N)\n",
    "arr_sum = np.sum(arr)"
   ]
  },
  {
   "cell_type": "markdown",
   "metadata": {
    "colab_type": "text",
    "id": "NLGCUANycFKt"
   },
   "source": [
    "# Creating np Arrays"
   ]
  },
  {
   "cell_type": "code",
   "execution_count": 5,
   "metadata": {
    "colab": {},
    "colab_type": "code",
    "id": "Evm6nUDNbd6M"
   },
   "outputs": [],
   "source": [
    "arr = np.arange(5)"
   ]
  },
  {
   "cell_type": "code",
   "execution_count": 6,
   "metadata": {
    "colab": {
     "base_uri": "https://localhost:8080/",
     "height": 35
    },
    "colab_type": "code",
    "id": "b3Wx0sQlcKQC",
    "outputId": "87ee1b33-43d6-45af-b825-57defb1d0650"
   },
   "outputs": [
    {
     "name": "stdout",
     "output_type": "stream",
     "text": [
      "[0 1 2 3 4] <class 'numpy.ndarray'>\n"
     ]
    }
   ],
   "source": [
    "print(arr, type(arr))"
   ]
  },
  {
   "cell_type": "code",
   "execution_count": 7,
   "metadata": {
    "colab": {},
    "colab_type": "code",
    "id": "uXufCplPcMIb"
   },
   "outputs": [],
   "source": [
    "arr = np.array([0.0, 2, 4, 6, 8])"
   ]
  },
  {
   "cell_type": "code",
   "execution_count": 8,
   "metadata": {
    "colab": {
     "base_uri": "https://localhost:8080/",
     "height": 35
    },
    "colab_type": "code",
    "id": "XRYdEBlXcYGg",
    "outputId": "0005a0c0-8583-40cc-f4bd-9b15220e43d3"
   },
   "outputs": [
    {
     "name": "stdout",
     "output_type": "stream",
     "text": [
      "[0. 2. 4. 6. 8.] <class 'numpy.ndarray'>\n"
     ]
    }
   ],
   "source": [
    "print(arr, type(arr))"
   ]
  },
  {
   "cell_type": "code",
   "execution_count": 9,
   "metadata": {
    "colab": {
     "base_uri": "https://localhost:8080/",
     "height": 35
    },
    "colab_type": "code",
    "id": "plOZLyMPcZH8",
    "outputId": "3dcc02e5-1141-4808-ad1c-48a398b4bb17"
   },
   "outputs": [
    {
     "data": {
      "text/plain": [
       "array([0., 2., 4., 6., 8.])"
      ]
     },
     "execution_count": 9,
     "metadata": {},
     "output_type": "execute_result"
    }
   ],
   "source": [
    "arr"
   ]
  },
  {
   "cell_type": "code",
   "execution_count": 10,
   "metadata": {
    "colab": {
     "base_uri": "https://localhost:8080/",
     "height": 35
    },
    "colab_type": "code",
    "id": "44OjxdEJchb8",
    "outputId": "18ff63a9-43bb-45f9-e59d-991537655292"
   },
   "outputs": [
    {
     "data": {
      "text/plain": [
       "dtype('float64')"
      ]
     },
     "execution_count": 10,
     "metadata": {},
     "output_type": "execute_result"
    }
   ],
   "source": [
    "arr.dtype"
   ]
  },
  {
   "cell_type": "code",
   "execution_count": 11,
   "metadata": {
    "colab": {
     "base_uri": "https://localhost:8080/",
     "height": 35
    },
    "colab_type": "code",
    "id": "aLs3mkBycnmt",
    "outputId": "ac98c7db-b9d3-4a43-ec19-34d1a14692f0"
   },
   "outputs": [
    {
     "data": {
      "text/plain": [
       "1"
      ]
     },
     "execution_count": 11,
     "metadata": {},
     "output_type": "execute_result"
    }
   ],
   "source": [
    "arr.ndim"
   ]
  },
  {
   "cell_type": "code",
   "execution_count": 12,
   "metadata": {
    "colab": {
     "base_uri": "https://localhost:8080/",
     "height": 35
    },
    "colab_type": "code",
    "id": "M_45DXNecwbz",
    "outputId": "191cb0fa-7efd-46b1-b1ef-2f9b49d59ea6"
   },
   "outputs": [
    {
     "data": {
      "text/plain": [
       "(5,)"
      ]
     },
     "execution_count": 12,
     "metadata": {},
     "output_type": "execute_result"
    }
   ],
   "source": [
    "arr.shape"
   ]
  },
  {
   "cell_type": "code",
   "execution_count": 13,
   "metadata": {
    "colab": {
     "base_uri": "https://localhost:8080/",
     "height": 35
    },
    "colab_type": "code",
    "id": "wyWLuERBcy4W",
    "outputId": "1b7b1575-b543-44f7-feb9-8f4c3cc614fe"
   },
   "outputs": [
    {
     "data": {
      "text/plain": [
       "5"
      ]
     },
     "execution_count": 13,
     "metadata": {},
     "output_type": "execute_result"
    }
   ],
   "source": [
    "arr.size"
   ]
  },
  {
   "cell_type": "code",
   "execution_count": 14,
   "metadata": {
    "colab": {
     "base_uri": "https://localhost:8080/",
     "height": 35
    },
    "colab_type": "code",
    "id": "Fqj2_W-Sc3MG",
    "outputId": "aace0458-d824-44e5-817b-69d33df3f199"
   },
   "outputs": [
    {
     "data": {
      "text/plain": [
       "8"
      ]
     },
     "execution_count": 14,
     "metadata": {},
     "output_type": "execute_result"
    }
   ],
   "source": [
    "arr.itemsize"
   ]
  },
  {
   "cell_type": "code",
   "execution_count": 15,
   "metadata": {
    "colab": {},
    "colab_type": "code",
    "id": "pLeTXokgc62S"
   },
   "outputs": [],
   "source": [
    "arr2d = np.array([\n",
    "                  [1, 2, 3], \n",
    "                  [4, 5, 6]\n",
    "])"
   ]
  },
  {
   "cell_type": "code",
   "execution_count": 16,
   "metadata": {
    "colab": {
     "base_uri": "https://localhost:8080/",
     "height": 54
    },
    "colab_type": "code",
    "id": "34LVKLSjdanx",
    "outputId": "1d198a40-c0c9-4add-ee05-c8eb95d08c1f"
   },
   "outputs": [
    {
     "data": {
      "text/plain": [
       "array([[1, 2, 3],\n",
       "       [4, 5, 6]])"
      ]
     },
     "execution_count": 16,
     "metadata": {},
     "output_type": "execute_result"
    }
   ],
   "source": [
    "arr2d"
   ]
  },
  {
   "cell_type": "code",
   "execution_count": 17,
   "metadata": {
    "colab": {
     "base_uri": "https://localhost:8080/",
     "height": 35
    },
    "colab_type": "code",
    "id": "LRVMTi7mdcHH",
    "outputId": "ca1f83b8-43c4-440a-ce04-9d2e0a212caf"
   },
   "outputs": [
    {
     "data": {
      "text/plain": [
       "2"
      ]
     },
     "execution_count": 17,
     "metadata": {},
     "output_type": "execute_result"
    }
   ],
   "source": [
    "arr2d.ndim"
   ]
  },
  {
   "cell_type": "code",
   "execution_count": 18,
   "metadata": {
    "colab": {
     "base_uri": "https://localhost:8080/",
     "height": 35
    },
    "colab_type": "code",
    "id": "Ma9WfzVcdeA5",
    "outputId": "c97dd412-b8bd-4ed3-addf-22f626c7230f"
   },
   "outputs": [
    {
     "data": {
      "text/plain": [
       "(2, 3)"
      ]
     },
     "execution_count": 18,
     "metadata": {},
     "output_type": "execute_result"
    }
   ],
   "source": [
    "arr2d.shape"
   ]
  },
  {
   "cell_type": "code",
   "execution_count": 19,
   "metadata": {
    "colab": {
     "base_uri": "https://localhost:8080/",
     "height": 35
    },
    "colab_type": "code",
    "id": "Gs_AZjoddfHj",
    "outputId": "5a511567-5534-4ad8-810b-4a0a2ea8afd3"
   },
   "outputs": [
    {
     "data": {
      "text/plain": [
       "6"
      ]
     },
     "execution_count": 19,
     "metadata": {},
     "output_type": "execute_result"
    }
   ],
   "source": [
    "arr2d.size"
   ]
  },
  {
   "cell_type": "code",
   "execution_count": 20,
   "metadata": {
    "colab": {},
    "colab_type": "code",
    "id": "WxJvJYrIdnBf"
   },
   "outputs": [],
   "source": [
    "arr3d = np.array([\n",
    "                  [\n",
    "                   [1, 2, 3],\n",
    "                   [4, 5, 6]\n",
    "                  ],\n",
    "                  [\n",
    "                   [7, 8, 9], \n",
    "                   [10, 11, 12]\n",
    "                  ]\n",
    "])"
   ]
  },
  {
   "cell_type": "code",
   "execution_count": 21,
   "metadata": {
    "colab": {
     "base_uri": "https://localhost:8080/",
     "height": 109
    },
    "colab_type": "code",
    "id": "-MAbEurMd57w",
    "outputId": "45e677a2-4702-4ee7-b2a6-f70f1d46439d"
   },
   "outputs": [
    {
     "data": {
      "text/plain": [
       "array([[[ 1,  2,  3],\n",
       "        [ 4,  5,  6]],\n",
       "\n",
       "       [[ 7,  8,  9],\n",
       "        [10, 11, 12]]])"
      ]
     },
     "execution_count": 21,
     "metadata": {},
     "output_type": "execute_result"
    }
   ],
   "source": [
    "arr3d"
   ]
  },
  {
   "cell_type": "code",
   "execution_count": 22,
   "metadata": {
    "colab": {
     "base_uri": "https://localhost:8080/",
     "height": 35
    },
    "colab_type": "code",
    "id": "dE9OjxSrd638",
    "outputId": "45f12ffb-85ba-49fd-a0cf-a62639c8b0ad"
   },
   "outputs": [
    {
     "data": {
      "text/plain": [
       "(2, 2, 3)"
      ]
     },
     "execution_count": 22,
     "metadata": {},
     "output_type": "execute_result"
    }
   ],
   "source": [
    "arr3d.shape"
   ]
  },
  {
   "cell_type": "code",
   "execution_count": 23,
   "metadata": {
    "colab": {
     "base_uri": "https://localhost:8080/",
     "height": 35
    },
    "colab_type": "code",
    "id": "0fa892EEd__8",
    "outputId": "893f43a2-cad4-4007-b2c6-48adbfa16a06"
   },
   "outputs": [
    {
     "data": {
      "text/plain": [
       "3"
      ]
     },
     "execution_count": 23,
     "metadata": {},
     "output_type": "execute_result"
    }
   ],
   "source": [
    "arr3d.ndim"
   ]
  },
  {
   "cell_type": "code",
   "execution_count": 24,
   "metadata": {
    "colab": {
     "base_uri": "https://localhost:8080/",
     "height": 35
    },
    "colab_type": "code",
    "id": "j92cN38DeBqQ",
    "outputId": "639bfe39-427e-4131-a9bb-5d4a903438b4"
   },
   "outputs": [
    {
     "data": {
      "text/plain": [
       "12"
      ]
     },
     "execution_count": 24,
     "metadata": {},
     "output_type": "execute_result"
    }
   ],
   "source": [
    "arr3d.size"
   ]
  },
  {
   "cell_type": "code",
   "execution_count": 25,
   "metadata": {
    "colab": {
     "base_uri": "https://localhost:8080/",
     "height": 146
    },
    "colab_type": "code",
    "id": "OMN9ucDEeCzz",
    "outputId": "89f8cb7a-1309-4c57-c73a-4c1012bafe93"
   },
   "outputs": [
    {
     "data": {
      "text/plain": [
       "array([[[1., 1., 1., 1.],\n",
       "        [1., 1., 1., 1.],\n",
       "        [1., 1., 1., 1.]],\n",
       "\n",
       "       [[1., 1., 1., 1.],\n",
       "        [1., 1., 1., 1.],\n",
       "        [1., 1., 1., 1.]]])"
      ]
     },
     "execution_count": 25,
     "metadata": {},
     "output_type": "execute_result"
    }
   ],
   "source": [
    "np.ones((2, 3, 4))"
   ]
  },
  {
   "cell_type": "code",
   "execution_count": 26,
   "metadata": {
    "colab": {
     "base_uri": "https://localhost:8080/",
     "height": 146
    },
    "colab_type": "code",
    "id": "i52W2q1beS79",
    "outputId": "fd35150e-d523-40be-8880-be53d59b35cf"
   },
   "outputs": [
    {
     "data": {
      "text/plain": [
       "array([[[1729., 1729., 1729., 1729.],\n",
       "        [1729., 1729., 1729., 1729.],\n",
       "        [1729., 1729., 1729., 1729.]],\n",
       "\n",
       "       [[1729., 1729., 1729., 1729.],\n",
       "        [1729., 1729., 1729., 1729.],\n",
       "        [1729., 1729., 1729., 1729.]]])"
      ]
     },
     "execution_count": 26,
     "metadata": {},
     "output_type": "execute_result"
    }
   ],
   "source": [
    "1729 * np.ones((2, 3, 4))"
   ]
  },
  {
   "cell_type": "code",
   "execution_count": 27,
   "metadata": {
    "colab": {
     "base_uri": "https://localhost:8080/",
     "height": 146
    },
    "colab_type": "code",
    "id": "nvZvkdYUeZiu",
    "outputId": "cb4337c3-c93c-4a05-8c7f-5736bca58d96"
   },
   "outputs": [
    {
     "data": {
      "text/plain": [
       "array([[[0., 0., 0., 0.],\n",
       "        [0., 0., 0., 0.],\n",
       "        [0., 0., 0., 0.]],\n",
       "\n",
       "       [[0., 0., 0., 0.],\n",
       "        [0., 0., 0., 0.],\n",
       "        [0., 0., 0., 0.]]])"
      ]
     },
     "execution_count": 27,
     "metadata": {},
     "output_type": "execute_result"
    }
   ],
   "source": [
    "np.zeros((2, 3, 4))"
   ]
  },
  {
   "cell_type": "code",
   "execution_count": 28,
   "metadata": {
    "colab": {
     "base_uri": "https://localhost:8080/",
     "height": 54
    },
    "colab_type": "code",
    "id": "GFxPoEK6ef6h",
    "outputId": "059e7d50-e8c6-41a8-fd58-7c60a3eecd66"
   },
   "outputs": [
    {
     "data": {
      "text/plain": [
       "array([[-0.19991401, -0.76510115, -0.36970437],\n",
       "       [ 1.2224862 , -0.76968592, -0.74007198]])"
      ]
     },
     "execution_count": 28,
     "metadata": {},
     "output_type": "execute_result"
    }
   ],
   "source": [
    "np.random.randn(2, 3)"
   ]
  },
  {
   "cell_type": "code",
   "execution_count": 29,
   "metadata": {
    "colab": {
     "base_uri": "https://localhost:8080/",
     "height": 54
    },
    "colab_type": "code",
    "id": "8Mpt-djQe2OV",
    "outputId": "37cf54ff-5eef-4bc7-f518-05873140d816"
   },
   "outputs": [
    {
     "data": {
      "text/plain": [
       "array([[0.23156708, 0.92190901, 0.57042764],\n",
       "       [0.64463657, 0.29233424, 0.81152363]])"
      ]
     },
     "execution_count": 29,
     "metadata": {},
     "output_type": "execute_result"
    }
   ],
   "source": [
    "np.random.rand(2, 3)"
   ]
  },
  {
   "cell_type": "code",
   "execution_count": 30,
   "metadata": {
    "colab": {
     "base_uri": "https://localhost:8080/",
     "height": 201
    },
    "colab_type": "code",
    "id": "Ymh-OjaNfI9m",
    "outputId": "5fb87071-1515-4c21-9a68-8a894347c25b"
   },
   "outputs": [
    {
     "data": {
      "text/plain": [
       "array([[0.34050312],\n",
       "       [0.27360484],\n",
       "       [0.40983751],\n",
       "       [0.27437578],\n",
       "       [0.77419789],\n",
       "       [0.23285257],\n",
       "       [0.76329394],\n",
       "       [0.43027656],\n",
       "       [0.10817228],\n",
       "       [0.5454093 ]])"
      ]
     },
     "execution_count": 30,
     "metadata": {},
     "output_type": "execute_result"
    }
   ],
   "source": [
    "np.random.rand(10, 1)"
   ]
  },
  {
   "cell_type": "code",
   "execution_count": 31,
   "metadata": {
    "colab": {
     "base_uri": "https://localhost:8080/",
     "height": 54
    },
    "colab_type": "code",
    "id": "c5To7Be5fQ1O",
    "outputId": "e5fdfa7b-f621-4833-b907-886fd297d51e"
   },
   "outputs": [
    {
     "data": {
      "text/plain": [
       "array([[91, 93, 76],\n",
       "       [54, 58,  5]])"
      ]
     },
     "execution_count": 31,
     "metadata": {},
     "output_type": "execute_result"
    }
   ],
   "source": [
    "np.random.randint(0, 100, (2, 3))"
   ]
  },
  {
   "cell_type": "code",
   "execution_count": 32,
   "metadata": {
    "colab": {
     "base_uri": "https://localhost:8080/",
     "height": 35
    },
    "colab_type": "code",
    "id": "jXlwR9JbfdmT",
    "outputId": "a5765704-4f21-484e-f765-65a4f2eee39f"
   },
   "outputs": [
    {
     "data": {
      "text/plain": [
       "array([ 7, 14, 21, 28, 35, 42, 49, 56, 63, 70])"
      ]
     },
     "execution_count": 32,
     "metadata": {},
     "output_type": "execute_result"
    }
   ],
   "source": [
    "np.arange(7, 71, 7)"
   ]
  },
  {
   "cell_type": "code",
   "execution_count": 33,
   "metadata": {
    "colab": {
     "base_uri": "https://localhost:8080/",
     "height": 35
    },
    "colab_type": "code",
    "id": "X9xL5fSRf0D4",
    "outputId": "eb0fefdc-8477-4542-ca66-92f7909ab33f"
   },
   "outputs": [
    {
     "data": {
      "text/plain": [
       "array([ 7., 14., 21., 28., 35., 42., 49., 56., 63., 70.])"
      ]
     },
     "execution_count": 33,
     "metadata": {},
     "output_type": "execute_result"
    }
   ],
   "source": [
    "np.linspace(7, 70, 10)"
   ]
  },
  {
   "cell_type": "code",
   "execution_count": 34,
   "metadata": {
    "colab": {
     "base_uri": "https://localhost:8080/",
     "height": 35
    },
    "colab_type": "code",
    "id": "sSvzx7sAf_4O",
    "outputId": "0f1a16ff-56c5-4e15-96db-ab595666ede4"
   },
   "outputs": [
    {
     "data": {
      "text/plain": [
       "array([ True, False,  True,  True])"
      ]
     },
     "execution_count": 34,
     "metadata": {},
     "output_type": "execute_result"
    }
   ],
   "source": [
    "np.array([True, False, True, True])"
   ]
  },
  {
   "cell_type": "code",
   "execution_count": 35,
   "metadata": {
    "colab": {},
    "colab_type": "code",
    "id": "RFpSPRFWgIqy"
   },
   "outputs": [],
   "source": [
    "str_arr = np.array(['1.4', '2.1', '1.1'])"
   ]
  },
  {
   "cell_type": "code",
   "execution_count": 36,
   "metadata": {
    "colab": {},
    "colab_type": "code",
    "id": "kZGLBBIQgNwu"
   },
   "outputs": [],
   "source": [
    "arr = np.array(str_arr, dtype='float')"
   ]
  },
  {
   "cell_type": "code",
   "execution_count": 37,
   "metadata": {
    "colab": {
     "base_uri": "https://localhost:8080/",
     "height": 35
    },
    "colab_type": "code",
    "id": "TiadxxuigdAb",
    "outputId": "7e25c8d0-54d8-4ac4-ab7c-2c4c14817580"
   },
   "outputs": [
    {
     "data": {
      "text/plain": [
       "array([1.4, 2.1, 1.1])"
      ]
     },
     "execution_count": 37,
     "metadata": {},
     "output_type": "execute_result"
    }
   ],
   "source": [
    "arr"
   ]
  },
  {
   "cell_type": "markdown",
   "metadata": {
    "colab_type": "text",
    "id": "ok07o0hHhe0k"
   },
   "source": [
    "## indexing"
   ]
  },
  {
   "cell_type": "code",
   "execution_count": 38,
   "metadata": {
    "colab": {},
    "colab_type": "code",
    "id": "4VMwRGXfgfNL"
   },
   "outputs": [],
   "source": [
    "arr3d = np.array([\n",
    "                  [\n",
    "                   [1, 2, 3],\n",
    "                   [4, 5, 6]\n",
    "                  ],\n",
    "                  [\n",
    "                   [7, 8, 9], \n",
    "                   [10, 11, 12]\n",
    "                  ]\n",
    "])"
   ]
  },
  {
   "cell_type": "code",
   "execution_count": 39,
   "metadata": {
    "colab": {
     "base_uri": "https://localhost:8080/",
     "height": 109
    },
    "colab_type": "code",
    "id": "ZxmkYyRvhi2r",
    "outputId": "6ece8790-f7d0-411c-ba87-6776d408850a"
   },
   "outputs": [
    {
     "name": "stdout",
     "output_type": "stream",
     "text": [
      "[[[ 1  2  3]\n",
      "  [ 4  5  6]]\n",
      "\n",
      " [[ 7  8  9]\n",
      "  [10 11 12]]]\n"
     ]
    }
   ],
   "source": [
    "print(arr3d)"
   ]
  },
  {
   "cell_type": "code",
   "execution_count": 40,
   "metadata": {
    "colab": {
     "base_uri": "https://localhost:8080/",
     "height": 35
    },
    "colab_type": "code",
    "id": "1SBT8VOChkGi",
    "outputId": "cfa9edb6-daa3-40b0-80ac-c051fe812007"
   },
   "outputs": [
    {
     "data": {
      "text/plain": [
       "1"
      ]
     },
     "execution_count": 40,
     "metadata": {},
     "output_type": "execute_result"
    }
   ],
   "source": [
    "arr3d[0, 0, 0]"
   ]
  },
  {
   "cell_type": "code",
   "execution_count": 41,
   "metadata": {
    "colab": {
     "base_uri": "https://localhost:8080/",
     "height": 35
    },
    "colab_type": "code",
    "id": "rE-cD0LPhrbJ",
    "outputId": "73146977-5f42-4e39-dd13-ec7726dea0bb"
   },
   "outputs": [
    {
     "data": {
      "text/plain": [
       "9"
      ]
     },
     "execution_count": 41,
     "metadata": {},
     "output_type": "execute_result"
    }
   ],
   "source": [
    "arr3d[1, 0, 2]"
   ]
  },
  {
   "cell_type": "code",
   "execution_count": 42,
   "metadata": {
    "colab": {
     "base_uri": "https://localhost:8080/",
     "height": 35
    },
    "colab_type": "code",
    "id": "mLFyHS7zht2J",
    "outputId": "fd6c5f01-b125-4071-d460-21915b5a0dc8"
   },
   "outputs": [
    {
     "data": {
      "text/plain": [
       "9"
      ]
     },
     "execution_count": 42,
     "metadata": {},
     "output_type": "execute_result"
    }
   ],
   "source": [
    "i = 1\n",
    "j = 0\n",
    "k = 2\n",
    "arr3d[i, j, k]"
   ]
  },
  {
   "cell_type": "code",
   "execution_count": 43,
   "metadata": {
    "colab": {
     "base_uri": "https://localhost:8080/",
     "height": 54
    },
    "colab_type": "code",
    "id": "XmLT4eulh0aH",
    "outputId": "dd488edd-cfd9-45c8-9b9f-11b5dc312708"
   },
   "outputs": [
    {
     "data": {
      "text/plain": [
       "array([[ 7,  8,  9],\n",
       "       [10, 11, 12]])"
      ]
     },
     "execution_count": 43,
     "metadata": {},
     "output_type": "execute_result"
    }
   ],
   "source": [
    "arr3d[1, :, :]"
   ]
  },
  {
   "cell_type": "code",
   "execution_count": 44,
   "metadata": {
    "colab": {
     "base_uri": "https://localhost:8080/",
     "height": 54
    },
    "colab_type": "code",
    "id": "VnlCRvchh5pU",
    "outputId": "c40c4d44-7bc0-482c-86b2-d890a541bf04"
   },
   "outputs": [
    {
     "data": {
      "text/plain": [
       "array([[ 4,  5,  6],\n",
       "       [10, 11, 12]])"
      ]
     },
     "execution_count": 44,
     "metadata": {},
     "output_type": "execute_result"
    }
   ],
   "source": [
    "arr3d[:, 1, :]"
   ]
  },
  {
   "cell_type": "code",
   "execution_count": 45,
   "metadata": {
    "colab": {
     "base_uri": "https://localhost:8080/",
     "height": 109
    },
    "colab_type": "code",
    "id": "CpWBFasIh91a",
    "outputId": "f37cb2a8-ee09-4e43-84e3-42e12cff7a70"
   },
   "outputs": [
    {
     "data": {
      "text/plain": [
       "array([[[ 1,  2],\n",
       "        [ 4,  5]],\n",
       "\n",
       "       [[ 7,  8],\n",
       "        [10, 11]]])"
      ]
     },
     "execution_count": 45,
     "metadata": {},
     "output_type": "execute_result"
    }
   ],
   "source": [
    "arr3d[:, :, 0:2]"
   ]
  },
  {
   "cell_type": "code",
   "execution_count": 46,
   "metadata": {
    "colab": {
     "base_uri": "https://localhost:8080/",
     "height": 109
    },
    "colab_type": "code",
    "id": "JB1yfo7LiG8U",
    "outputId": "3d99eb15-76b1-40bf-9b32-4580b1fdb6b7"
   },
   "outputs": [
    {
     "data": {
      "text/plain": [
       "array([[[False,  True, False],\n",
       "        [ True, False,  True]],\n",
       "\n",
       "       [[False,  True, False],\n",
       "        [ True, False,  True]]])"
      ]
     },
     "execution_count": 46,
     "metadata": {},
     "output_type": "execute_result"
    }
   ],
   "source": [
    "arr3d % 2 == 0"
   ]
  },
  {
   "cell_type": "code",
   "execution_count": 47,
   "metadata": {
    "colab": {
     "base_uri": "https://localhost:8080/",
     "height": 35
    },
    "colab_type": "code",
    "id": "nZItXOJTidcC",
    "outputId": "0b9703da-02f1-4cb4-d894-04125faf9106"
   },
   "outputs": [
    {
     "data": {
      "text/plain": [
       "array([ 1,  3,  5,  7,  9, 11])"
      ]
     },
     "execution_count": 47,
     "metadata": {},
     "output_type": "execute_result"
    }
   ],
   "source": [
    "arr3d[arr3d % 2 == 1]"
   ]
  },
  {
   "cell_type": "code",
   "execution_count": 48,
   "metadata": {
    "colab": {
     "base_uri": "https://localhost:8080/",
     "height": 35
    },
    "colab_type": "code",
    "id": "UUMa3DzGisvm",
    "outputId": "9ed7b824-6693-4ed3-c34a-525d883660ff"
   },
   "outputs": [
    {
     "data": {
      "text/plain": [
       "array([ 5,  7,  9, 11])"
      ]
     },
     "execution_count": 48,
     "metadata": {},
     "output_type": "execute_result"
    }
   ],
   "source": [
    "arr3d[(arr3d % 2 == 1) & (arr3d > 3)]"
   ]
  },
  {
   "cell_type": "code",
   "execution_count": 49,
   "metadata": {
    "colab": {},
    "colab_type": "code",
    "id": "sNpho7Fii71I"
   },
   "outputs": [],
   "source": [
    "arr_slice = arr3d[:, :, 0:2]"
   ]
  },
  {
   "cell_type": "code",
   "execution_count": 50,
   "metadata": {
    "colab": {
     "base_uri": "https://localhost:8080/",
     "height": 35
    },
    "colab_type": "code",
    "id": "e0tImPWtjKZq",
    "outputId": "1a2d4df5-ef18-4dca-90ce-1a567ebc1dea"
   },
   "outputs": [
    {
     "name": "stdout",
     "output_type": "stream",
     "text": [
      "<class 'numpy.ndarray'>\n"
     ]
    }
   ],
   "source": [
    "print(type(arr_slice))"
   ]
  },
  {
   "cell_type": "code",
   "execution_count": 51,
   "metadata": {
    "colab": {
     "base_uri": "https://localhost:8080/",
     "height": 35
    },
    "colab_type": "code",
    "id": "wW8qbXG3jMz_",
    "outputId": "783e8263-b5dc-478b-ebe5-3f2e79ab5d16"
   },
   "outputs": [
    {
     "data": {
      "text/plain": [
       "3"
      ]
     },
     "execution_count": 51,
     "metadata": {},
     "output_type": "execute_result"
    }
   ],
   "source": [
    "arr_slice.ndim"
   ]
  },
  {
   "cell_type": "code",
   "execution_count": 52,
   "metadata": {
    "colab": {
     "base_uri": "https://localhost:8080/",
     "height": 35
    },
    "colab_type": "code",
    "id": "vPihxiG5jOlq",
    "outputId": "20d2b611-3d58-49fb-da0a-f32b70e4c2de"
   },
   "outputs": [
    {
     "data": {
      "text/plain": [
       "(2, 2, 2)"
      ]
     },
     "execution_count": 52,
     "metadata": {},
     "output_type": "execute_result"
    }
   ],
   "source": [
    "arr_slice.shape"
   ]
  },
  {
   "cell_type": "code",
   "execution_count": 53,
   "metadata": {
    "colab": {
     "base_uri": "https://localhost:8080/",
     "height": 35
    },
    "colab_type": "code",
    "id": "zaHMiAmjjPxs",
    "outputId": "f9ad936f-0e9a-4970-fd21-8e76f656e274"
   },
   "outputs": [
    {
     "data": {
      "text/plain": [
       "2"
      ]
     },
     "execution_count": 53,
     "metadata": {},
     "output_type": "execute_result"
    }
   ],
   "source": [
    "arr_slice[0, 0, 1]"
   ]
  },
  {
   "cell_type": "code",
   "execution_count": 54,
   "metadata": {
    "colab": {},
    "colab_type": "code",
    "id": "eTlgT-ACjTRu"
   },
   "outputs": [],
   "source": [
    "arr_slice[0, 0, 0] = 1729"
   ]
  },
  {
   "cell_type": "code",
   "execution_count": 55,
   "metadata": {
    "colab": {
     "base_uri": "https://localhost:8080/",
     "height": 109
    },
    "colab_type": "code",
    "id": "mDHn_xdUjYfM",
    "outputId": "7ad9978a-9866-43e2-838d-b2e735686fe1"
   },
   "outputs": [
    {
     "data": {
      "text/plain": [
       "array([[[1729,    2],\n",
       "        [   4,    5]],\n",
       "\n",
       "       [[   7,    8],\n",
       "        [  10,   11]]])"
      ]
     },
     "execution_count": 55,
     "metadata": {},
     "output_type": "execute_result"
    }
   ],
   "source": [
    "arr_slice"
   ]
  },
  {
   "cell_type": "code",
   "execution_count": 56,
   "metadata": {
    "colab": {
     "base_uri": "https://localhost:8080/",
     "height": 109
    },
    "colab_type": "code",
    "id": "OGxEtXe6jZPu",
    "outputId": "d7fe6d0f-606a-4a90-dbe2-974d7895bdd8"
   },
   "outputs": [
    {
     "data": {
      "text/plain": [
       "array([[[1729,    2,    3],\n",
       "        [   4,    5,    6]],\n",
       "\n",
       "       [[   7,    8,    9],\n",
       "        [  10,   11,   12]]])"
      ]
     },
     "execution_count": 56,
     "metadata": {},
     "output_type": "execute_result"
    }
   ],
   "source": [
    "arr3d"
   ]
  },
  {
   "cell_type": "code",
   "execution_count": 57,
   "metadata": {
    "colab": {},
    "colab_type": "code",
    "id": "zrZaEpZLjdna"
   },
   "outputs": [],
   "source": [
    "arr_slice = np.copy(arr3d[:, :, 0:2])"
   ]
  },
  {
   "cell_type": "code",
   "execution_count": 58,
   "metadata": {
    "colab": {},
    "colab_type": "code",
    "id": "0sID_b9bjtIy"
   },
   "outputs": [],
   "source": [
    "arr_slice[0, 0, 0] = 1"
   ]
  },
  {
   "cell_type": "code",
   "execution_count": 59,
   "metadata": {
    "colab": {
     "base_uri": "https://localhost:8080/",
     "height": 109
    },
    "colab_type": "code",
    "id": "LcjLIsrijvUn",
    "outputId": "897e4c61-042a-4cf2-cf1e-f38a32f7d03b"
   },
   "outputs": [
    {
     "data": {
      "text/plain": [
       "array([[[ 1,  2],\n",
       "        [ 4,  5]],\n",
       "\n",
       "       [[ 7,  8],\n",
       "        [10, 11]]])"
      ]
     },
     "execution_count": 59,
     "metadata": {},
     "output_type": "execute_result"
    }
   ],
   "source": [
    "arr_slice"
   ]
  },
  {
   "cell_type": "code",
   "execution_count": 70,
   "metadata": {
    "colab": {
     "base_uri": "https://localhost:8080/",
     "height": 109
    },
    "colab_type": "code",
    "id": "zrGt18rdjwIh",
    "outputId": "c1c1d240-e70a-4935-f651-b41a9550132d"
   },
   "outputs": [
    {
     "data": {
      "text/plain": [
       "array([[[1729,    2,    3],\n",
       "        [   4,    5,    6]],\n",
       "\n",
       "       [[   7,    8,    9],\n",
       "        [  10,   11,   12]]])"
      ]
     },
     "execution_count": 70,
     "metadata": {},
     "output_type": "execute_result"
    }
   ],
   "source": [
    "arr3d"
   ]
  },
  {
   "cell_type": "code",
   "execution_count": 71,
   "metadata": {
    "colab": {},
    "colab_type": "code",
    "id": "l5p33XQMjw43"
   },
   "outputs": [],
   "source": [
    "arr = np.random.randint(0, 10, (5))"
   ]
  },
  {
   "cell_type": "code",
   "execution_count": 72,
   "metadata": {
    "colab": {
     "base_uri": "https://localhost:8080/",
     "height": 35
    },
    "colab_type": "code",
    "id": "ceBichNRj4k7",
    "outputId": "17472078-7bd6-4120-9386-0d06e7accf04"
   },
   "outputs": [
    {
     "data": {
      "text/plain": [
       "array([4, 4, 0, 5, 4])"
      ]
     },
     "execution_count": 72,
     "metadata": {},
     "output_type": "execute_result"
    }
   ],
   "source": [
    "arr"
   ]
  },
  {
   "cell_type": "code",
   "execution_count": 73,
   "metadata": {
    "colab": {},
    "colab_type": "code",
    "id": "E13t8SUBj5Vi"
   },
   "outputs": [],
   "source": [
    "my_indices = [1, 3, 4]"
   ]
  },
  {
   "cell_type": "code",
   "execution_count": 74,
   "metadata": {
    "colab": {
     "base_uri": "https://localhost:8080/",
     "height": 35
    },
    "colab_type": "code",
    "id": "_iOe0XLPkBgw",
    "outputId": "ed2fd99c-20ec-4212-989e-80e3fedfb25f"
   },
   "outputs": [
    {
     "data": {
      "text/plain": [
       "array([4, 5, 4])"
      ]
     },
     "execution_count": 74,
     "metadata": {},
     "output_type": "execute_result"
    }
   ],
   "source": [
    "arr[my_indices]"
   ]
  },
  {
   "cell_type": "markdown",
   "metadata": {
    "colab_type": "text",
    "id": "PDFmEbTwmJyr"
   },
   "source": [
    "# Numpy Operations"
   ]
  },
  {
   "cell_type": "code",
   "execution_count": 75,
   "metadata": {
    "colab": {},
    "colab_type": "code",
    "id": "wS4XMMZykCzn"
   },
   "outputs": [],
   "source": [
    "arr1 = np.random.rand(3, 4)\n",
    "arr2 = np.random.rand(3, 4)"
   ]
  },
  {
   "cell_type": "code",
   "execution_count": 76,
   "metadata": {
    "colab": {
     "base_uri": "https://localhost:8080/",
     "height": 72
    },
    "colab_type": "code",
    "id": "DORY4pHZma5v",
    "outputId": "47d01ef9-4abb-46dc-a6bb-8abada83bf26"
   },
   "outputs": [
    {
     "data": {
      "text/plain": [
       "array([[0.28070723, 0.39766206, 0.17954339, 0.98667079],\n",
       "       [0.43874284, 0.52037897, 0.26521069, 0.5277147 ],\n",
       "       [0.30682295, 0.77133555, 0.99676419, 0.1086997 ]])"
      ]
     },
     "execution_count": 76,
     "metadata": {},
     "output_type": "execute_result"
    }
   ],
   "source": [
    "arr1"
   ]
  },
  {
   "cell_type": "code",
   "execution_count": 77,
   "metadata": {
    "colab": {
     "base_uri": "https://localhost:8080/",
     "height": 72
    },
    "colab_type": "code",
    "id": "pPVyELXgmcTh",
    "outputId": "54e41baf-4df6-4340-dea1-4109c9182ab5"
   },
   "outputs": [
    {
     "data": {
      "text/plain": [
       "array([[0.53482865, 0.77166749, 0.84613542, 0.80711873],\n",
       "       [0.66457236, 0.65519782, 0.83621638, 0.18693768],\n",
       "       [0.22193569, 0.64836536, 0.62000057, 0.99793016]])"
      ]
     },
     "execution_count": 77,
     "metadata": {},
     "output_type": "execute_result"
    }
   ],
   "source": [
    "arr2"
   ]
  },
  {
   "cell_type": "code",
   "execution_count": 78,
   "metadata": {
    "colab": {
     "base_uri": "https://localhost:8080/",
     "height": 72
    },
    "colab_type": "code",
    "id": "xoPI0KEUmOIN",
    "outputId": "9d257158-267f-4bb6-b515-4cefabaa974d"
   },
   "outputs": [
    {
     "data": {
      "text/plain": [
       "array([[0.81553588, 1.16932955, 1.02567881, 1.79378951],\n",
       "       [1.1033152 , 1.17557679, 1.10142707, 0.71465238],\n",
       "       [0.52875865, 1.41970091, 1.61676476, 1.10662986]])"
      ]
     },
     "execution_count": 78,
     "metadata": {},
     "output_type": "execute_result"
    }
   ],
   "source": [
    "arr1 + arr2"
   ]
  },
  {
   "cell_type": "code",
   "execution_count": 79,
   "metadata": {
    "colab": {
     "base_uri": "https://localhost:8080/",
     "height": 72
    },
    "colab_type": "code",
    "id": "Nge4kKKzmUCa",
    "outputId": "a290c5cf-f8f2-48bd-9c4e-58fb8b41886f"
   },
   "outputs": [
    {
     "data": {
      "text/plain": [
       "array([[-0.25412142, -0.37400543, -0.66659203,  0.17955206],\n",
       "       [-0.22582953, -0.13481886, -0.5710057 ,  0.34077703],\n",
       "       [ 0.08488726,  0.1229702 ,  0.37676361, -0.88923046]])"
      ]
     },
     "execution_count": 79,
     "metadata": {},
     "output_type": "execute_result"
    }
   ],
   "source": [
    "arr1 - arr2"
   ]
  },
  {
   "cell_type": "code",
   "execution_count": 80,
   "metadata": {
    "colab": {
     "base_uri": "https://localhost:8080/",
     "height": 72
    },
    "colab_type": "code",
    "id": "yqwgwhAlmgiC",
    "outputId": "0c633e6b-bc54-4030-e4d4-4560f0c6f962"
   },
   "outputs": [
    {
     "data": {
      "text/plain": [
       "array([[0.15013027, 0.30686288, 0.15191802, 0.79636047],\n",
       "       [0.29157636, 0.34095117, 0.22177352, 0.09864976],\n",
       "       [0.06809496, 0.50010725, 0.61799437, 0.10847471]])"
      ]
     },
     "execution_count": 80,
     "metadata": {},
     "output_type": "execute_result"
    }
   ],
   "source": [
    "arr1 * arr2"
   ]
  },
  {
   "cell_type": "code",
   "execution_count": 81,
   "metadata": {
    "colab": {
     "base_uri": "https://localhost:8080/",
     "height": 72
    },
    "colab_type": "code",
    "id": "C_o4c5b7mhs2",
    "outputId": "6a841554-b81f-4e4e-8360-68c64e7dc5f9"
   },
   "outputs": [
    {
     "data": {
      "text/plain": [
       "array([[0.52485451, 0.51532825, 0.21219226, 1.22246053],\n",
       "       [0.66018821, 0.79423183, 0.31715557, 2.82294458],\n",
       "       [1.38248584, 1.18966189, 1.60768268, 0.10892516]])"
      ]
     },
     "execution_count": 81,
     "metadata": {},
     "output_type": "execute_result"
    }
   ],
   "source": [
    "arr1 / arr2"
   ]
  },
  {
   "cell_type": "code",
   "execution_count": 82,
   "metadata": {
    "colab": {
     "base_uri": "https://localhost:8080/",
     "height": 72
    },
    "colab_type": "code",
    "id": "5girn41lmiz5",
    "outputId": "f9ebe092-888f-456c-f36c-b3bbe2ddaad0"
   },
   "outputs": [
    {
     "data": {
      "text/plain": [
       "array([[1.3240659 , 1.48834097, 1.19667082, 2.68228968],\n",
       "       [1.55075644, 1.6826652 , 1.30370562, 1.69505418],\n",
       "       [1.35910032, 2.16265266, 2.70950019, 1.11482752]])"
      ]
     },
     "execution_count": 82,
     "metadata": {},
     "output_type": "execute_result"
    }
   ],
   "source": [
    "np.exp(arr1)"
   ]
  },
  {
   "cell_type": "code",
   "execution_count": 83,
   "metadata": {
    "colab": {
     "base_uri": "https://localhost:8080/",
     "height": 72
    },
    "colab_type": "code",
    "id": "CYMOIqXvmm1E",
    "outputId": "7861960f-32b1-460a-e0b5-58d9a9e352e0"
   },
   "outputs": [
    {
     "data": {
      "text/plain": [
       "array([[0.28070723, 0.39766206, 0.17954339, 0.98667079],\n",
       "       [0.43874284, 0.52037897, 0.26521069, 0.5277147 ],\n",
       "       [0.30682295, 0.77133555, 0.99676419, 0.1086997 ]])"
      ]
     },
     "execution_count": 83,
     "metadata": {},
     "output_type": "execute_result"
    }
   ],
   "source": [
    "np.log(np.exp(arr1))"
   ]
  },
  {
   "cell_type": "code",
   "execution_count": 84,
   "metadata": {
    "colab": {
     "base_uri": "https://localhost:8080/",
     "height": 72
    },
    "colab_type": "code",
    "id": "V5rtJRhhmq5k",
    "outputId": "ffdae78c-e984-4fbd-ffb4-5711a21d53aa"
   },
   "outputs": [
    {
     "data": {
      "text/plain": [
       "array([[0.27703527, 0.38726389, 0.17858032, 0.83419464],\n",
       "       [0.42480171, 0.49720898, 0.2621126 , 0.50356025],\n",
       "       [0.30203149, 0.69709343, 0.83971826, 0.10848577]])"
      ]
     },
     "execution_count": 84,
     "metadata": {},
     "output_type": "execute_result"
    }
   ],
   "source": [
    "np.sin(arr1)"
   ]
  },
  {
   "cell_type": "code",
   "execution_count": 85,
   "metadata": {
    "colab": {
     "base_uri": "https://localhost:8080/",
     "height": 72
    },
    "colab_type": "code",
    "id": "haio7RijmyCA",
    "outputId": "db914133-cb88-4280-c0c3-d7bf3e1313e3"
   },
   "outputs": [
    {
     "data": {
      "text/plain": [
       "array([[0.96085975, 0.92196891, 0.98392534, 0.55147012],\n",
       "       [0.90528642, 0.86763082, 0.9650373 , 0.86396011],\n",
       "       [0.95329795, 0.7169803 , 0.54302232, 0.994098  ]])"
      ]
     },
     "execution_count": 85,
     "metadata": {},
     "output_type": "execute_result"
    }
   ],
   "source": [
    "np.cos(arr1)"
   ]
  },
  {
   "cell_type": "code",
   "execution_count": 86,
   "metadata": {
    "colab": {
     "base_uri": "https://localhost:8080/",
     "height": 72
    },
    "colab_type": "code",
    "id": "XB5NNm2SmzKo",
    "outputId": "3c195c03-2f5a-4c84-f30a-8266987a4301"
   },
   "outputs": [
    {
     "data": {
      "text/plain": [
       "array([[0.52981811, 0.63060452, 0.4237256 , 0.99331304],\n",
       "       [0.66237666, 0.72137297, 0.5149861 , 0.72643974],\n",
       "       [0.55391602, 0.87825711, 0.99838078, 0.32969638]])"
      ]
     },
     "execution_count": 86,
     "metadata": {},
     "output_type": "execute_result"
    }
   ],
   "source": [
    "np.sqrt(arr1)"
   ]
  },
  {
   "cell_type": "code",
   "execution_count": 87,
   "metadata": {
    "colab": {},
    "colab_type": "code",
    "id": "PmATG2ONm2KE"
   },
   "outputs": [],
   "source": [
    "arr_inv = 1 / arr1"
   ]
  },
  {
   "cell_type": "code",
   "execution_count": 88,
   "metadata": {
    "colab": {
     "base_uri": "https://localhost:8080/",
     "height": 72
    },
    "colab_type": "code",
    "id": "pZMKQOMEnCpu",
    "outputId": "be733056-f6b4-4bed-a8f6-eed4b71c594c"
   },
   "outputs": [
    {
     "data": {
      "text/plain": [
       "array([[3.56243051, 2.51469804, 5.56968436, 1.01350928],\n",
       "       [2.2792395 , 1.92167644, 3.7705871 , 1.89496331],\n",
       "       [3.25920858, 1.29645262, 1.00324632, 9.19965723]])"
      ]
     },
     "execution_count": 88,
     "metadata": {},
     "output_type": "execute_result"
    }
   ],
   "source": [
    "arr_inv"
   ]
  },
  {
   "cell_type": "code",
   "execution_count": 89,
   "metadata": {
    "colab": {},
    "colab_type": "code",
    "id": "lpgGtxC9nFDP"
   },
   "outputs": [],
   "source": [
    "arr1 = np.zeros((3, 5))"
   ]
  },
  {
   "cell_type": "code",
   "execution_count": 90,
   "metadata": {
    "colab": {
     "base_uri": "https://localhost:8080/",
     "height": 74
    },
    "colab_type": "code",
    "id": "6XF8aFa-nG3O",
    "outputId": "c4be97c6-6fa9-415d-806e-4fb5d04783bc"
   },
   "outputs": [
    {
     "name": "stderr",
     "output_type": "stream",
     "text": [
      "<ipython-input-90-99c134ef9e18>:1: RuntimeWarning: divide by zero encountered in true_divide\n",
      "  arr_inv = 1/arr1\n"
     ]
    }
   ],
   "source": [
    "arr_inv = 1/arr1"
   ]
  },
  {
   "cell_type": "code",
   "execution_count": 91,
   "metadata": {
    "colab": {
     "base_uri": "https://localhost:8080/",
     "height": 72
    },
    "colab_type": "code",
    "id": "eJ1dg9DinJi3",
    "outputId": "682bb215-f3b3-4d9c-f7d0-400105b74a9b"
   },
   "outputs": [
    {
     "name": "stdout",
     "output_type": "stream",
     "text": [
      "[[inf inf inf inf inf]\n",
      " [inf inf inf inf inf]\n",
      " [inf inf inf inf inf]]\n"
     ]
    }
   ],
   "source": [
    "print(arr_inv)"
   ]
  },
  {
   "cell_type": "code",
   "execution_count": 92,
   "metadata": {
    "colab": {
     "base_uri": "https://localhost:8080/",
     "height": 35
    },
    "colab_type": "code",
    "id": "IyX2awRPnNPM",
    "outputId": "fac4da50-1ac6-45e5-ede3-73297b700a85"
   },
   "outputs": [
    {
     "data": {
      "text/plain": [
       "True"
      ]
     },
     "execution_count": 92,
     "metadata": {},
     "output_type": "execute_result"
    }
   ],
   "source": [
    "np.isinf(arr_inv[0,0])"
   ]
  },
  {
   "cell_type": "code",
   "execution_count": 93,
   "metadata": {
    "colab": {
     "base_uri": "https://localhost:8080/",
     "height": 72
    },
    "colab_type": "code",
    "id": "Ty_C2cOznVh2",
    "outputId": "a18628c6-64a0-489a-cd5c-4750d16d26e4"
   },
   "outputs": [
    {
     "data": {
      "text/plain": [
       "array([[ True,  True,  True,  True,  True],\n",
       "       [ True,  True,  True,  True,  True],\n",
       "       [ True,  True,  True,  True,  True]])"
      ]
     },
     "execution_count": 93,
     "metadata": {},
     "output_type": "execute_result"
    }
   ],
   "source": [
    "np.isinf(arr_inv)"
   ]
  },
  {
   "cell_type": "markdown",
   "metadata": {
    "colab_type": "text",
    "id": "xPFrKz2xuH5K"
   },
   "source": [
    "# Broadcasting"
   ]
  },
  {
   "cell_type": "code",
   "execution_count": 94,
   "metadata": {
    "colab": {},
    "colab_type": "code",
    "id": "AqW-zutVsaGD"
   },
   "outputs": [],
   "source": [
    "arr1 = np.arange(6)"
   ]
  },
  {
   "cell_type": "code",
   "execution_count": 95,
   "metadata": {
    "colab": {
     "base_uri": "https://localhost:8080/",
     "height": 35
    },
    "colab_type": "code",
    "id": "sqt31ffwuLr1",
    "outputId": "8f72c221-0d08-41c0-eed5-125b68549a53"
   },
   "outputs": [
    {
     "data": {
      "text/plain": [
       "(6,)"
      ]
     },
     "execution_count": 95,
     "metadata": {},
     "output_type": "execute_result"
    }
   ],
   "source": [
    "arr1.shape"
   ]
  },
  {
   "cell_type": "code",
   "execution_count": 96,
   "metadata": {
    "colab": {
     "base_uri": "https://localhost:8080/",
     "height": 35
    },
    "colab_type": "code",
    "id": "egWan3VuuOg1",
    "outputId": "11d40114-4968-44de-fd33-997b6d5de2e9"
   },
   "outputs": [
    {
     "data": {
      "text/plain": [
       "array([0, 1, 2, 3, 4, 5])"
      ]
     },
     "execution_count": 96,
     "metadata": {},
     "output_type": "execute_result"
    }
   ],
   "source": [
    "arr1"
   ]
  },
  {
   "cell_type": "code",
   "execution_count": 97,
   "metadata": {
    "colab": {},
    "colab_type": "code",
    "id": "Xi38O_2kuQr1"
   },
   "outputs": [],
   "source": [
    "arr1 = arr1.reshape((3, 2))"
   ]
  },
  {
   "cell_type": "code",
   "execution_count": 98,
   "metadata": {
    "colab": {
     "base_uri": "https://localhost:8080/",
     "height": 35
    },
    "colab_type": "code",
    "id": "vL10s1A9uVWe",
    "outputId": "c215f998-73b7-4d91-cef3-181df1d20a5c"
   },
   "outputs": [
    {
     "data": {
      "text/plain": [
       "(3, 2)"
      ]
     },
     "execution_count": 98,
     "metadata": {},
     "output_type": "execute_result"
    }
   ],
   "source": [
    "arr1.shape"
   ]
  },
  {
   "cell_type": "code",
   "execution_count": 99,
   "metadata": {
    "colab": {
     "base_uri": "https://localhost:8080/",
     "height": 72
    },
    "colab_type": "code",
    "id": "_f1rCnWcuWyl",
    "outputId": "a4d9bc68-6eec-4eef-f6b8-1e3f9dd5b502"
   },
   "outputs": [
    {
     "data": {
      "text/plain": [
       "array([[0, 1],\n",
       "       [2, 3],\n",
       "       [4, 5]])"
      ]
     },
     "execution_count": 99,
     "metadata": {},
     "output_type": "execute_result"
    }
   ],
   "source": [
    "arr1"
   ]
  },
  {
   "cell_type": "code",
   "execution_count": 100,
   "metadata": {
    "colab": {},
    "colab_type": "code",
    "id": "IPPjvzAxuXei"
   },
   "outputs": [],
   "source": [
    "arr2 = np.arange(6).reshape((3, 2))"
   ]
  },
  {
   "cell_type": "code",
   "execution_count": 101,
   "metadata": {
    "colab": {
     "base_uri": "https://localhost:8080/",
     "height": 72
    },
    "colab_type": "code",
    "id": "C-r2H2Sjuisn",
    "outputId": "72d24e3d-3e9e-4e6f-d747-f37e57845251"
   },
   "outputs": [
    {
     "data": {
      "text/plain": [
       "array([[ 0,  2],\n",
       "       [ 4,  6],\n",
       "       [ 8, 10]])"
      ]
     },
     "execution_count": 101,
     "metadata": {},
     "output_type": "execute_result"
    }
   ],
   "source": [
    "arr1 + arr2"
   ]
  },
  {
   "cell_type": "code",
   "execution_count": 102,
   "metadata": {
    "colab": {
     "base_uri": "https://localhost:8080/",
     "height": 35
    },
    "colab_type": "code",
    "id": "9oi2bv4hukkP",
    "outputId": "1b0abb37-7106-44c7-b6d3-7ebc25e50ea9"
   },
   "outputs": [
    {
     "data": {
      "text/plain": [
       "array([[0, 1]])"
      ]
     },
     "execution_count": 102,
     "metadata": {},
     "output_type": "execute_result"
    }
   ],
   "source": [
    "arr2[0].reshape((1, 2))"
   ]
  },
  {
   "cell_type": "code",
   "execution_count": 103,
   "metadata": {
    "colab": {
     "base_uri": "https://localhost:8080/",
     "height": 72
    },
    "colab_type": "code",
    "id": "Mh_OJr-buo_W",
    "outputId": "f88a1519-3a92-4e90-cd84-97764cefc0f7"
   },
   "outputs": [
    {
     "data": {
      "text/plain": [
       "array([[0, 2],\n",
       "       [2, 4],\n",
       "       [4, 6]])"
      ]
     },
     "execution_count": 103,
     "metadata": {},
     "output_type": "execute_result"
    }
   ],
   "source": [
    "arr1 + arr2[0].reshape((1, 2)) # (3, 2) + (1, 2)"
   ]
  },
  {
   "cell_type": "code",
   "execution_count": 104,
   "metadata": {
    "colab": {
     "base_uri": "https://localhost:8080/",
     "height": 72
    },
    "colab_type": "code",
    "id": "CjJhZVV0uvW1",
    "outputId": "332a175f-4079-4742-99c5-98afb834206c"
   },
   "outputs": [
    {
     "data": {
      "text/plain": [
       "array([[0],\n",
       "       [2],\n",
       "       [4]])"
      ]
     },
     "execution_count": 104,
     "metadata": {},
     "output_type": "execute_result"
    }
   ],
   "source": [
    "arr2[:, 0].reshape((3, 1))"
   ]
  },
  {
   "cell_type": "code",
   "execution_count": 105,
   "metadata": {
    "colab": {
     "base_uri": "https://localhost:8080/",
     "height": 72
    },
    "colab_type": "code",
    "id": "pi1IdIxvvBP5",
    "outputId": "99382667-3022-4bfe-b396-027309009f29"
   },
   "outputs": [
    {
     "data": {
      "text/plain": [
       "array([[0, 1],\n",
       "       [4, 5],\n",
       "       [8, 9]])"
      ]
     },
     "execution_count": 105,
     "metadata": {},
     "output_type": "execute_result"
    }
   ],
   "source": [
    "arr1 + arr2[:, 0].reshape((3, 1)) # (3, 2) + (3, 1)"
   ]
  },
  {
   "cell_type": "code",
   "execution_count": 106,
   "metadata": {
    "colab": {
     "base_uri": "https://localhost:8080/",
     "height": 72
    },
    "colab_type": "code",
    "id": "7sbIPHp8vF9S",
    "outputId": "3d1a5fde-3570-4172-be1a-3e74587ce2c4"
   },
   "outputs": [
    {
     "data": {
      "text/plain": [
       "array([[1, 2],\n",
       "       [3, 4],\n",
       "       [5, 6]])"
      ]
     },
     "execution_count": 106,
     "metadata": {},
     "output_type": "execute_result"
    }
   ],
   "source": [
    "arr1 + 1"
   ]
  },
  {
   "cell_type": "code",
   "execution_count": 107,
   "metadata": {
    "colab": {},
    "colab_type": "code",
    "id": "A227CltQvQbI"
   },
   "outputs": [],
   "source": [
    "arr1 = np.arange(24).reshape((2, 3, 4))"
   ]
  },
  {
   "cell_type": "code",
   "execution_count": 108,
   "metadata": {
    "colab": {
     "base_uri": "https://localhost:8080/",
     "height": 146
    },
    "colab_type": "code",
    "id": "DiC-4h6uvXBa",
    "outputId": "f07aad9b-58f4-4bc6-85cb-f9d723167af7"
   },
   "outputs": [
    {
     "data": {
      "text/plain": [
       "array([[[ 0,  1,  2,  3],\n",
       "        [ 4,  5,  6,  7],\n",
       "        [ 8,  9, 10, 11]],\n",
       "\n",
       "       [[12, 13, 14, 15],\n",
       "        [16, 17, 18, 19],\n",
       "        [20, 21, 22, 23]]])"
      ]
     },
     "execution_count": 108,
     "metadata": {},
     "output_type": "execute_result"
    }
   ],
   "source": [
    "arr1"
   ]
  },
  {
   "cell_type": "code",
   "execution_count": 109,
   "metadata": {
    "colab": {},
    "colab_type": "code",
    "id": "8Erkp9HFvXao"
   },
   "outputs": [],
   "source": [
    "arr2 = np.ones((1, 4))"
   ]
  },
  {
   "cell_type": "code",
   "execution_count": 110,
   "metadata": {
    "colab": {
     "base_uri": "https://localhost:8080/",
     "height": 146
    },
    "colab_type": "code",
    "id": "2LtMmF9_vbqe",
    "outputId": "dde40933-c4cf-4e01-cbb0-4eed7e4613fc"
   },
   "outputs": [
    {
     "data": {
      "text/plain": [
       "array([[[ 1.,  2.,  3.,  4.],\n",
       "        [ 5.,  6.,  7.,  8.],\n",
       "        [ 9., 10., 11., 12.]],\n",
       "\n",
       "       [[13., 14., 15., 16.],\n",
       "        [17., 18., 19., 20.],\n",
       "        [21., 22., 23., 24.]]])"
      ]
     },
     "execution_count": 110,
     "metadata": {},
     "output_type": "execute_result"
    }
   ],
   "source": [
    "arr1 + arr2   # (2, 3, 4) + (1, 4)"
   ]
  },
  {
   "cell_type": "code",
   "execution_count": 111,
   "metadata": {
    "colab": {},
    "colab_type": "code",
    "id": "lUra2PQWvd-w"
   },
   "outputs": [],
   "source": [
    "arr1 = np.arange(4)"
   ]
  },
  {
   "cell_type": "code",
   "execution_count": 112,
   "metadata": {
    "colab": {},
    "colab_type": "code",
    "id": "Z3B-NNfcvq8j"
   },
   "outputs": [],
   "source": [
    "arr2 = np.arange(5)"
   ]
  },
  {
   "cell_type": "code",
   "execution_count": 113,
   "metadata": {
    "colab": {
     "base_uri": "https://localhost:8080/",
     "height": 35
    },
    "colab_type": "code",
    "id": "4tz_amtEvsAC",
    "outputId": "daf6a047-9999-4484-e470-9ba8aa8c61b1"
   },
   "outputs": [
    {
     "name": "stdout",
     "output_type": "stream",
     "text": [
      "(4,) (5,)\n"
     ]
    }
   ],
   "source": [
    "print(arr1.shape, arr2.shape)"
   ]
  },
  {
   "cell_type": "code",
   "execution_count": 114,
   "metadata": {
    "colab": {
     "base_uri": "https://localhost:8080/",
     "height": 191
    },
    "colab_type": "code",
    "id": "MOuOt1knvtop",
    "outputId": "2c1b1e17-c0d7-466c-9510-408a4eff1017"
   },
   "outputs": [
    {
     "ename": "ValueError",
     "evalue": "operands could not be broadcast together with shapes (4,) (5,) ",
     "output_type": "error",
     "traceback": [
      "\u001b[1;31m---------------------------------------------------------------------------\u001b[0m",
      "\u001b[1;31mValueError\u001b[0m                                Traceback (most recent call last)",
      "\u001b[1;32m<ipython-input-114-d972d21b639e>\u001b[0m in \u001b[0;36m<module>\u001b[1;34m\u001b[0m\n\u001b[1;32m----> 1\u001b[1;33m \u001b[0marr1\u001b[0m \u001b[1;33m+\u001b[0m \u001b[0marr2\u001b[0m\u001b[1;33m\u001b[0m\u001b[1;33m\u001b[0m\u001b[0m\n\u001b[0m",
      "\u001b[1;31mValueError\u001b[0m: operands could not be broadcast together with shapes (4,) (5,) "
     ]
    }
   ],
   "source": [
    "arr1 + arr2"
   ]
  },
  {
   "cell_type": "code",
   "execution_count": 116,
   "metadata": {
    "colab": {
     "base_uri": "https://localhost:8080/",
     "height": 91
    },
    "colab_type": "code",
    "id": "96hmWV1rvun3",
    "outputId": "07c2ae21-ddc9-4f38-c1b2-eed62c81f8a6"
   },
   "outputs": [
    {
     "data": {
      "text/plain": [
       "array([[0, 1, 2, 3, 4],\n",
       "       [1, 2, 3, 4, 5],\n",
       "       [2, 3, 4, 5, 6],\n",
       "       [3, 4, 5, 6, 7]])"
      ]
     },
     "execution_count": 116,
     "metadata": {},
     "output_type": "execute_result"
    }
   ],
   "source": [
    "arr1.reshape(4, 1) + arr2  # (4, 1) + (5)"
   ]
  },
  {
   "cell_type": "code",
   "execution_count": 117,
   "metadata": {
    "colab": {},
    "colab_type": "code",
    "id": "KuXYtTzFv5jX"
   },
   "outputs": [],
   "source": [
    "arr = np.random.rand(3, 3)"
   ]
  },
  {
   "cell_type": "code",
   "execution_count": 118,
   "metadata": {
    "colab": {
     "base_uri": "https://localhost:8080/",
     "height": 72
    },
    "colab_type": "code",
    "id": "1tDchCAZwEqA",
    "outputId": "5ab43c1c-4710-44c6-c01c-4569417ff559"
   },
   "outputs": [
    {
     "data": {
      "text/plain": [
       "array([[0.58947009, 0.09277912, 0.84386622],\n",
       "       [0.75273332, 0.18937703, 0.67476162],\n",
       "       [0.39145441, 0.44927494, 0.06910761]])"
      ]
     },
     "execution_count": 118,
     "metadata": {},
     "output_type": "execute_result"
    }
   ],
   "source": [
    "arr"
   ]
  },
  {
   "cell_type": "code",
   "execution_count": 119,
   "metadata": {
    "colab": {
     "base_uri": "https://localhost:8080/",
     "height": 72
    },
    "colab_type": "code",
    "id": "d8Z9SZFkwL8p",
    "outputId": "bc6ce988-a31c-47ad-8500-7c859287124b"
   },
   "outputs": [
    {
     "data": {
      "text/plain": [
       "array([[0.58947009, 0.75273332, 0.39145441],\n",
       "       [0.09277912, 0.18937703, 0.44927494],\n",
       "       [0.84386622, 0.67476162, 0.06910761]])"
      ]
     },
     "execution_count": 119,
     "metadata": {},
     "output_type": "execute_result"
    }
   ],
   "source": [
    "arr.T"
   ]
  },
  {
   "cell_type": "markdown",
   "metadata": {
    "colab_type": "text",
    "id": "sdv4it47xrkx"
   },
   "source": [
    "# File handling"
   ]
  },
  {
   "cell_type": "code",
   "execution_count": 120,
   "metadata": {
    "colab": {
     "base_uri": "https://localhost:8080/",
     "height": 344
    },
    "colab_type": "code",
    "id": "ppMyzFy8wMlv",
    "outputId": "ba3d66b5-9ff7-41a0-8dc4-b3caa559544b"
   },
   "outputs": [
    {
     "ename": "ValueError",
     "evalue": "could not convert string to float: 'MERCURY'",
     "output_type": "error",
     "traceback": [
      "\u001b[1;31m---------------------------------------------------------------------------\u001b[0m",
      "\u001b[1;31mValueError\u001b[0m                                Traceback (most recent call last)",
      "\u001b[1;32m<ipython-input-120-6f92f0fddb44>\u001b[0m in \u001b[0;36m<module>\u001b[1;34m\u001b[0m\n\u001b[1;32m----> 1\u001b[1;33m \u001b[0mplanets_small\u001b[0m \u001b[1;33m=\u001b[0m \u001b[0mnp\u001b[0m\u001b[1;33m.\u001b[0m\u001b[0mloadtxt\u001b[0m\u001b[1;33m(\u001b[0m\u001b[1;34m\"planets_small.txt\"\u001b[0m\u001b[1;33m)\u001b[0m\u001b[1;33m\u001b[0m\u001b[1;33m\u001b[0m\u001b[0m\n\u001b[0m",
      "\u001b[1;32m~\\anaconda3\\lib\\site-packages\\numpy\\lib\\npyio.py\u001b[0m in \u001b[0;36mloadtxt\u001b[1;34m(fname, dtype, comments, delimiter, converters, skiprows, usecols, unpack, ndmin, encoding, max_rows)\u001b[0m\n\u001b[0;32m   1137\u001b[0m         \u001b[1;31m# converting the data\u001b[0m\u001b[1;33m\u001b[0m\u001b[1;33m\u001b[0m\u001b[1;33m\u001b[0m\u001b[0m\n\u001b[0;32m   1138\u001b[0m         \u001b[0mX\u001b[0m \u001b[1;33m=\u001b[0m \u001b[1;32mNone\u001b[0m\u001b[1;33m\u001b[0m\u001b[1;33m\u001b[0m\u001b[0m\n\u001b[1;32m-> 1139\u001b[1;33m         \u001b[1;32mfor\u001b[0m \u001b[0mx\u001b[0m \u001b[1;32min\u001b[0m \u001b[0mread_data\u001b[0m\u001b[1;33m(\u001b[0m\u001b[0m_loadtxt_chunksize\u001b[0m\u001b[1;33m)\u001b[0m\u001b[1;33m:\u001b[0m\u001b[1;33m\u001b[0m\u001b[1;33m\u001b[0m\u001b[0m\n\u001b[0m\u001b[0;32m   1140\u001b[0m             \u001b[1;32mif\u001b[0m \u001b[0mX\u001b[0m \u001b[1;32mis\u001b[0m \u001b[1;32mNone\u001b[0m\u001b[1;33m:\u001b[0m\u001b[1;33m\u001b[0m\u001b[1;33m\u001b[0m\u001b[0m\n\u001b[0;32m   1141\u001b[0m                 \u001b[0mX\u001b[0m \u001b[1;33m=\u001b[0m \u001b[0mnp\u001b[0m\u001b[1;33m.\u001b[0m\u001b[0marray\u001b[0m\u001b[1;33m(\u001b[0m\u001b[0mx\u001b[0m\u001b[1;33m,\u001b[0m \u001b[0mdtype\u001b[0m\u001b[1;33m)\u001b[0m\u001b[1;33m\u001b[0m\u001b[1;33m\u001b[0m\u001b[0m\n",
      "\u001b[1;32m~\\anaconda3\\lib\\site-packages\\numpy\\lib\\npyio.py\u001b[0m in \u001b[0;36mread_data\u001b[1;34m(chunk_size)\u001b[0m\n\u001b[0;32m   1065\u001b[0m \u001b[1;33m\u001b[0m\u001b[0m\n\u001b[0;32m   1066\u001b[0m             \u001b[1;31m# Convert each value according to its column and store\u001b[0m\u001b[1;33m\u001b[0m\u001b[1;33m\u001b[0m\u001b[1;33m\u001b[0m\u001b[0m\n\u001b[1;32m-> 1067\u001b[1;33m             \u001b[0mitems\u001b[0m \u001b[1;33m=\u001b[0m \u001b[1;33m[\u001b[0m\u001b[0mconv\u001b[0m\u001b[1;33m(\u001b[0m\u001b[0mval\u001b[0m\u001b[1;33m)\u001b[0m \u001b[1;32mfor\u001b[0m \u001b[1;33m(\u001b[0m\u001b[0mconv\u001b[0m\u001b[1;33m,\u001b[0m \u001b[0mval\u001b[0m\u001b[1;33m)\u001b[0m \u001b[1;32min\u001b[0m \u001b[0mzip\u001b[0m\u001b[1;33m(\u001b[0m\u001b[0mconverters\u001b[0m\u001b[1;33m,\u001b[0m \u001b[0mvals\u001b[0m\u001b[1;33m)\u001b[0m\u001b[1;33m]\u001b[0m\u001b[1;33m\u001b[0m\u001b[1;33m\u001b[0m\u001b[0m\n\u001b[0m\u001b[0;32m   1068\u001b[0m \u001b[1;33m\u001b[0m\u001b[0m\n\u001b[0;32m   1069\u001b[0m             \u001b[1;31m# Then pack it according to the dtype's nesting\u001b[0m\u001b[1;33m\u001b[0m\u001b[1;33m\u001b[0m\u001b[1;33m\u001b[0m\u001b[0m\n",
      "\u001b[1;32m~\\anaconda3\\lib\\site-packages\\numpy\\lib\\npyio.py\u001b[0m in \u001b[0;36m<listcomp>\u001b[1;34m(.0)\u001b[0m\n\u001b[0;32m   1065\u001b[0m \u001b[1;33m\u001b[0m\u001b[0m\n\u001b[0;32m   1066\u001b[0m             \u001b[1;31m# Convert each value according to its column and store\u001b[0m\u001b[1;33m\u001b[0m\u001b[1;33m\u001b[0m\u001b[1;33m\u001b[0m\u001b[0m\n\u001b[1;32m-> 1067\u001b[1;33m             \u001b[0mitems\u001b[0m \u001b[1;33m=\u001b[0m \u001b[1;33m[\u001b[0m\u001b[0mconv\u001b[0m\u001b[1;33m(\u001b[0m\u001b[0mval\u001b[0m\u001b[1;33m)\u001b[0m \u001b[1;32mfor\u001b[0m \u001b[1;33m(\u001b[0m\u001b[0mconv\u001b[0m\u001b[1;33m,\u001b[0m \u001b[0mval\u001b[0m\u001b[1;33m)\u001b[0m \u001b[1;32min\u001b[0m \u001b[0mzip\u001b[0m\u001b[1;33m(\u001b[0m\u001b[0mconverters\u001b[0m\u001b[1;33m,\u001b[0m \u001b[0mvals\u001b[0m\u001b[1;33m)\u001b[0m\u001b[1;33m]\u001b[0m\u001b[1;33m\u001b[0m\u001b[1;33m\u001b[0m\u001b[0m\n\u001b[0m\u001b[0;32m   1068\u001b[0m \u001b[1;33m\u001b[0m\u001b[0m\n\u001b[0;32m   1069\u001b[0m             \u001b[1;31m# Then pack it according to the dtype's nesting\u001b[0m\u001b[1;33m\u001b[0m\u001b[1;33m\u001b[0m\u001b[1;33m\u001b[0m\u001b[0m\n",
      "\u001b[1;32m~\\anaconda3\\lib\\site-packages\\numpy\\lib\\npyio.py\u001b[0m in \u001b[0;36mfloatconv\u001b[1;34m(x)\u001b[0m\n\u001b[0;32m    761\u001b[0m         \u001b[1;32mif\u001b[0m \u001b[1;34m'0x'\u001b[0m \u001b[1;32min\u001b[0m \u001b[0mx\u001b[0m\u001b[1;33m:\u001b[0m\u001b[1;33m\u001b[0m\u001b[1;33m\u001b[0m\u001b[0m\n\u001b[0;32m    762\u001b[0m             \u001b[1;32mreturn\u001b[0m \u001b[0mfloat\u001b[0m\u001b[1;33m.\u001b[0m\u001b[0mfromhex\u001b[0m\u001b[1;33m(\u001b[0m\u001b[0mx\u001b[0m\u001b[1;33m)\u001b[0m\u001b[1;33m\u001b[0m\u001b[1;33m\u001b[0m\u001b[0m\n\u001b[1;32m--> 763\u001b[1;33m         \u001b[1;32mreturn\u001b[0m \u001b[0mfloat\u001b[0m\u001b[1;33m(\u001b[0m\u001b[0mx\u001b[0m\u001b[1;33m)\u001b[0m\u001b[1;33m\u001b[0m\u001b[1;33m\u001b[0m\u001b[0m\n\u001b[0m\u001b[0;32m    764\u001b[0m \u001b[1;33m\u001b[0m\u001b[0m\n\u001b[0;32m    765\u001b[0m     \u001b[0mtyp\u001b[0m \u001b[1;33m=\u001b[0m \u001b[0mdtype\u001b[0m\u001b[1;33m.\u001b[0m\u001b[0mtype\u001b[0m\u001b[1;33m\u001b[0m\u001b[1;33m\u001b[0m\u001b[0m\n",
      "\u001b[1;31mValueError\u001b[0m: could not convert string to float: 'MERCURY'"
     ]
    }
   ],
   "source": [
    "planets_small = np.loadtxt(\"planets_small.txt\")"
   ]
  },
  {
   "cell_type": "code",
   "execution_count": 121,
   "metadata": {
    "colab": {
     "base_uri": "https://localhost:8080/",
     "height": 362
    },
    "colab_type": "code",
    "id": "b1mnLTjDyGus",
    "outputId": "20af8172-1b6e-4e2c-9253-d74625cd29d9"
   },
   "outputs": [
    {
     "ename": "ValueError",
     "evalue": "could not convert string to float: 'Mass'",
     "output_type": "error",
     "traceback": [
      "\u001b[1;31m---------------------------------------------------------------------------\u001b[0m",
      "\u001b[1;31mValueError\u001b[0m                                Traceback (most recent call last)",
      "\u001b[1;32m<ipython-input-121-6454be431268>\u001b[0m in \u001b[0;36m<module>\u001b[1;34m\u001b[0m\n\u001b[1;32m----> 1\u001b[1;33m planets_small = np.loadtxt(\"planets_small.txt\", \n\u001b[0m\u001b[0;32m      2\u001b[0m                            skiprows = 1)\n",
      "\u001b[1;32m~\\anaconda3\\lib\\site-packages\\numpy\\lib\\npyio.py\u001b[0m in \u001b[0;36mloadtxt\u001b[1;34m(fname, dtype, comments, delimiter, converters, skiprows, usecols, unpack, ndmin, encoding, max_rows)\u001b[0m\n\u001b[0;32m   1137\u001b[0m         \u001b[1;31m# converting the data\u001b[0m\u001b[1;33m\u001b[0m\u001b[1;33m\u001b[0m\u001b[1;33m\u001b[0m\u001b[0m\n\u001b[0;32m   1138\u001b[0m         \u001b[0mX\u001b[0m \u001b[1;33m=\u001b[0m \u001b[1;32mNone\u001b[0m\u001b[1;33m\u001b[0m\u001b[1;33m\u001b[0m\u001b[0m\n\u001b[1;32m-> 1139\u001b[1;33m         \u001b[1;32mfor\u001b[0m \u001b[0mx\u001b[0m \u001b[1;32min\u001b[0m \u001b[0mread_data\u001b[0m\u001b[1;33m(\u001b[0m\u001b[0m_loadtxt_chunksize\u001b[0m\u001b[1;33m)\u001b[0m\u001b[1;33m:\u001b[0m\u001b[1;33m\u001b[0m\u001b[1;33m\u001b[0m\u001b[0m\n\u001b[0m\u001b[0;32m   1140\u001b[0m             \u001b[1;32mif\u001b[0m \u001b[0mX\u001b[0m \u001b[1;32mis\u001b[0m \u001b[1;32mNone\u001b[0m\u001b[1;33m:\u001b[0m\u001b[1;33m\u001b[0m\u001b[1;33m\u001b[0m\u001b[0m\n\u001b[0;32m   1141\u001b[0m                 \u001b[0mX\u001b[0m \u001b[1;33m=\u001b[0m \u001b[0mnp\u001b[0m\u001b[1;33m.\u001b[0m\u001b[0marray\u001b[0m\u001b[1;33m(\u001b[0m\u001b[0mx\u001b[0m\u001b[1;33m,\u001b[0m \u001b[0mdtype\u001b[0m\u001b[1;33m)\u001b[0m\u001b[1;33m\u001b[0m\u001b[1;33m\u001b[0m\u001b[0m\n",
      "\u001b[1;32m~\\anaconda3\\lib\\site-packages\\numpy\\lib\\npyio.py\u001b[0m in \u001b[0;36mread_data\u001b[1;34m(chunk_size)\u001b[0m\n\u001b[0;32m   1065\u001b[0m \u001b[1;33m\u001b[0m\u001b[0m\n\u001b[0;32m   1066\u001b[0m             \u001b[1;31m# Convert each value according to its column and store\u001b[0m\u001b[1;33m\u001b[0m\u001b[1;33m\u001b[0m\u001b[1;33m\u001b[0m\u001b[0m\n\u001b[1;32m-> 1067\u001b[1;33m             \u001b[0mitems\u001b[0m \u001b[1;33m=\u001b[0m \u001b[1;33m[\u001b[0m\u001b[0mconv\u001b[0m\u001b[1;33m(\u001b[0m\u001b[0mval\u001b[0m\u001b[1;33m)\u001b[0m \u001b[1;32mfor\u001b[0m \u001b[1;33m(\u001b[0m\u001b[0mconv\u001b[0m\u001b[1;33m,\u001b[0m \u001b[0mval\u001b[0m\u001b[1;33m)\u001b[0m \u001b[1;32min\u001b[0m \u001b[0mzip\u001b[0m\u001b[1;33m(\u001b[0m\u001b[0mconverters\u001b[0m\u001b[1;33m,\u001b[0m \u001b[0mvals\u001b[0m\u001b[1;33m)\u001b[0m\u001b[1;33m]\u001b[0m\u001b[1;33m\u001b[0m\u001b[1;33m\u001b[0m\u001b[0m\n\u001b[0m\u001b[0;32m   1068\u001b[0m \u001b[1;33m\u001b[0m\u001b[0m\n\u001b[0;32m   1069\u001b[0m             \u001b[1;31m# Then pack it according to the dtype's nesting\u001b[0m\u001b[1;33m\u001b[0m\u001b[1;33m\u001b[0m\u001b[1;33m\u001b[0m\u001b[0m\n",
      "\u001b[1;32m~\\anaconda3\\lib\\site-packages\\numpy\\lib\\npyio.py\u001b[0m in \u001b[0;36m<listcomp>\u001b[1;34m(.0)\u001b[0m\n\u001b[0;32m   1065\u001b[0m \u001b[1;33m\u001b[0m\u001b[0m\n\u001b[0;32m   1066\u001b[0m             \u001b[1;31m# Convert each value according to its column and store\u001b[0m\u001b[1;33m\u001b[0m\u001b[1;33m\u001b[0m\u001b[1;33m\u001b[0m\u001b[0m\n\u001b[1;32m-> 1067\u001b[1;33m             \u001b[0mitems\u001b[0m \u001b[1;33m=\u001b[0m \u001b[1;33m[\u001b[0m\u001b[0mconv\u001b[0m\u001b[1;33m(\u001b[0m\u001b[0mval\u001b[0m\u001b[1;33m)\u001b[0m \u001b[1;32mfor\u001b[0m \u001b[1;33m(\u001b[0m\u001b[0mconv\u001b[0m\u001b[1;33m,\u001b[0m \u001b[0mval\u001b[0m\u001b[1;33m)\u001b[0m \u001b[1;32min\u001b[0m \u001b[0mzip\u001b[0m\u001b[1;33m(\u001b[0m\u001b[0mconverters\u001b[0m\u001b[1;33m,\u001b[0m \u001b[0mvals\u001b[0m\u001b[1;33m)\u001b[0m\u001b[1;33m]\u001b[0m\u001b[1;33m\u001b[0m\u001b[1;33m\u001b[0m\u001b[0m\n\u001b[0m\u001b[0;32m   1068\u001b[0m \u001b[1;33m\u001b[0m\u001b[0m\n\u001b[0;32m   1069\u001b[0m             \u001b[1;31m# Then pack it according to the dtype's nesting\u001b[0m\u001b[1;33m\u001b[0m\u001b[1;33m\u001b[0m\u001b[1;33m\u001b[0m\u001b[0m\n",
      "\u001b[1;32m~\\anaconda3\\lib\\site-packages\\numpy\\lib\\npyio.py\u001b[0m in \u001b[0;36mfloatconv\u001b[1;34m(x)\u001b[0m\n\u001b[0;32m    761\u001b[0m         \u001b[1;32mif\u001b[0m \u001b[1;34m'0x'\u001b[0m \u001b[1;32min\u001b[0m \u001b[0mx\u001b[0m\u001b[1;33m:\u001b[0m\u001b[1;33m\u001b[0m\u001b[1;33m\u001b[0m\u001b[0m\n\u001b[0;32m    762\u001b[0m             \u001b[1;32mreturn\u001b[0m \u001b[0mfloat\u001b[0m\u001b[1;33m.\u001b[0m\u001b[0mfromhex\u001b[0m\u001b[1;33m(\u001b[0m\u001b[0mx\u001b[0m\u001b[1;33m)\u001b[0m\u001b[1;33m\u001b[0m\u001b[1;33m\u001b[0m\u001b[0m\n\u001b[1;32m--> 763\u001b[1;33m         \u001b[1;32mreturn\u001b[0m \u001b[0mfloat\u001b[0m\u001b[1;33m(\u001b[0m\u001b[0mx\u001b[0m\u001b[1;33m)\u001b[0m\u001b[1;33m\u001b[0m\u001b[1;33m\u001b[0m\u001b[0m\n\u001b[0m\u001b[0;32m    764\u001b[0m \u001b[1;33m\u001b[0m\u001b[0m\n\u001b[0;32m    765\u001b[0m     \u001b[0mtyp\u001b[0m \u001b[1;33m=\u001b[0m \u001b[0mdtype\u001b[0m\u001b[1;33m.\u001b[0m\u001b[0mtype\u001b[0m\u001b[1;33m\u001b[0m\u001b[1;33m\u001b[0m\u001b[0m\n",
      "\u001b[1;31mValueError\u001b[0m: could not convert string to float: 'Mass'"
     ]
    }
   ],
   "source": [
    "planets_small = np.loadtxt(\"planets_small.txt\", \n",
    "                           skiprows = 1)"
   ]
  },
  {
   "cell_type": "code",
   "execution_count": 122,
   "metadata": {
    "colab": {},
    "colab_type": "code",
    "id": "IRLelnnkyN_H"
   },
   "outputs": [],
   "source": [
    "planets_small = np.loadtxt(\"planets_small.txt\", \n",
    "                           skiprows = 1,\n",
    "                           usecols = (1, 2, 3, 4, 5, 6, 7, 8, 9))"
   ]
  },
  {
   "cell_type": "code",
   "execution_count": 123,
   "metadata": {
    "colab": {
     "base_uri": "https://localhost:8080/",
     "height": 128
    },
    "colab_type": "code",
    "id": "Jo4QP-nxydfF",
    "outputId": "f8c62a7f-c1cd-4051-b878-4411cd2d2b67"
   },
   "outputs": [
    {
     "data": {
      "text/plain": [
       "array([[3.3000e-01, 4.8700e+00, 5.9700e+00, 6.4200e-01, 1.8980e+03,\n",
       "        5.6800e+02, 8.6800e+01, 1.0200e+02, 1.4600e-02],\n",
       "       [5.7900e+01, 1.0820e+02, 1.4960e+02, 2.2790e+02, 7.7860e+02,\n",
       "        1.4335e+03, 2.8725e+03, 4.4951e+03, 5.9064e+03],\n",
       "       [4.2226e+03, 2.8020e+03, 2.4000e+01, 2.4700e+01, 9.9000e+00,\n",
       "        1.0700e+01, 1.7200e+01, 1.6100e+01, 1.5330e+02]])"
      ]
     },
     "execution_count": 123,
     "metadata": {},
     "output_type": "execute_result"
    }
   ],
   "source": [
    "planets_small"
   ]
  },
  {
   "cell_type": "code",
   "execution_count": 124,
   "metadata": {
    "colab": {
     "base_uri": "https://localhost:8080/",
     "height": 35
    },
    "colab_type": "code",
    "id": "WkOAVl0-yhh6",
    "outputId": "9b0362c2-d0e6-4af5-9e0d-803df30b2058"
   },
   "outputs": [
    {
     "data": {
      "text/plain": [
       "(3, 9)"
      ]
     },
     "execution_count": 124,
     "metadata": {},
     "output_type": "execute_result"
    }
   ],
   "source": [
    "planets_small.shape"
   ]
  },
  {
   "cell_type": "code",
   "execution_count": 125,
   "metadata": {
    "colab": {
     "base_uri": "https://localhost:8080/",
     "height": 381
    },
    "colab_type": "code",
    "id": "XaP-9AMpyjMr",
    "outputId": "b8dfd87d-5bb8-48dd-fd17-834445261d59"
   },
   "outputs": [
    {
     "ename": "ValueError",
     "evalue": "could not convert string to float: 'Unknown'",
     "output_type": "error",
     "traceback": [
      "\u001b[1;31m---------------------------------------------------------------------------\u001b[0m",
      "\u001b[1;31mValueError\u001b[0m                                Traceback (most recent call last)",
      "\u001b[1;32m<ipython-input-125-a02f02f99111>\u001b[0m in \u001b[0;36m<module>\u001b[1;34m\u001b[0m\n\u001b[1;32m----> 1\u001b[1;33m planets = np.loadtxt(\"planets.txt\", \n\u001b[0m\u001b[0;32m      2\u001b[0m                            \u001b[0mskiprows\u001b[0m \u001b[1;33m=\u001b[0m \u001b[1;36m1\u001b[0m\u001b[1;33m,\u001b[0m\u001b[1;33m\u001b[0m\u001b[1;33m\u001b[0m\u001b[0m\n\u001b[0;32m      3\u001b[0m                            usecols = (1, 2, 3, 4, 5, 6, 7, 8, 9))\n",
      "\u001b[1;32m~\\anaconda3\\lib\\site-packages\\numpy\\lib\\npyio.py\u001b[0m in \u001b[0;36mloadtxt\u001b[1;34m(fname, dtype, comments, delimiter, converters, skiprows, usecols, unpack, ndmin, encoding, max_rows)\u001b[0m\n\u001b[0;32m   1137\u001b[0m         \u001b[1;31m# converting the data\u001b[0m\u001b[1;33m\u001b[0m\u001b[1;33m\u001b[0m\u001b[1;33m\u001b[0m\u001b[0m\n\u001b[0;32m   1138\u001b[0m         \u001b[0mX\u001b[0m \u001b[1;33m=\u001b[0m \u001b[1;32mNone\u001b[0m\u001b[1;33m\u001b[0m\u001b[1;33m\u001b[0m\u001b[0m\n\u001b[1;32m-> 1139\u001b[1;33m         \u001b[1;32mfor\u001b[0m \u001b[0mx\u001b[0m \u001b[1;32min\u001b[0m \u001b[0mread_data\u001b[0m\u001b[1;33m(\u001b[0m\u001b[0m_loadtxt_chunksize\u001b[0m\u001b[1;33m)\u001b[0m\u001b[1;33m:\u001b[0m\u001b[1;33m\u001b[0m\u001b[1;33m\u001b[0m\u001b[0m\n\u001b[0m\u001b[0;32m   1140\u001b[0m             \u001b[1;32mif\u001b[0m \u001b[0mX\u001b[0m \u001b[1;32mis\u001b[0m \u001b[1;32mNone\u001b[0m\u001b[1;33m:\u001b[0m\u001b[1;33m\u001b[0m\u001b[1;33m\u001b[0m\u001b[0m\n\u001b[0;32m   1141\u001b[0m                 \u001b[0mX\u001b[0m \u001b[1;33m=\u001b[0m \u001b[0mnp\u001b[0m\u001b[1;33m.\u001b[0m\u001b[0marray\u001b[0m\u001b[1;33m(\u001b[0m\u001b[0mx\u001b[0m\u001b[1;33m,\u001b[0m \u001b[0mdtype\u001b[0m\u001b[1;33m)\u001b[0m\u001b[1;33m\u001b[0m\u001b[1;33m\u001b[0m\u001b[0m\n",
      "\u001b[1;32m~\\anaconda3\\lib\\site-packages\\numpy\\lib\\npyio.py\u001b[0m in \u001b[0;36mread_data\u001b[1;34m(chunk_size)\u001b[0m\n\u001b[0;32m   1065\u001b[0m \u001b[1;33m\u001b[0m\u001b[0m\n\u001b[0;32m   1066\u001b[0m             \u001b[1;31m# Convert each value according to its column and store\u001b[0m\u001b[1;33m\u001b[0m\u001b[1;33m\u001b[0m\u001b[1;33m\u001b[0m\u001b[0m\n\u001b[1;32m-> 1067\u001b[1;33m             \u001b[0mitems\u001b[0m \u001b[1;33m=\u001b[0m \u001b[1;33m[\u001b[0m\u001b[0mconv\u001b[0m\u001b[1;33m(\u001b[0m\u001b[0mval\u001b[0m\u001b[1;33m)\u001b[0m \u001b[1;32mfor\u001b[0m \u001b[1;33m(\u001b[0m\u001b[0mconv\u001b[0m\u001b[1;33m,\u001b[0m \u001b[0mval\u001b[0m\u001b[1;33m)\u001b[0m \u001b[1;32min\u001b[0m \u001b[0mzip\u001b[0m\u001b[1;33m(\u001b[0m\u001b[0mconverters\u001b[0m\u001b[1;33m,\u001b[0m \u001b[0mvals\u001b[0m\u001b[1;33m)\u001b[0m\u001b[1;33m]\u001b[0m\u001b[1;33m\u001b[0m\u001b[1;33m\u001b[0m\u001b[0m\n\u001b[0m\u001b[0;32m   1068\u001b[0m \u001b[1;33m\u001b[0m\u001b[0m\n\u001b[0;32m   1069\u001b[0m             \u001b[1;31m# Then pack it according to the dtype's nesting\u001b[0m\u001b[1;33m\u001b[0m\u001b[1;33m\u001b[0m\u001b[1;33m\u001b[0m\u001b[0m\n",
      "\u001b[1;32m~\\anaconda3\\lib\\site-packages\\numpy\\lib\\npyio.py\u001b[0m in \u001b[0;36m<listcomp>\u001b[1;34m(.0)\u001b[0m\n\u001b[0;32m   1065\u001b[0m \u001b[1;33m\u001b[0m\u001b[0m\n\u001b[0;32m   1066\u001b[0m             \u001b[1;31m# Convert each value according to its column and store\u001b[0m\u001b[1;33m\u001b[0m\u001b[1;33m\u001b[0m\u001b[1;33m\u001b[0m\u001b[0m\n\u001b[1;32m-> 1067\u001b[1;33m             \u001b[0mitems\u001b[0m \u001b[1;33m=\u001b[0m \u001b[1;33m[\u001b[0m\u001b[0mconv\u001b[0m\u001b[1;33m(\u001b[0m\u001b[0mval\u001b[0m\u001b[1;33m)\u001b[0m \u001b[1;32mfor\u001b[0m \u001b[1;33m(\u001b[0m\u001b[0mconv\u001b[0m\u001b[1;33m,\u001b[0m \u001b[0mval\u001b[0m\u001b[1;33m)\u001b[0m \u001b[1;32min\u001b[0m \u001b[0mzip\u001b[0m\u001b[1;33m(\u001b[0m\u001b[0mconverters\u001b[0m\u001b[1;33m,\u001b[0m \u001b[0mvals\u001b[0m\u001b[1;33m)\u001b[0m\u001b[1;33m]\u001b[0m\u001b[1;33m\u001b[0m\u001b[1;33m\u001b[0m\u001b[0m\n\u001b[0m\u001b[0;32m   1068\u001b[0m \u001b[1;33m\u001b[0m\u001b[0m\n\u001b[0;32m   1069\u001b[0m             \u001b[1;31m# Then pack it according to the dtype's nesting\u001b[0m\u001b[1;33m\u001b[0m\u001b[1;33m\u001b[0m\u001b[1;33m\u001b[0m\u001b[0m\n",
      "\u001b[1;32m~\\anaconda3\\lib\\site-packages\\numpy\\lib\\npyio.py\u001b[0m in \u001b[0;36mfloatconv\u001b[1;34m(x)\u001b[0m\n\u001b[0;32m    761\u001b[0m         \u001b[1;32mif\u001b[0m \u001b[1;34m'0x'\u001b[0m \u001b[1;32min\u001b[0m \u001b[0mx\u001b[0m\u001b[1;33m:\u001b[0m\u001b[1;33m\u001b[0m\u001b[1;33m\u001b[0m\u001b[0m\n\u001b[0;32m    762\u001b[0m             \u001b[1;32mreturn\u001b[0m \u001b[0mfloat\u001b[0m\u001b[1;33m.\u001b[0m\u001b[0mfromhex\u001b[0m\u001b[1;33m(\u001b[0m\u001b[0mx\u001b[0m\u001b[1;33m)\u001b[0m\u001b[1;33m\u001b[0m\u001b[1;33m\u001b[0m\u001b[0m\n\u001b[1;32m--> 763\u001b[1;33m         \u001b[1;32mreturn\u001b[0m \u001b[0mfloat\u001b[0m\u001b[1;33m(\u001b[0m\u001b[0mx\u001b[0m\u001b[1;33m)\u001b[0m\u001b[1;33m\u001b[0m\u001b[1;33m\u001b[0m\u001b[0m\n\u001b[0m\u001b[0;32m    764\u001b[0m \u001b[1;33m\u001b[0m\u001b[0m\n\u001b[0;32m    765\u001b[0m     \u001b[0mtyp\u001b[0m \u001b[1;33m=\u001b[0m \u001b[0mdtype\u001b[0m\u001b[1;33m.\u001b[0m\u001b[0mtype\u001b[0m\u001b[1;33m\u001b[0m\u001b[1;33m\u001b[0m\u001b[0m\n",
      "\u001b[1;31mValueError\u001b[0m: could not convert string to float: 'Unknown'"
     ]
    }
   ],
   "source": [
    "planets = np.loadtxt(\"planets.txt\", \n",
    "                           skiprows = 1,\n",
    "                           usecols = (1, 2, 3, 4, 5, 6, 7, 8, 9))"
   ]
  },
  {
   "cell_type": "code",
   "execution_count": 126,
   "metadata": {
    "colab": {},
    "colab_type": "code",
    "id": "BkDNlxogy5Hy"
   },
   "outputs": [],
   "source": [
    "planets = np.genfromtxt(\"planets.txt\", \n",
    "                        skip_header=1, \n",
    "                        usecols = [1, 2, 3, 4, 5, 6, 7, 8, 9])"
   ]
  },
  {
   "cell_type": "code",
   "execution_count": 127,
   "metadata": {
    "colab": {
     "base_uri": "https://localhost:8080/",
     "height": 1000
    },
    "colab_type": "code",
    "id": "BdJiRATnzHua",
    "outputId": "3ddddece-939f-4552-a99b-5c3a722abb28"
   },
   "outputs": [
    {
     "data": {
      "text/plain": [
       "array([[ 3.30000e-01,  4.87000e+00,  5.97000e+00,  7.30000e-02,\n",
       "         6.42000e-01,  1.89800e+03,  5.68000e+02,  8.68000e+01,\n",
       "         1.02000e+02],\n",
       "       [ 4.87900e+03,  1.21040e+04,  1.27560e+04,  3.47500e+03,\n",
       "         6.79200e+03,  1.42984e+05,  1.20536e+05,  5.11180e+04,\n",
       "         4.95280e+04],\n",
       "       [ 5.42700e+03,  5.24300e+03,  5.51400e+03,  3.34000e+03,\n",
       "         3.93300e+03,  1.32600e+03,  6.87000e+02,  1.27100e+03,\n",
       "         1.63800e+03],\n",
       "       [ 3.70000e+00,  8.90000e+00,  9.80000e+00,  1.60000e+00,\n",
       "         3.70000e+00,  2.31000e+01,  9.00000e+00,  8.70000e+00,\n",
       "         1.10000e+01],\n",
       "       [ 4.30000e+00,  1.04000e+01,  1.12000e+01,  2.40000e+00,\n",
       "         5.00000e+00,  5.95000e+01,  3.55000e+01,  2.13000e+01,\n",
       "         2.35000e+01],\n",
       "       [ 1.40760e+03, -5.83250e+03,  2.39000e+01,  6.55700e+02,\n",
       "         2.46000e+01,  9.90000e+00,  1.07000e+01, -1.72000e+01,\n",
       "         1.61000e+01],\n",
       "       [ 4.22260e+03,  2.80200e+03,  2.40000e+01,  7.08700e+02,\n",
       "         2.47000e+01,  9.90000e+00,  1.07000e+01,  1.72000e+01,\n",
       "         1.61000e+01],\n",
       "       [ 5.79000e+01,  1.08200e+02,  1.49600e+02,  3.84000e-01,\n",
       "         2.27900e+02,  7.78600e+02,  1.43350e+03,  2.87250e+03,\n",
       "         4.49510e+03],\n",
       "       [ 4.60000e+01,  1.07500e+02,  1.47100e+02,  3.63000e-01,\n",
       "         2.06600e+02,  7.40500e+02,  1.35260e+03,  2.74130e+03,\n",
       "         4.44450e+03],\n",
       "       [ 6.98000e+01,  1.08900e+02,  1.52100e+02,  4.06000e-01,\n",
       "         2.49200e+02,  8.16600e+02,  1.51450e+03,  3.00360e+03,\n",
       "         4.54570e+03],\n",
       "       [ 8.80000e+01,  2.24700e+02,  3.65200e+02,  2.73000e+01,\n",
       "         6.87000e+02,  4.33100e+03,  1.07470e+04,  3.05890e+04,\n",
       "         5.98000e+04],\n",
       "       [ 4.74000e+01,  3.50000e+01,  2.98000e+01,  1.00000e+00,\n",
       "         2.41000e+01,  1.31000e+01,  9.70000e+00,  6.80000e+00,\n",
       "         5.40000e+00],\n",
       "       [ 7.00000e+00,  3.40000e+00,  0.00000e+00,  5.10000e+00,\n",
       "         1.90000e+00,  1.30000e+00,  2.50000e+00,  8.00000e-01,\n",
       "         1.80000e+00],\n",
       "       [ 2.05000e-01,  7.00000e-03,  1.70000e-02,  5.50000e-02,\n",
       "         9.40000e-02,  4.90000e-02,  5.70000e-02,  4.60000e-02,\n",
       "         1.10000e-02],\n",
       "       [ 3.40000e-02,  1.77400e+02,  2.34000e+01,  6.70000e+00,\n",
       "         2.52000e+01,  3.10000e+00,  2.67000e+01,  9.78000e+01,\n",
       "         2.83000e+01],\n",
       "       [ 1.67000e+02,  4.64000e+02,  1.50000e+01, -2.00000e+01,\n",
       "        -6.50000e+01, -1.10000e+02, -1.40000e+02, -1.95000e+02,\n",
       "        -2.00000e+02],\n",
       "       [ 0.00000e+00,  9.20000e+01,  1.00000e+00,  0.00000e+00,\n",
       "         1.00000e-02,          nan,          nan,          nan,\n",
       "                 nan],\n",
       "       [ 0.00000e+00,  0.00000e+00,  1.00000e+00,  0.00000e+00,\n",
       "         2.00000e+00,  7.90000e+01,  8.20000e+01,  2.70000e+01,\n",
       "         1.40000e+01],\n",
       "       [ 0.00000e+00,  0.00000e+00,  0.00000e+00,  0.00000e+00,\n",
       "         0.00000e+00,  1.00000e+00,  1.00000e+00,  1.00000e+00,\n",
       "         1.00000e+00],\n",
       "       [ 1.00000e+00,  0.00000e+00,  1.00000e+00,  0.00000e+00,\n",
       "         0.00000e+00,  1.00000e+00,  1.00000e+00,  1.00000e+00,\n",
       "         1.00000e+00]])"
      ]
     },
     "execution_count": 127,
     "metadata": {},
     "output_type": "execute_result"
    }
   ],
   "source": [
    "planets"
   ]
  },
  {
   "cell_type": "code",
   "execution_count": 128,
   "metadata": {
    "colab": {
     "base_uri": "https://localhost:8080/",
     "height": 35
    },
    "colab_type": "code",
    "id": "eXi-f2VIzIka",
    "outputId": "a279cbe3-3458-4513-9093-3c8af6e1ea72"
   },
   "outputs": [
    {
     "data": {
      "text/plain": [
       "(20, 9)"
      ]
     },
     "execution_count": 128,
     "metadata": {},
     "output_type": "execute_result"
    }
   ],
   "source": [
    "planets.shape"
   ]
  },
  {
   "cell_type": "code",
   "execution_count": 129,
   "metadata": {
    "colab": {
     "base_uri": "https://localhost:8080/",
     "height": 385
    },
    "colab_type": "code",
    "id": "SKjq-4lwzN_P",
    "outputId": "f1104b09-334e-41c7-84e0-07ce5804012e"
   },
   "outputs": [
    {
     "data": {
      "text/plain": [
       "array([[False, False, False, False, False, False, False, False, False],\n",
       "       [False, False, False, False, False, False, False, False, False],\n",
       "       [False, False, False, False, False, False, False, False, False],\n",
       "       [False, False, False, False, False, False, False, False, False],\n",
       "       [False, False, False, False, False, False, False, False, False],\n",
       "       [False, False, False, False, False, False, False, False, False],\n",
       "       [False, False, False, False, False, False, False, False, False],\n",
       "       [False, False, False, False, False, False, False, False, False],\n",
       "       [False, False, False, False, False, False, False, False, False],\n",
       "       [False, False, False, False, False, False, False, False, False],\n",
       "       [False, False, False, False, False, False, False, False, False],\n",
       "       [False, False, False, False, False, False, False, False, False],\n",
       "       [False, False, False, False, False, False, False, False, False],\n",
       "       [False, False, False, False, False, False, False, False, False],\n",
       "       [False, False, False, False, False, False, False, False, False],\n",
       "       [False, False, False, False, False, False, False, False, False],\n",
       "       [False, False, False, False, False,  True,  True,  True,  True],\n",
       "       [False, False, False, False, False, False, False, False, False],\n",
       "       [False, False, False, False, False, False, False, False, False],\n",
       "       [False, False, False, False, False, False, False, False, False]])"
      ]
     },
     "execution_count": 129,
     "metadata": {},
     "output_type": "execute_result"
    }
   ],
   "source": [
    "np.isnan(planets)"
   ]
  },
  {
   "cell_type": "code",
   "execution_count": 130,
   "metadata": {
    "colab": {},
    "colab_type": "code",
    "id": "Lu7qVwJNzUYP"
   },
   "outputs": [],
   "source": [
    "planets_new = np.nan_to_num(planets, nan=-1)"
   ]
  },
  {
   "cell_type": "code",
   "execution_count": 131,
   "metadata": {
    "colab": {
     "base_uri": "https://localhost:8080/",
     "height": 1000
    },
    "colab_type": "code",
    "id": "UA8toJwJznvn",
    "outputId": "bb603d84-1fb6-4242-bf5f-d7c98eae99bf"
   },
   "outputs": [
    {
     "data": {
      "text/plain": [
       "array([[ 3.30000e-01,  4.87000e+00,  5.97000e+00,  7.30000e-02,\n",
       "         6.42000e-01,  1.89800e+03,  5.68000e+02,  8.68000e+01,\n",
       "         1.02000e+02],\n",
       "       [ 4.87900e+03,  1.21040e+04,  1.27560e+04,  3.47500e+03,\n",
       "         6.79200e+03,  1.42984e+05,  1.20536e+05,  5.11180e+04,\n",
       "         4.95280e+04],\n",
       "       [ 5.42700e+03,  5.24300e+03,  5.51400e+03,  3.34000e+03,\n",
       "         3.93300e+03,  1.32600e+03,  6.87000e+02,  1.27100e+03,\n",
       "         1.63800e+03],\n",
       "       [ 3.70000e+00,  8.90000e+00,  9.80000e+00,  1.60000e+00,\n",
       "         3.70000e+00,  2.31000e+01,  9.00000e+00,  8.70000e+00,\n",
       "         1.10000e+01],\n",
       "       [ 4.30000e+00,  1.04000e+01,  1.12000e+01,  2.40000e+00,\n",
       "         5.00000e+00,  5.95000e+01,  3.55000e+01,  2.13000e+01,\n",
       "         2.35000e+01],\n",
       "       [ 1.40760e+03, -5.83250e+03,  2.39000e+01,  6.55700e+02,\n",
       "         2.46000e+01,  9.90000e+00,  1.07000e+01, -1.72000e+01,\n",
       "         1.61000e+01],\n",
       "       [ 4.22260e+03,  2.80200e+03,  2.40000e+01,  7.08700e+02,\n",
       "         2.47000e+01,  9.90000e+00,  1.07000e+01,  1.72000e+01,\n",
       "         1.61000e+01],\n",
       "       [ 5.79000e+01,  1.08200e+02,  1.49600e+02,  3.84000e-01,\n",
       "         2.27900e+02,  7.78600e+02,  1.43350e+03,  2.87250e+03,\n",
       "         4.49510e+03],\n",
       "       [ 4.60000e+01,  1.07500e+02,  1.47100e+02,  3.63000e-01,\n",
       "         2.06600e+02,  7.40500e+02,  1.35260e+03,  2.74130e+03,\n",
       "         4.44450e+03],\n",
       "       [ 6.98000e+01,  1.08900e+02,  1.52100e+02,  4.06000e-01,\n",
       "         2.49200e+02,  8.16600e+02,  1.51450e+03,  3.00360e+03,\n",
       "         4.54570e+03],\n",
       "       [ 8.80000e+01,  2.24700e+02,  3.65200e+02,  2.73000e+01,\n",
       "         6.87000e+02,  4.33100e+03,  1.07470e+04,  3.05890e+04,\n",
       "         5.98000e+04],\n",
       "       [ 4.74000e+01,  3.50000e+01,  2.98000e+01,  1.00000e+00,\n",
       "         2.41000e+01,  1.31000e+01,  9.70000e+00,  6.80000e+00,\n",
       "         5.40000e+00],\n",
       "       [ 7.00000e+00,  3.40000e+00,  0.00000e+00,  5.10000e+00,\n",
       "         1.90000e+00,  1.30000e+00,  2.50000e+00,  8.00000e-01,\n",
       "         1.80000e+00],\n",
       "       [ 2.05000e-01,  7.00000e-03,  1.70000e-02,  5.50000e-02,\n",
       "         9.40000e-02,  4.90000e-02,  5.70000e-02,  4.60000e-02,\n",
       "         1.10000e-02],\n",
       "       [ 3.40000e-02,  1.77400e+02,  2.34000e+01,  6.70000e+00,\n",
       "         2.52000e+01,  3.10000e+00,  2.67000e+01,  9.78000e+01,\n",
       "         2.83000e+01],\n",
       "       [ 1.67000e+02,  4.64000e+02,  1.50000e+01, -2.00000e+01,\n",
       "        -6.50000e+01, -1.10000e+02, -1.40000e+02, -1.95000e+02,\n",
       "        -2.00000e+02],\n",
       "       [ 0.00000e+00,  9.20000e+01,  1.00000e+00,  0.00000e+00,\n",
       "         1.00000e-02, -1.00000e+00, -1.00000e+00, -1.00000e+00,\n",
       "        -1.00000e+00],\n",
       "       [ 0.00000e+00,  0.00000e+00,  1.00000e+00,  0.00000e+00,\n",
       "         2.00000e+00,  7.90000e+01,  8.20000e+01,  2.70000e+01,\n",
       "         1.40000e+01],\n",
       "       [ 0.00000e+00,  0.00000e+00,  0.00000e+00,  0.00000e+00,\n",
       "         0.00000e+00,  1.00000e+00,  1.00000e+00,  1.00000e+00,\n",
       "         1.00000e+00],\n",
       "       [ 1.00000e+00,  0.00000e+00,  1.00000e+00,  0.00000e+00,\n",
       "         0.00000e+00,  1.00000e+00,  1.00000e+00,  1.00000e+00,\n",
       "         1.00000e+00]])"
      ]
     },
     "execution_count": 131,
     "metadata": {},
     "output_type": "execute_result"
    }
   ],
   "source": [
    "planets_new"
   ]
  },
  {
   "cell_type": "code",
   "execution_count": 132,
   "metadata": {
    "colab": {},
    "colab_type": "code",
    "id": "oChY4CzIzojm"
   },
   "outputs": [],
   "source": [
    "np.savetxt('planets_new.txt', planets_new, \n",
    "           delimiter=',')"
   ]
  },
  {
   "cell_type": "code",
   "execution_count": 133,
   "metadata": {
    "colab": {},
    "colab_type": "code",
    "id": "pNgTIfEuz25n"
   },
   "outputs": [],
   "source": [
    "np.save(\"planets_new\", planets_new)"
   ]
  },
  {
   "cell_type": "code",
   "execution_count": 134,
   "metadata": {
    "colab": {
     "base_uri": "https://localhost:8080/",
     "height": 128
    },
    "colab_type": "code",
    "id": "gf4lf9fa0HHn",
    "outputId": "a29f4a9b-dd97-4458-c663-047fac874ad1"
   },
   "outputs": [
    {
     "name": "stdout",
     "output_type": "stream",
     "text": [
      "total 169K\n",
      "-rw-r--r-- 1 KIIT None  66K Aug  4 10:17 FDS_W08_Lecture_NB-200320-184141.ipynb\n",
      "-rw-r--r-- 1 KIIT None  51K Aug 23  2020 FDS_W08_Solutions-200320-184141.ipynb\n",
      "-rw-r--r-- 1 KIIT None  23K Aug 23  2020 Numpy_Assignment_Solutions-200320-184846.ipynb\n",
      "-rw-r--r-- 1 KIIT None 3.0K Aug 23  2020 Numpy_Assignments_Questions-200320-184846.ipynb\n",
      "-rw-r--r-- 1 KIIT None 2.9K Aug 13  2020 cric_data-200320-181217.tsv\n",
      "-rw-r--r-- 1 KIIT None 1.5K Aug 13  2020 planets.txt\n",
      "-rw-r--r-- 1 KIIT None 1.6K Aug  4 10:25 planets_new.npy\n",
      "-rw-r--r-- 1 KIIT None 4.5K Aug  4 10:25 planets_new.txt\n",
      "-rw-r--r-- 1 KIIT None  257 Aug 13  2020 planets_small.txt\n"
     ]
    }
   ],
   "source": [
    "!ls -lh"
   ]
  },
  {
   "cell_type": "code",
   "execution_count": 135,
   "metadata": {
    "colab": {},
    "colab_type": "code",
    "id": "MtADG-X50jmk"
   },
   "outputs": [],
   "source": [
    "arr1 = np.random.rand(1000, 10)\n",
    "arr2 = np.random.rand(2000, 5)\n",
    "arr3 = np.random.rand(20, 10000)"
   ]
  },
  {
   "cell_type": "code",
   "execution_count": 136,
   "metadata": {
    "colab": {},
    "colab_type": "code",
    "id": "dEUfEAEx1DWz"
   },
   "outputs": [],
   "source": [
    "np.savez(\"many_arrs\", arr1, arr2, arr3)"
   ]
  },
  {
   "cell_type": "code",
   "execution_count": 137,
   "metadata": {
    "colab": {
     "base_uri": "https://localhost:8080/",
     "height": 146
    },
    "colab_type": "code",
    "id": "FB_bW0FJ1Len",
    "outputId": "8a8d395d-227f-445a-eda1-32749879169f"
   },
   "outputs": [
    {
     "name": "stdout",
     "output_type": "stream",
     "text": [
      "total 1.9M\n",
      "-rw-r--r-- 1 KIIT None  66K Aug  4 10:17 FDS_W08_Lecture_NB-200320-184141.ipynb\n",
      "-rw-r--r-- 1 KIIT None  51K Aug 23  2020 FDS_W08_Solutions-200320-184141.ipynb\n",
      "-rw-r--r-- 1 KIIT None  23K Aug 23  2020 Numpy_Assignment_Solutions-200320-184846.ipynb\n",
      "-rw-r--r-- 1 KIIT None 3.0K Aug 23  2020 Numpy_Assignments_Questions-200320-184846.ipynb\n",
      "-rw-r--r-- 1 KIIT None 2.9K Aug 13  2020 cric_data-200320-181217.tsv\n",
      "-rw-r--r-- 1 KIIT None 1.7M Aug  4 10:25 many_arrs.npz\n",
      "-rw-r--r-- 1 KIIT None 1.5K Aug 13  2020 planets.txt\n",
      "-rw-r--r-- 1 KIIT None 1.6K Aug  4 10:25 planets_new.npy\n",
      "-rw-r--r-- 1 KIIT None 4.5K Aug  4 10:25 planets_new.txt\n",
      "-rw-r--r-- 1 KIIT None  257 Aug 13  2020 planets_small.txt\n"
     ]
    }
   ],
   "source": [
    "!ls -lh"
   ]
  },
  {
   "cell_type": "code",
   "execution_count": 138,
   "metadata": {
    "colab": {},
    "colab_type": "code",
    "id": "fOaw1-_L1PSU"
   },
   "outputs": [],
   "source": [
    "arrs = np.load('many_arrs.npz')"
   ]
  },
  {
   "cell_type": "code",
   "execution_count": 139,
   "metadata": {
    "colab": {
     "base_uri": "https://localhost:8080/",
     "height": 35
    },
    "colab_type": "code",
    "id": "ve6dry5I1ZrS",
    "outputId": "6c2ae02c-ab6b-4cc1-f2e8-5cfc99cc314c"
   },
   "outputs": [
    {
     "name": "stdout",
     "output_type": "stream",
     "text": [
      "<class 'numpy.lib.npyio.NpzFile'>\n"
     ]
    }
   ],
   "source": [
    "print(type(arrs))"
   ]
  },
  {
   "cell_type": "code",
   "execution_count": 140,
   "metadata": {
    "colab": {
     "base_uri": "https://localhost:8080/",
     "height": 35
    },
    "colab_type": "code",
    "id": "g475ICO91bJc",
    "outputId": "cbcd1edc-5152-4b62-cbea-7fb2a65fe9eb"
   },
   "outputs": [
    {
     "data": {
      "text/plain": [
       "['arr_0', 'arr_1', 'arr_2']"
      ]
     },
     "execution_count": 140,
     "metadata": {},
     "output_type": "execute_result"
    }
   ],
   "source": [
    "arrs.files"
   ]
  },
  {
   "cell_type": "code",
   "execution_count": 141,
   "metadata": {
    "colab": {
     "base_uri": "https://localhost:8080/",
     "height": 35
    },
    "colab_type": "code",
    "id": "W-b8rSDM1ev2",
    "outputId": "f2dfc90a-16d9-4d7a-bb52-b94c4c74db91"
   },
   "outputs": [
    {
     "data": {
      "text/plain": [
       "(1000, 10)"
      ]
     },
     "execution_count": 141,
     "metadata": {},
     "output_type": "execute_result"
    }
   ],
   "source": [
    "arrs['arr_0'].shape"
   ]
  },
  {
   "cell_type": "code",
   "execution_count": 142,
   "metadata": {
    "colab": {},
    "colab_type": "code",
    "id": "An_y_y8I1jV7"
   },
   "outputs": [],
   "source": [
    "np.savez_compressed('many_arrs_compressed', \n",
    "                    arr1, arr2, arr3)"
   ]
  },
  {
   "cell_type": "code",
   "execution_count": 143,
   "metadata": {
    "colab": {
     "base_uri": "https://localhost:8080/",
     "height": 164
    },
    "colab_type": "code",
    "id": "LPXQgdsL1zMs",
    "outputId": "d6df1ab1-8005-4ed2-883c-a01e915d65fb"
   },
   "outputs": [
    {
     "name": "stdout",
     "output_type": "stream",
     "text": [
      "total 3.5M\n",
      "-rw-r--r-- 1 KIIT None  66K Aug  4 10:17 FDS_W08_Lecture_NB-200320-184141.ipynb\n",
      "-rw-r--r-- 1 KIIT None  51K Aug 23  2020 FDS_W08_Solutions-200320-184141.ipynb\n",
      "-rw-r--r-- 1 KIIT None  23K Aug 23  2020 Numpy_Assignment_Solutions-200320-184846.ipynb\n",
      "-rw-r--r-- 1 KIIT None 3.0K Aug 23  2020 Numpy_Assignments_Questions-200320-184846.ipynb\n",
      "-rw-r--r-- 1 KIIT None 2.9K Aug 13  2020 cric_data-200320-181217.tsv\n",
      "-rw-r--r-- 1 KIIT None 1.7M Aug  4 10:25 many_arrs.npz\n",
      "-rw-r--r-- 1 KIIT None 1.6M Aug  4 10:25 many_arrs_compressed.npz\n",
      "-rw-r--r-- 1 KIIT None 1.5K Aug 13  2020 planets.txt\n",
      "-rw-r--r-- 1 KIIT None 1.6K Aug  4 10:25 planets_new.npy\n",
      "-rw-r--r-- 1 KIIT None 4.5K Aug  4 10:25 planets_new.txt\n",
      "-rw-r--r-- 1 KIIT None  257 Aug 13  2020 planets_small.txt\n"
     ]
    }
   ],
   "source": [
    "!ls -lh"
   ]
  },
  {
   "cell_type": "code",
   "execution_count": 144,
   "metadata": {
    "colab": {},
    "colab_type": "code",
    "id": "skZNUe7910lu"
   },
   "outputs": [],
   "source": [
    "arr1 = np.zeros((10000, 10000))"
   ]
  },
  {
   "cell_type": "code",
   "execution_count": 145,
   "metadata": {
    "colab": {},
    "colab_type": "code",
    "id": "Xupl4oo8185T"
   },
   "outputs": [],
   "source": [
    "np.savez(\"zeros\", arr1)"
   ]
  },
  {
   "cell_type": "code",
   "execution_count": 146,
   "metadata": {
    "colab": {},
    "colab_type": "code",
    "id": "p9V0ZIfr1_cq"
   },
   "outputs": [],
   "source": [
    "np.savez_compressed(\"zeros_compressed\", arr1)"
   ]
  },
  {
   "cell_type": "code",
   "execution_count": 147,
   "metadata": {
    "colab": {
     "base_uri": "https://localhost:8080/",
     "height": 201
    },
    "colab_type": "code",
    "id": "rie8a-n92C25",
    "outputId": "a2640a20-c039-4e6c-d5d0-bcffa23e9336"
   },
   "outputs": [
    {
     "name": "stdout",
     "output_type": "stream",
     "text": [
      "total 768M\n",
      "-rw-r--r-- 1 KIIT None  66K Aug  4 10:17 FDS_W08_Lecture_NB-200320-184141.ipynb\n",
      "-rw-r--r-- 1 KIIT None  51K Aug 23  2020 FDS_W08_Solutions-200320-184141.ipynb\n",
      "-rw-r--r-- 1 KIIT None  23K Aug 23  2020 Numpy_Assignment_Solutions-200320-184846.ipynb\n",
      "-rw-r--r-- 1 KIIT None 3.0K Aug 23  2020 Numpy_Assignments_Questions-200320-184846.ipynb\n",
      "-rw-r--r-- 1 KIIT None 2.9K Aug 13  2020 cric_data-200320-181217.tsv\n",
      "-rw-r--r-- 1 KIIT None 1.7M Aug  4 10:25 many_arrs.npz\n",
      "-rw-r--r-- 1 KIIT None 1.6M Aug  4 10:25 many_arrs_compressed.npz\n",
      "-rw-r--r-- 1 KIIT None 1.5K Aug 13  2020 planets.txt\n",
      "-rw-r--r-- 1 KIIT None 1.6K Aug  4 10:25 planets_new.npy\n",
      "-rw-r--r-- 1 KIIT None 4.5K Aug  4 10:25 planets_new.txt\n",
      "-rw-r--r-- 1 KIIT None  257 Aug 13  2020 planets_small.txt\n",
      "-rw-r--r-- 1 KIIT None 763M Aug  4 10:25 zeros.npz\n",
      "-rw-r--r-- 1 KIIT None 760K Aug  4 10:25 zeros_compressed.npz\n"
     ]
    }
   ],
   "source": [
    "!ls -lh"
   ]
  },
  {
   "cell_type": "markdown",
   "metadata": {
    "colab_type": "text",
    "id": "Gbx0S1afv7J4"
   },
   "source": [
    "# Stats with NumPy"
   ]
  },
  {
   "cell_type": "code",
   "execution_count": 148,
   "metadata": {
    "colab": {},
    "colab_type": "code",
    "id": "hzPZnj7xv8LH"
   },
   "outputs": [],
   "source": [
    "arr = np.random.rand(10000000,)"
   ]
  },
  {
   "cell_type": "code",
   "execution_count": 149,
   "metadata": {
    "colab": {
     "base_uri": "https://localhost:8080/",
     "height": 35
    },
    "colab_type": "code",
    "id": "sjOiUCIswBsF",
    "outputId": "6848e15e-d635-44ab-da8e-03345401c23f"
   },
   "outputs": [
    {
     "data": {
      "text/plain": [
       "4.534931496991135e-08"
      ]
     },
     "execution_count": 149,
     "metadata": {},
     "output_type": "execute_result"
    }
   ],
   "source": [
    "np.amin(arr)"
   ]
  },
  {
   "cell_type": "code",
   "execution_count": 150,
   "metadata": {
    "colab": {
     "base_uri": "https://localhost:8080/",
     "height": 35
    },
    "colab_type": "code",
    "id": "pJzrvQk6wIBI",
    "outputId": "58d276ce-63cd-499b-e370-ebf46d4b5846"
   },
   "outputs": [
    {
     "data": {
      "text/plain": [
       "0.9999999642806386"
      ]
     },
     "execution_count": 150,
     "metadata": {},
     "output_type": "execute_result"
    }
   ],
   "source": [
    "np.amax(arr)"
   ]
  },
  {
   "cell_type": "code",
   "execution_count": 151,
   "metadata": {
    "colab": {
     "base_uri": "https://localhost:8080/",
     "height": 35
    },
    "colab_type": "code",
    "id": "Utj3RY5MwLcd",
    "outputId": "a59c2a8b-e3f9-4a77-9754-534b88c48d01"
   },
   "outputs": [
    {
     "data": {
      "text/plain": [
       "0.4999500939169886"
      ]
     },
     "execution_count": 151,
     "metadata": {},
     "output_type": "execute_result"
    }
   ],
   "source": [
    "np.mean(arr)"
   ]
  },
  {
   "cell_type": "code",
   "execution_count": 152,
   "metadata": {
    "colab": {
     "base_uri": "https://localhost:8080/",
     "height": 35
    },
    "colab_type": "code",
    "id": "QpiM58TDwPsM",
    "outputId": "974879ec-2097-484f-f73b-ca6536abbadc"
   },
   "outputs": [
    {
     "data": {
      "text/plain": [
       "0.0832996248526235"
      ]
     },
     "execution_count": 152,
     "metadata": {},
     "output_type": "execute_result"
    }
   ],
   "source": [
    "np.var(arr)"
   ]
  },
  {
   "cell_type": "code",
   "execution_count": 153,
   "metadata": {
    "colab": {
     "base_uri": "https://localhost:8080/",
     "height": 35
    },
    "colab_type": "code",
    "id": "tPqPqG03wTSC",
    "outputId": "78dfa19a-59e9-4b29-e807-5d8eee04ebb9"
   },
   "outputs": [
    {
     "data": {
      "text/plain": [
       "0.28861674388819425"
      ]
     },
     "execution_count": 153,
     "metadata": {},
     "output_type": "execute_result"
    }
   ],
   "source": [
    "np.std(arr)"
   ]
  },
  {
   "cell_type": "code",
   "execution_count": 154,
   "metadata": {
    "colab": {
     "base_uri": "https://localhost:8080/",
     "height": 35
    },
    "colab_type": "code",
    "id": "zhwze9MnwUqC",
    "outputId": "437c0bcd-4aea-4710-8bcd-bdfd7ac978a9"
   },
   "outputs": [
    {
     "data": {
      "text/plain": [
       "0.49980617588716253"
      ]
     },
     "execution_count": 154,
     "metadata": {},
     "output_type": "execute_result"
    }
   ],
   "source": [
    "np.median(arr)"
   ]
  },
  {
   "cell_type": "code",
   "execution_count": 155,
   "metadata": {
    "colab": {
     "base_uri": "https://localhost:8080/",
     "height": 35
    },
    "colab_type": "code",
    "id": "DGHAXp1UwYpe",
    "outputId": "61931c52-370a-420a-83e8-e5a1328c542f"
   },
   "outputs": [
    {
     "data": {
      "text/plain": [
       "0.49980617588716253"
      ]
     },
     "execution_count": 155,
     "metadata": {},
     "output_type": "execute_result"
    }
   ],
   "source": [
    "np.percentile(arr, 50)"
   ]
  },
  {
   "cell_type": "code",
   "execution_count": 156,
   "metadata": {
    "colab": {
     "base_uri": "https://localhost:8080/",
     "height": 35
    },
    "colab_type": "code",
    "id": "hz4lmGUJwdSD",
    "outputId": "b0875be5-ac8a-4b7b-b41b-4a00879da81f"
   },
   "outputs": [
    {
     "data": {
      "text/plain": [
       "0.100086868611581"
      ]
     },
     "execution_count": 156,
     "metadata": {},
     "output_type": "execute_result"
    }
   ],
   "source": [
    "np.percentile(arr, 10)"
   ]
  },
  {
   "cell_type": "code",
   "execution_count": 157,
   "metadata": {
    "colab": {
     "base_uri": "https://localhost:8080/",
     "height": 35
    },
    "colab_type": "code",
    "id": "dnIG-AJJwfdU",
    "outputId": "3a18a60b-ae82-4c46-bbfd-130e6c051e20"
   },
   "outputs": [
    {
     "data": {
      "text/plain": [
       "0.8999602483028822"
      ]
     },
     "execution_count": 157,
     "metadata": {},
     "output_type": "execute_result"
    }
   ],
   "source": [
    "np.percentile(arr, 90)"
   ]
  },
  {
   "cell_type": "code",
   "execution_count": 158,
   "metadata": {
    "colab": {
     "base_uri": "https://localhost:8080/",
     "height": 54
    },
    "colab_type": "code",
    "id": "dGK2Nv5hwgfm",
    "outputId": "ecd05dfb-dc15-4d40-dea4-323043d399d6"
   },
   "outputs": [
    {
     "name": "stdout",
     "output_type": "stream",
     "text": [
      "Wall time: 283 ms\n"
     ]
    }
   ],
   "source": [
    "%%time\n",
    "iqr = np.percentile(arr, 75) - np.percentile(arr, 25)"
   ]
  },
  {
   "cell_type": "code",
   "execution_count": 159,
   "metadata": {
    "colab": {
     "base_uri": "https://localhost:8080/",
     "height": 35
    },
    "colab_type": "code",
    "id": "WPiwXBeGwqbw",
    "outputId": "874df580-7e41-4de9-ae87-c31a34c7fd42"
   },
   "outputs": [
    {
     "name": "stdout",
     "output_type": "stream",
     "text": [
      "0.49978190662496214\n"
     ]
    }
   ],
   "source": [
    "print(iqr)"
   ]
  },
  {
   "cell_type": "code",
   "execution_count": 160,
   "metadata": {
    "colab": {
     "base_uri": "https://localhost:8080/",
     "height": 54
    },
    "colab_type": "code",
    "id": "v523FMvSws4N",
    "outputId": "0063177c-4cee-4a7c-b0de-347e8a801417"
   },
   "outputs": [
    {
     "name": "stdout",
     "output_type": "stream",
     "text": [
      "Wall time: 189 ms\n"
     ]
    }
   ],
   "source": [
    "%%time\n",
    "quartiles = np.percentile(arr, [25, 75])\n",
    "iqr = quartiles[1] - quartiles[0]"
   ]
  },
  {
   "cell_type": "code",
   "execution_count": 161,
   "metadata": {
    "colab": {
     "base_uri": "https://localhost:8080/",
     "height": 35
    },
    "colab_type": "code",
    "id": "0A3eBFSlxA0k",
    "outputId": "b78be5e8-6a1f-4823-affd-9ed4407abd3e"
   },
   "outputs": [
    {
     "name": "stdout",
     "output_type": "stream",
     "text": [
      "[0.25009436 0.74987626]\n"
     ]
    }
   ],
   "source": [
    "print(quartiles)"
   ]
  },
  {
   "cell_type": "code",
   "execution_count": 162,
   "metadata": {
    "colab": {
     "base_uri": "https://localhost:8080/",
     "height": 35
    },
    "colab_type": "code",
    "id": "vSFKMczcxFHM",
    "outputId": "a8432afe-9619-4f44-b25c-61ecafd974ab"
   },
   "outputs": [
    {
     "name": "stdout",
     "output_type": "stream",
     "text": [
      "0.49978190662496214\n"
     ]
    }
   ],
   "source": [
    "print(iqr)"
   ]
  },
  {
   "cell_type": "code",
   "execution_count": 163,
   "metadata": {
    "colab": {
     "base_uri": "https://localhost:8080/",
     "height": 54
    },
    "colab_type": "code",
    "id": "JovlaD8wxGGA",
    "outputId": "442aaedc-b960-4afa-c49b-f325d4dfa1c1"
   },
   "outputs": [
    {
     "data": {
      "text/plain": [
       "array([ 0.77897948,  0.71984582, -1.33072281, ..., -1.22008735,\n",
       "        1.36434697,  0.50187435])"
      ]
     },
     "execution_count": 163,
     "metadata": {},
     "output_type": "execute_result"
    }
   ],
   "source": [
    "(arr - np.mean(arr))/np.std(arr)"
   ]
  },
  {
   "cell_type": "code",
   "execution_count": 164,
   "metadata": {
    "colab": {
     "base_uri": "https://localhost:8080/",
     "height": 109
    },
    "colab_type": "code",
    "id": "zcEfRhZgxhuv",
    "outputId": "d95a2e27-7fec-4c9b-e6c3-cfe07c6163fd"
   },
   "outputs": [
    {
     "data": {
      "text/plain": [
       "(array([ 999152,  999720, 1000407, 1000757, 1001867, 1000507,  999180,\n",
       "         998695, 1000074,  999641], dtype=int64),\n",
       " array([4.53493150e-08, 1.00000037e-01, 2.00000029e-01, 3.00000021e-01,\n",
       "        4.00000013e-01, 5.00000005e-01, 5.99999997e-01, 6.99999989e-01,\n",
       "        7.99999980e-01, 8.99999972e-01, 9.99999964e-01]))"
      ]
     },
     "execution_count": 164,
     "metadata": {},
     "output_type": "execute_result"
    }
   ],
   "source": [
    "np.histogram(arr)"
   ]
  },
  {
   "cell_type": "code",
   "execution_count": 165,
   "metadata": {
    "colab": {
     "base_uri": "https://localhost:8080/",
     "height": 72
    },
    "colab_type": "code",
    "id": "LwtxZSn9xruv",
    "outputId": "d2d21648-af6f-4dde-b2b2-6d74c7f21e0a"
   },
   "outputs": [
    {
     "data": {
      "text/plain": [
       "(array([1998872, 2001164, 2002374, 1997875, 1999715], dtype=int64),\n",
       " array([4.53493150e-08, 2.00000029e-01, 4.00000013e-01, 5.99999997e-01,\n",
       "        7.99999980e-01, 9.99999964e-01]))"
      ]
     },
     "execution_count": 165,
     "metadata": {},
     "output_type": "execute_result"
    }
   ],
   "source": [
    "np.histogram(arr, bins=5)"
   ]
  },
  {
   "cell_type": "code",
   "execution_count": 166,
   "metadata": {
    "colab": {
     "base_uri": "https://localhost:8080/",
     "height": 54
    },
    "colab_type": "code",
    "id": "iTcZBG51x45W",
    "outputId": "13a3af6b-dcc0-4377-eb0b-c9c5c3417916"
   },
   "outputs": [
    {
     "data": {
      "text/plain": [
       "(array([2499092, 2502811, 2499320, 2498777], dtype=int64),\n",
       " array([0.  , 0.25, 0.5 , 0.75, 1.  ]))"
      ]
     },
     "execution_count": 166,
     "metadata": {},
     "output_type": "execute_result"
    }
   ],
   "source": [
    "np.histogram(arr, bins=[0, 0.25, 0.5, 0.75, 1])"
   ]
  },
  {
   "cell_type": "code",
   "execution_count": 167,
   "metadata": {
    "colab": {},
    "colab_type": "code",
    "id": "U0XTmMKix-Qi"
   },
   "outputs": [],
   "source": [
    "bins = [0, 0.25, 0.5, 0.75, 1]"
   ]
  },
  {
   "cell_type": "code",
   "execution_count": 168,
   "metadata": {
    "colab": {
     "base_uri": "https://localhost:8080/",
     "height": 35
    },
    "colab_type": "code",
    "id": "iDus-okdyG16",
    "outputId": "1e1d99f6-184b-4a42-c16e-0dd091e1202c"
   },
   "outputs": [
    {
     "data": {
      "text/plain": [
       "array([3, 3, 1, ..., 1, 4, 3], dtype=int64)"
      ]
     },
     "execution_count": 168,
     "metadata": {},
     "output_type": "execute_result"
    }
   ],
   "source": [
    "np.digitize(arr, bins)"
   ]
  },
  {
   "cell_type": "code",
   "execution_count": 169,
   "metadata": {
    "colab": {},
    "colab_type": "code",
    "id": "3incboaHyIfV"
   },
   "outputs": [],
   "source": [
    "arr1 = np.random.randint(0, 10, (10))"
   ]
  },
  {
   "cell_type": "code",
   "execution_count": 170,
   "metadata": {
    "colab": {
     "base_uri": "https://localhost:8080/",
     "height": 35
    },
    "colab_type": "code",
    "id": "zV79sa7tyTS0",
    "outputId": "17cba791-8023-46ae-a500-4b5fb0ecce3c"
   },
   "outputs": [
    {
     "data": {
      "text/plain": [
       "array([2, 1, 0, 3, 7, 0, 0, 0, 6, 2])"
      ]
     },
     "execution_count": 170,
     "metadata": {},
     "output_type": "execute_result"
    }
   ],
   "source": [
    "arr1"
   ]
  },
  {
   "cell_type": "code",
   "execution_count": 171,
   "metadata": {
    "colab": {},
    "colab_type": "code",
    "id": "h9HV9Q8RyT5Y"
   },
   "outputs": [],
   "source": [
    "bins = [0, 6, 10]"
   ]
  },
  {
   "cell_type": "code",
   "execution_count": 172,
   "metadata": {
    "colab": {
     "base_uri": "https://localhost:8080/",
     "height": 35
    },
    "colab_type": "code",
    "id": "VTzSC80uyXq0",
    "outputId": "d0f72a98-0c1d-4f26-9397-382895510603"
   },
   "outputs": [
    {
     "data": {
      "text/plain": [
       "array([1, 1, 1, 1, 2, 1, 1, 1, 2, 1], dtype=int64)"
      ]
     },
     "execution_count": 172,
     "metadata": {},
     "output_type": "execute_result"
    }
   ],
   "source": [
    "np.digitize(arr1, bins)"
   ]
  },
  {
   "cell_type": "code",
   "execution_count": 173,
   "metadata": {
    "colab": {
     "base_uri": "https://localhost:8080/",
     "height": 35
    },
    "colab_type": "code",
    "id": "VhJZ7RpRyY9R",
    "outputId": "034d4c56-5e67-4bbe-f527-d3b3dc0dd551"
   },
   "outputs": [
    {
     "data": {
      "text/plain": [
       "array([1, 1, 0, 1, 2, 0, 0, 0, 1, 1], dtype=int64)"
      ]
     },
     "execution_count": 173,
     "metadata": {},
     "output_type": "execute_result"
    }
   ],
   "source": [
    "np.digitize(arr1, bins, right=True)"
   ]
  },
  {
   "cell_type": "code",
   "execution_count": 174,
   "metadata": {
    "colab": {},
    "colab_type": "code",
    "id": "2PfKNg2Jylbr"
   },
   "outputs": [],
   "source": [
    "arr1 = np.random.randint(50, 80, 100) # weight"
   ]
  },
  {
   "cell_type": "code",
   "execution_count": 175,
   "metadata": {
    "colab": {},
    "colab_type": "code",
    "id": "jhNl-W2ny0Qp"
   },
   "outputs": [],
   "source": [
    "arr2 = np.random.randint(150, 185, 100) # heights"
   ]
  },
  {
   "cell_type": "code",
   "execution_count": 176,
   "metadata": {
    "colab": {},
    "colab_type": "code",
    "id": "0xbdhrDBy4Vx"
   },
   "outputs": [],
   "source": [
    "arr3 = np.random.randint(17, 22, 100) # age"
   ]
  },
  {
   "cell_type": "code",
   "execution_count": 177,
   "metadata": {
    "colab": {
     "base_uri": "https://localhost:8080/",
     "height": 35
    },
    "colab_type": "code",
    "id": "1qT2iCgPy7Hq",
    "outputId": "958b6adf-2348-4053-b498-0bce6d4cb2f0"
   },
   "outputs": [
    {
     "data": {
      "text/plain": [
       "(300,)"
      ]
     },
     "execution_count": 177,
     "metadata": {},
     "output_type": "execute_result"
    }
   ],
   "source": [
    "np.concatenate((arr1, arr2, arr3)).shape"
   ]
  },
  {
   "cell_type": "code",
   "execution_count": 178,
   "metadata": {
    "colab": {
     "base_uri": "https://localhost:8080/",
     "height": 35
    },
    "colab_type": "code",
    "id": "mBpCCPpCzL_8",
    "outputId": "fdc24d03-f447-4e15-aa6e-990f3d3ae3f5"
   },
   "outputs": [
    {
     "data": {
      "text/plain": [
       "(3, 100)"
      ]
     },
     "execution_count": 178,
     "metadata": {},
     "output_type": "execute_result"
    }
   ],
   "source": [
    "np.vstack((arr1, arr2, arr3)).shape"
   ]
  },
  {
   "cell_type": "code",
   "execution_count": 179,
   "metadata": {
    "colab": {},
    "colab_type": "code",
    "id": "WSFsv7K6zcMr"
   },
   "outputs": [],
   "source": [
    "arr2d = np.vstack((arr1, arr2, arr3))"
   ]
  },
  {
   "cell_type": "code",
   "execution_count": 180,
   "metadata": {
    "colab": {
     "base_uri": "https://localhost:8080/",
     "height": 35
    },
    "colab_type": "code",
    "id": "TPyLPXI2zkaR",
    "outputId": "b3903936-e2a1-41fe-f6a8-77968ff759bc"
   },
   "outputs": [
    {
     "data": {
      "text/plain": [
       "array([ 50, 150,  17])"
      ]
     },
     "execution_count": 180,
     "metadata": {},
     "output_type": "execute_result"
    }
   ],
   "source": [
    "np.amin(arr2d, axis=1)"
   ]
  },
  {
   "cell_type": "code",
   "execution_count": 181,
   "metadata": {
    "colab": {
     "base_uri": "https://localhost:8080/",
     "height": 35
    },
    "colab_type": "code",
    "id": "Gs28beuPzmOo",
    "outputId": "8e145e68-60e6-487f-e59a-19a282a69629"
   },
   "outputs": [
    {
     "data": {
      "text/plain": [
       "array([ 79, 184,  21])"
      ]
     },
     "execution_count": 181,
     "metadata": {},
     "output_type": "execute_result"
    }
   ],
   "source": [
    "np.amax(arr2d, axis=1)"
   ]
  },
  {
   "cell_type": "code",
   "execution_count": 182,
   "metadata": {
    "colab": {
     "base_uri": "https://localhost:8080/",
     "height": 35
    },
    "colab_type": "code",
    "id": "dOezzskxz-YP",
    "outputId": "100fb874-5a31-4017-d3ba-59035058048f"
   },
   "outputs": [
    {
     "data": {
      "text/plain": [
       "array([ 65.15, 165.38,  19.04])"
      ]
     },
     "execution_count": 182,
     "metadata": {},
     "output_type": "execute_result"
    }
   ],
   "source": [
    "np.mean(arr2d, axis=1)"
   ]
  },
  {
   "cell_type": "markdown",
   "metadata": {
    "colab_type": "text",
    "id": "VWepKz6S0-6R"
   },
   "source": [
    "# Checking stats rules with numpy"
   ]
  },
  {
   "cell_type": "markdown",
   "metadata": {
    "colab_type": "text",
    "id": "V4H98xu21BC5"
   },
   "source": [
    "## Mean subracted array has zero mean"
   ]
  },
  {
   "cell_type": "code",
   "execution_count": 183,
   "metadata": {
    "colab": {},
    "colab_type": "code",
    "id": "318AUnPqz_w4"
   },
   "outputs": [],
   "source": [
    "arr = np.random.rand(1000)"
   ]
  },
  {
   "cell_type": "code",
   "execution_count": 184,
   "metadata": {
    "colab": {},
    "colab_type": "code",
    "id": "kENdl4Xi1UGF"
   },
   "outputs": [],
   "source": [
    "mean = np.mean(arr)"
   ]
  },
  {
   "cell_type": "code",
   "execution_count": 185,
   "metadata": {
    "colab": {},
    "colab_type": "code",
    "id": "GRbvx9nh1WKE"
   },
   "outputs": [],
   "source": [
    "arr1 = arr - mean"
   ]
  },
  {
   "cell_type": "code",
   "execution_count": 186,
   "metadata": {
    "colab": {
     "base_uri": "https://localhost:8080/",
     "height": 35
    },
    "colab_type": "code",
    "id": "Dzxf2YGB1XrF",
    "outputId": "f91c9039-d62b-40e8-cf21-4d5361580bda"
   },
   "outputs": [
    {
     "data": {
      "text/plain": [
       "-4.085620730620576e-17"
      ]
     },
     "execution_count": 186,
     "metadata": {},
     "output_type": "execute_result"
    }
   ],
   "source": [
    "np.mean(arr1)"
   ]
  },
  {
   "cell_type": "markdown",
   "metadata": {
    "colab_type": "text",
    "id": "oFy2ji-A1oAn"
   },
   "source": [
    "## Computing mean with smaller set of values"
   ]
  },
  {
   "cell_type": "code",
   "execution_count": 187,
   "metadata": {
    "colab": {},
    "colab_type": "code",
    "id": "w2q417Zw1Y39"
   },
   "outputs": [],
   "source": [
    "arr = np.random.rand(1000)"
   ]
  },
  {
   "cell_type": "code",
   "execution_count": 188,
   "metadata": {
    "colab": {},
    "colab_type": "code",
    "id": "jqKIWVik1yV7"
   },
   "outputs": [
    {
     "name": "stdout",
     "output_type": "stream",
     "text": [
      "1 0.9305656730068212\n",
      "2 0.5862201831917822\n",
      "3 0.5388654005005982\n",
      "4 0.5687335549895539\n",
      "5 0.4572877825792473\n",
      "6 0.48859207040250796\n",
      "7 0.48047354037493467\n",
      "8 0.4462193257333542\n",
      "9 0.47243057051754317\n",
      "10 0.5147152132605213\n",
      "11 0.517382920702911\n",
      "12 0.5164920278064411\n",
      "13 0.5167496962366489\n",
      "14 0.5047141951838287\n",
      "15 0.5302866949224128\n",
      "16 0.5137259014189371\n",
      "17 0.5159581761830607\n",
      "18 0.5289503341034241\n",
      "19 0.5392490051328304\n",
      "20 0.5242789168677222\n",
      "21 0.5440112760078122\n",
      "22 0.5588782077546098\n",
      "23 0.5374450136124492\n",
      "24 0.5476031035160935\n",
      "25 0.5431423607464516\n",
      "26 0.5274194857309111\n",
      "27 0.5357661688786707\n",
      "28 0.5337376059927035\n",
      "29 0.5402740783287515\n",
      "30 0.5269895053923339\n",
      "31 0.5382051205634867\n",
      "32 0.5422832037682754\n",
      "33 0.5532969277631653\n",
      "34 0.5627496123829179\n",
      "35 0.5494657442404897\n",
      "36 0.5394067643822957\n",
      "37 0.5497859929718902\n",
      "38 0.5488454181119612\n",
      "39 0.5486100982585566\n",
      "40 0.5417732871880216\n",
      "41 0.5357151320021057\n",
      "42 0.5369376544886095\n",
      "43 0.5426035780302286\n",
      "44 0.535419281623555\n",
      "45 0.5365955103470867\n",
      "46 0.5356717480934997\n",
      "47 0.5426323715227043\n",
      "48 0.5381893350094926\n",
      "49 0.5317093568688442\n"
     ]
    }
   ],
   "source": [
    "for k in range(1, 50):\n",
    "    arr1 = arr[0:k]\n",
    "    print(k, np.mean(arr1))"
   ]
  },
  {
   "cell_type": "code",
   "execution_count": 189,
   "metadata": {
    "colab": {},
    "colab_type": "code",
    "id": "d-Oo2bb92TZL"
   },
   "outputs": [],
   "source": [
    "np.cumsum?"
   ]
  },
  {
   "cell_type": "code",
   "execution_count": 190,
   "metadata": {
    "colab": {},
    "colab_type": "code",
    "id": "PiaXg9-57NHs"
   },
   "outputs": [],
   "source": [
    "means = np.cumsum(arr)/np.arange(1,1001)"
   ]
  },
  {
   "cell_type": "code",
   "execution_count": 191,
   "metadata": {
    "colab": {
     "base_uri": "https://localhost:8080/",
     "height": 72
    },
    "colab_type": "code",
    "id": "kFnc0ECw7QM4",
    "outputId": "c83c514f-5d3d-44fb-caab-a663d3ce689d"
   },
   "outputs": [
    {
     "data": {
      "text/plain": [
       "array([0.93056567, 0.58622018, 0.5388654 , 0.56873355, 0.45728778,\n",
       "       0.48859207, 0.48047354, 0.44621933, 0.47243057, 0.51471521,\n",
       "       0.51738292, 0.51649203, 0.5167497 , 0.5047142 , 0.53028669])"
      ]
     },
     "execution_count": 191,
     "metadata": {},
     "output_type": "execute_result"
    }
   ],
   "source": [
    "means[0:15]"
   ]
  },
  {
   "cell_type": "markdown",
   "metadata": {
    "colab_type": "text",
    "id": "5LoAAMS28NIG"
   },
   "source": [
    "## Effect of outliers on mean and median"
   ]
  },
  {
   "cell_type": "code",
   "execution_count": 192,
   "metadata": {
    "colab": {},
    "colab_type": "code",
    "id": "qC4adtFU8KXT"
   },
   "outputs": [],
   "source": [
    "arr = np.random.randint(1, 100, 100)"
   ]
  },
  {
   "cell_type": "code",
   "execution_count": 193,
   "metadata": {
    "colab": {
     "base_uri": "https://localhost:8080/",
     "height": 35
    },
    "colab_type": "code",
    "id": "IneFGRwU8S7H",
    "outputId": "1d97a592-8f7e-4277-8bf3-0e373b0df25b"
   },
   "outputs": [
    {
     "data": {
      "text/plain": [
       "52.6"
      ]
     },
     "execution_count": 193,
     "metadata": {},
     "output_type": "execute_result"
    }
   ],
   "source": [
    "np.mean(arr)"
   ]
  },
  {
   "cell_type": "code",
   "execution_count": 194,
   "metadata": {
    "colab": {
     "base_uri": "https://localhost:8080/",
     "height": 35
    },
    "colab_type": "code",
    "id": "PIiGABZq8Tw8",
    "outputId": "f66e47fa-6ae2-4ba6-c89e-819ac0d07719"
   },
   "outputs": [
    {
     "data": {
      "text/plain": [
       "54.5"
      ]
     },
     "execution_count": 194,
     "metadata": {},
     "output_type": "execute_result"
    }
   ],
   "source": [
    "np.median(arr)"
   ]
  },
  {
   "cell_type": "code",
   "execution_count": 195,
   "metadata": {
    "colab": {},
    "colab_type": "code",
    "id": "YIt0WWPh8U2A"
   },
   "outputs": [],
   "source": [
    "arr = np.append(arr, [1000, 2000])"
   ]
  },
  {
   "cell_type": "code",
   "execution_count": 196,
   "metadata": {
    "colab": {
     "base_uri": "https://localhost:8080/",
     "height": 35
    },
    "colab_type": "code",
    "id": "s0yiwz5P8b9N",
    "outputId": "001c6e40-bedf-414e-e68b-d61a048d6364"
   },
   "outputs": [
    {
     "data": {
      "text/plain": [
       "(102,)"
      ]
     },
     "execution_count": 196,
     "metadata": {},
     "output_type": "execute_result"
    }
   ],
   "source": [
    "arr.shape"
   ]
  },
  {
   "cell_type": "code",
   "execution_count": 197,
   "metadata": {
    "colab": {
     "base_uri": "https://localhost:8080/",
     "height": 35
    },
    "colab_type": "code",
    "id": "gU97HqCo8dzZ",
    "outputId": "710fd48e-8af9-49a8-dc15-bc73a44de015"
   },
   "outputs": [
    {
     "data": {
      "text/plain": [
       "80.98039215686275"
      ]
     },
     "execution_count": 197,
     "metadata": {},
     "output_type": "execute_result"
    }
   ],
   "source": [
    "np.mean(arr)"
   ]
  },
  {
   "cell_type": "code",
   "execution_count": 198,
   "metadata": {
    "colab": {
     "base_uri": "https://localhost:8080/",
     "height": 35
    },
    "colab_type": "code",
    "id": "_3X0E37C8gCu",
    "outputId": "42d2651a-3c3e-413a-9ce7-f29a57f33b29"
   },
   "outputs": [
    {
     "data": {
      "text/plain": [
       "56.0"
      ]
     },
     "execution_count": 198,
     "metadata": {},
     "output_type": "execute_result"
    }
   ],
   "source": [
    "np.median(arr)"
   ]
  },
  {
   "cell_type": "markdown",
   "metadata": {
    "colab_type": "text",
    "id": "svLMJcYS8oV1"
   },
   "source": [
    "## Effect of scaling arrays on mean and median"
   ]
  },
  {
   "cell_type": "code",
   "execution_count": 199,
   "metadata": {
    "colab": {},
    "colab_type": "code",
    "id": "tVdjlo3v8ibT"
   },
   "outputs": [],
   "source": [
    "arr = np.random.rand(100)"
   ]
  },
  {
   "cell_type": "code",
   "execution_count": 200,
   "metadata": {
    "colab": {
     "base_uri": "https://localhost:8080/",
     "height": 35
    },
    "colab_type": "code",
    "id": "VecKVa0l8vPU",
    "outputId": "c7e23c8f-f5ed-46b1-cabe-046a87c65593"
   },
   "outputs": [
    {
     "data": {
      "text/plain": [
       "0.47738945119336795"
      ]
     },
     "execution_count": 200,
     "metadata": {},
     "output_type": "execute_result"
    }
   ],
   "source": [
    "np.mean(arr)"
   ]
  },
  {
   "cell_type": "code",
   "execution_count": 201,
   "metadata": {
    "colab": {
     "base_uri": "https://localhost:8080/",
     "height": 35
    },
    "colab_type": "code",
    "id": "FjMm5Imq8ww_",
    "outputId": "30ad1ef2-e60b-4f2c-bd23-9d36bd42964d"
   },
   "outputs": [
    {
     "data": {
      "text/plain": [
       "0.44835744775513375"
      ]
     },
     "execution_count": 201,
     "metadata": {},
     "output_type": "execute_result"
    }
   ],
   "source": [
    "np.median(arr)"
   ]
  },
  {
   "cell_type": "code",
   "execution_count": 202,
   "metadata": {
    "colab": {},
    "colab_type": "code",
    "id": "OL5RcaeM8xXd"
   },
   "outputs": [],
   "source": [
    "arr1 = 2.5 * arr + 0.65"
   ]
  },
  {
   "cell_type": "code",
   "execution_count": 203,
   "metadata": {
    "colab": {
     "base_uri": "https://localhost:8080/",
     "height": 35
    },
    "colab_type": "code",
    "id": "Y32GqKqi83f6",
    "outputId": "2b296231-a177-4ada-80d6-d4d122d072c1"
   },
   "outputs": [
    {
     "name": "stdout",
     "output_type": "stream",
     "text": [
      "1.8434736279834198 1.8434736279834198\n"
     ]
    }
   ],
   "source": [
    "print(np.mean(2.5 * arr + 0.65), \n",
    "      2.5 * np.mean(arr) + 0.65)"
   ]
  },
  {
   "cell_type": "code",
   "execution_count": 204,
   "metadata": {
    "colab": {
     "base_uri": "https://localhost:8080/",
     "height": 35
    },
    "colab_type": "code",
    "id": "jFOv_ciE9A3_",
    "outputId": "09d1f139-3450-4017-efbb-47a639a80b3c"
   },
   "outputs": [
    {
     "name": "stdout",
     "output_type": "stream",
     "text": [
      "1.7708936193878344 1.7708936193878344\n"
     ]
    }
   ],
   "source": [
    "print(np.median(2.5 * arr + 0.65), \n",
    "      2.5 * np.median(arr) + 0.65)"
   ]
  },
  {
   "cell_type": "code",
   "execution_count": 205,
   "metadata": {
    "colab": {
     "base_uri": "https://localhost:8080/",
     "height": 35
    },
    "colab_type": "code",
    "id": "ZNZ-5lZQ9I4h",
    "outputId": "0dcc08f4-329c-48af-9f88-ec339759f2fa"
   },
   "outputs": [
    {
     "name": "stdout",
     "output_type": "stream",
     "text": [
      "0.5307126613553003 0.5307126613553005\n"
     ]
    }
   ],
   "source": [
    "print(np.var(2.5 * arr + 0.65), \n",
    "      2.5*2.5*np.var(arr))"
   ]
  },
  {
   "cell_type": "code",
   "execution_count": 206,
   "metadata": {
    "colab": {
     "base_uri": "https://localhost:8080/",
     "height": 35
    },
    "colab_type": "code",
    "id": "nF_kw4jC9M8I",
    "outputId": "1feeffe6-2d41-4b11-9316-86dccca3de3c"
   },
   "outputs": [
    {
     "name": "stdout",
     "output_type": "stream",
     "text": [
      "0.7285002823302817 0.728500282330282\n"
     ]
    }
   ],
   "source": [
    "print(np.std(2.5 * arr + 0.65), \n",
    "      2.5 * np.std(arr))"
   ]
  },
  {
   "cell_type": "code",
   "execution_count": 207,
   "metadata": {
    "colab": {},
    "colab_type": "code",
    "id": "L4h0dNmr9Y5b"
   },
   "outputs": [],
   "source": [
    "arr1 = np.random.rand(100)\n",
    "arr2 = np.random.rand(100)"
   ]
  },
  {
   "cell_type": "code",
   "execution_count": 208,
   "metadata": {
    "colab": {
     "base_uri": "https://localhost:8080/",
     "height": 35
    },
    "colab_type": "code",
    "id": "y9nRViVf9gPE",
    "outputId": "d9b9bbd5-cf0e-46cd-8fb9-a45ca9ec5e52"
   },
   "outputs": [
    {
     "name": "stdout",
     "output_type": "stream",
     "text": [
      "-0.2553363417312178 -0.2553363417312178\n"
     ]
    }
   ],
   "source": [
    "print( np.mean(0.21 * arr1 - 0.75 * arr2), \n",
    "      0.21 * np.mean(arr1) - 0.75 * np.mean(arr2))"
   ]
  }
 ],
 "metadata": {
  "colab": {
   "collapsed_sections": [
    "68khGiVxYo7H",
    "NLGCUANycFKt",
    "ok07o0hHhe0k",
    "PDFmEbTwmJyr",
    "xPFrKz2xuH5K",
    "sdv4it47xrkx",
    "Gbx0S1afv7J4",
    "VWepKz6S0-6R",
    "V4H98xu21BC5",
    "oFy2ji-A1oAn",
    "5LoAAMS28NIG",
    "svLMJcYS8oV1"
   ],
   "name": "FDS_W08_Lecture_NB.ipynb",
   "provenance": []
  },
  "kernelspec": {
   "display_name": "Python 3",
   "language": "python",
   "name": "python3"
  },
  "language_info": {
   "codemirror_mode": {
    "name": "ipython",
    "version": 3
   },
   "file_extension": ".py",
   "mimetype": "text/x-python",
   "name": "python",
   "nbconvert_exporter": "python",
   "pygments_lexer": "ipython3",
   "version": "3.8.8"
  }
 },
 "nbformat": 4,
 "nbformat_minor": 1
}
