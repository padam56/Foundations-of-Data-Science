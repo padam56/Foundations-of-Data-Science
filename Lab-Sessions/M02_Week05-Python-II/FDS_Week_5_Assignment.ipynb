{
 "cells": [
  {
   "cell_type": "markdown",
   "metadata": {
    "colab_type": "text",
    "id": "a3DujwQxePjJ"
   },
   "source": [
    "#Exercise 1 <br>\n",
    "**Attempt any 3 questions**"
   ]
  },
  {
   "cell_type": "markdown",
   "metadata": {
    "colab_type": "text",
    "id": "aCVdxtQTeT3g"
   },
   "source": [
    "1.   Create a list of 10 ordered pairs **$(x,y),\\ \\ x\\ \\epsilon\\ [-6,6]$** such that they satisfy the equation **$x^2+y^2=r^2$** where **$r=6$**.\n",
    "2.   We have a list of tuple representing the name and height (in cms) of 5 students respectively. Convert the list into a dictionary so that we can access the student's height from their names. \n",
    "> ```data = [('Sumit', 183), ('Rahul', 175), ('Kritika', 170), ('Harshit', 177), ('Deepak', 162)]``` \n",
    "\n",
    "3.   Write a function which takes list of random integers as an input and returns the list all the unique values present in that list. For ex:\n",
    ">``` \n",
    "Input: [1, 2, 4, 4, 3, 2, 1, 1, 2, 4, 5, 3]\n",
    "Output : [1, 2, 3, 4, 5]\n",
    "```\n",
    "4.   Write a program to generate a dictionary that contains the number between $1$ and $n$ in the form of $(key : value) = (x : x^2)$ where $n=100$. For ex:\n",
    ">```\n",
    "If n = 7 then output will be = {0:0, 1:1, 2:4}\n",
    "```\n",
    "5.  Write a function which takes a dictionary as an input as return the list of all unique values of dictionary. For ex:\n",
    ">```\n",
    "Input : {'a':1, 'b':2, 'c':1, 'd':1, 'e':2, 'f':3, 'g':4, 'h':3, 'i':4}\n",
    "output : [1, 2, 3, 4]\n",
    "```\n",
    "6.  Write a Python program to remove newline characters from a file.\n",
    "7.  Write a Python program that takes a text file as input and returns the number of words of a given text file."
   ]
  },
  {
   "cell_type": "markdown",
   "metadata": {
    "colab_type": "text",
    "id": "BUAtttiTePgS"
   },
   "source": [
    "#Exercise 2\n",
    "**Attempt any 3 questions**"
   ]
  },
  {
   "cell_type": "markdown",
   "metadata": {
    "colab_type": "text",
    "id": "YmeXYN_6eVpJ"
   },
   "source": [
    "1.  Write a python function which accpets a tuple representing the fields (func, $x_a$) where 'func' is **any** function $f(x)$ and $x_a$ is a point on which you have to find the slope i,e; $\\frac{df(x)}{dx}$ and return a tuple of (slope, $x_a$, $f(x_a)$, $\\Delta x$)  where $\\Delta x \\to 0$ but $\\Delta x \\neq 0$.\n",
    ">   Remember : $\\lim_{\\Delta x \\to 0} \\frac{f(x_a + \\Delta x) - f(x_a)}{\\Delta x}$\n",
    "2.  Write a python function which accepts two arguments ($n$, $a$) and returns a tuple of $n$ elements where $n^{th}$ element should be : $n^{th}_{element} = 1+\\frac{a}{1!}+\\frac{a^2}{2!}+\\frac{a^3}{3!}+...+\\frac{a^n}{n!}$ and $a$ should be any positive number. (Observe the last 10 values of returned tuple if $n > 20$)\n",
    "\n",
    "3.  Write a python function which generates the list of $n$ dictionaries representing $n$ students. Each dictionary should have two keys **Name** and **Marks**, the value of **Marks** key should be a list of 10 elements representing marks in 10 subjects as $[a_1,a_2,a_3,a_4,...,a_{10}]$. Create another function which accepts such dictionary and performs operation on marks and returns a list as $[\\alpha_1,\\alpha_2,\\alpha_3,\\alpha_4,...,\\alpha_{10}]$ where $\\alpha_i = \\beta \\alpha_{i-1} + (1-\\beta)a_i$ and $\\beta = 0.99, \\alpha_0 = 1, i=1,2,3,...,10$\n",
    "4.  Create a dictionary, with **keys** should be the number from 1 to 100 (1 and 100 both inclusive) and the value should be the list of string representing whether that key is **'Prime'**, **'Fibonacci'** (if that number exist in Fibonacci sequence), **'Square'** or all of three. Also write a function which accepts a dictionary (which you will create) and string **Prime**, **Fibonacci** or **Square** and by searching through dictionary it should return a tuple of that numbers. Fo ex:\n",
    ">```\n",
    "sample_dict = {1: ['Fibonacci', 'Square'], 6: [], ..., 13: ['Prime', 'Fibonacci'], ..., 34: ['Fibonacci'], ..., 100: ['Square']}\n",
    " For second part of the question:\n",
    " seq = func_name('Fibonacci')\n",
    " print(seq) --> (1, 2, 3, 5, 8, 13, 21, ..., 89)\n",
    "```\n",
    "\n",
    "5.  Copy the below paragraph and write an ecoded text file then read the same file and reconstruct the original paragraph. You have to use $f(a)$ function for encoding and decoding the text. $f(a) = 2a + 3$,where $a$ is an **ASCII** value of charater.\n",
    ">```\n",
    "Data science is an inter-disciplinary field that uses scientific methods, processes, algorithms and systems to extract knowledge and insights from structured and unstructured data. Data science is related to data mining and big data. Data science is a \"concept to unify statistics, data analysis, machine learning and their related methods\" in order to \"understand and analyze actual phenomena\" with data. It employs techniques and theories drawn from many fields within the context of mathematics, statistics, computer science, and information science. Turing award winner Jim Gray imagined data science as a \"fourth paradigm\" of science (empirical, theoretical, computational and now data-driven) and asserted that \"everything about science is changing because of the impact of information technology\" and the data deluge. In 2015, the American Statistical Association identified database management, statistics and machine learning, and distributed and parallel systems as the three emerging foundational professional communities.\n",
    "```\n",
    "6.  Using below text, write a file named File_1.txt and you have to insert new line character after every 10 words.\n",
    ">```\n",
    "Data science is an inter-disciplinary field that uses scientific methods processes algorithms and systems to extract knowledge and insights from structured and unstructured data Data science is related to data mining and big data. Data science is a concept to unify statistics data analysis machine learning and their related methods in order to understand and analyze actual phenomena with data It employs techniques and theories drawn from many fields within the context of mathematics statistics computer science and information science Turing award winner Jim Gray imagined data science as a fourth paradigm of science empirical theoretical computational and now data driven and asserted that everything about science is changing because of the impact of information technology and the data deluge In 2015 the American Statistical Association identified database management statistics and machine learning and distributed and parallel systems as the three emerging foundational professional communities\n",
    "```"
   ]
  },
  {
   "cell_type": "markdown",
   "metadata": {
    "colab_type": "text",
    "id": "6qM9o9hXegGg"
   },
   "source": [
    "# Solutions to Exercise 1"
   ]
  },
  {
   "cell_type": "markdown",
   "metadata": {
    "colab_type": "text",
    "id": "lQ99l-3eeupP"
   },
   "source": [
    "## Solution 1"
   ]
  },
  {
   "cell_type": "code",
   "execution_count": 1,
   "metadata": {
    "colab": {
     "base_uri": "https://localhost:8080/",
     "height": 195
    },
    "colab_type": "code",
    "id": "njrQnaVDe4rj",
    "outputId": "62289af3-870c-4c85-c153-12a04f486123"
   },
   "outputs": [
    {
     "data": {
      "text/plain": [
       "[(-5, 3.3166247903554),\n",
       " (-4, 4.47213595499958),\n",
       " (-3, 5.196152422706632),\n",
       " (-2, 5.656854249492381),\n",
       " (-1, 5.916079783099616),\n",
       " (0, 6.0),\n",
       " (1, 5.916079783099616),\n",
       " (2, 5.656854249492381),\n",
       " (3, 5.196152422706632),\n",
       " (4, 4.47213595499958)]"
      ]
     },
     "execution_count": 1,
     "metadata": {},
     "output_type": "execute_result"
    }
   ],
   "source": [
    "#Given,  x**2 + y**2 = r**2\n",
    "#           OR\n",
    "# f(x) = (r**2 - x**2)**(1/2)\n",
    "\n",
    "r = 6\n",
    "odered_pairs = []\n",
    "\n",
    "def f(x):\n",
    "    return (r**2 - x**2)**(1/2)\n",
    "\n",
    "for x in range(-5, 5):\n",
    "    odered_pairs.append((x, f(x)))\n",
    "\n",
    "odered_pairs"
   ]
  },
  {
   "cell_type": "markdown",
   "metadata": {
    "colab_type": "text",
    "id": "t0Ejf9JLeuZH"
   },
   "source": [
    "## Solution 2"
   ]
  },
  {
   "cell_type": "code",
   "execution_count": 2,
   "metadata": {
    "colab": {
     "base_uri": "https://localhost:8080/",
     "height": 106
    },
    "colab_type": "code",
    "id": "IlVSdQZie-5P",
    "outputId": "4ae64af5-e699-44b4-84f1-9852468734c2"
   },
   "outputs": [
    {
     "name": "stdout",
     "output_type": "stream",
     "text": [
      "Sumit\n",
      "Rahul\n",
      "Kritika\n",
      "Harshit\n",
      "Deepak\n"
     ]
    }
   ],
   "source": [
    "## Sol. 2\n",
    "data = [('Sumit', 183), ('Rahul', 175), ('Kritika', 170), ('Harshit', 177), ('Deepak', 162)]\n",
    "student_data = {}\n",
    "\n",
    "#keys\n",
    "for i in data:\n",
    "    print(i[0])"
   ]
  },
  {
   "cell_type": "code",
   "execution_count": 3,
   "metadata": {
    "colab": {
     "base_uri": "https://localhost:8080/",
     "height": 106
    },
    "colab_type": "code",
    "id": "4Vk4r688e-1I",
    "outputId": "1fc0b9df-8bc8-47f0-d9e0-a446176847fe"
   },
   "outputs": [
    {
     "name": "stdout",
     "output_type": "stream",
     "text": [
      "183\n",
      "175\n",
      "170\n",
      "177\n",
      "162\n"
     ]
    }
   ],
   "source": [
    "#values\n",
    "for i in data:\n",
    "    print(i[1])"
   ]
  },
  {
   "cell_type": "code",
   "execution_count": 4,
   "metadata": {
    "colab": {
     "base_uri": "https://localhost:8080/",
     "height": 35
    },
    "colab_type": "code",
    "id": "ckLgBUv6e-wx",
    "outputId": "4b7201f5-66d5-4bc8-f617-4dfe306ac409"
   },
   "outputs": [
    {
     "data": {
      "text/plain": [
       "{'Sumit': 183, 'Rahul': 175, 'Kritika': 170, 'Harshit': 177, 'Deepak': 162}"
      ]
     },
     "execution_count": 4,
     "metadata": {},
     "output_type": "execute_result"
    }
   ],
   "source": [
    "for i in data:\n",
    "    student_data[i[0]] = i[1]\n",
    "student_data"
   ]
  },
  {
   "cell_type": "code",
   "execution_count": 5,
   "metadata": {
    "colab": {
     "base_uri": "https://localhost:8080/",
     "height": 35
    },
    "colab_type": "code",
    "id": "hDaASi48e-sQ",
    "outputId": "77c50024-c507-4fcb-ab23-638c9541e24d"
   },
   "outputs": [
    {
     "data": {
      "text/plain": [
       "175"
      ]
     },
     "execution_count": 5,
     "metadata": {},
     "output_type": "execute_result"
    }
   ],
   "source": [
    "student_data['Rahul']"
   ]
  },
  {
   "cell_type": "markdown",
   "metadata": {
    "colab_type": "text",
    "id": "AHBbZ8qSeuV8"
   },
   "source": [
    "## Solution 3"
   ]
  },
  {
   "cell_type": "code",
   "execution_count": 6,
   "metadata": {
    "colab": {},
    "colab_type": "code",
    "id": "SeFIW6_dfFBK"
   },
   "outputs": [],
   "source": [
    "def unique_vals(l):\n",
    "    return list(set(l))\n",
    "l = [1, 2, 4, 4, 3, 2, 1, 1, 2, 4, 5, 3]"
   ]
  },
  {
   "cell_type": "code",
   "execution_count": 7,
   "metadata": {
    "colab": {
     "base_uri": "https://localhost:8080/",
     "height": 34
    },
    "colab_type": "code",
    "id": "ardKR-7vfE-w",
    "outputId": "952f4a56-5d82-4152-9d22-544921e691e9"
   },
   "outputs": [
    {
     "data": {
      "text/plain": [
       "[1, 2, 3, 4, 5]"
      ]
     },
     "execution_count": 7,
     "metadata": {},
     "output_type": "execute_result"
    }
   ],
   "source": [
    "unique_vals(l)"
   ]
  },
  {
   "cell_type": "markdown",
   "metadata": {
    "colab_type": "text",
    "id": "fIc1euHyeuSU"
   },
   "source": [
    "## Solution 4"
   ]
  },
  {
   "cell_type": "code",
   "execution_count": 8,
   "metadata": {
    "colab": {},
    "colab_type": "code",
    "id": "7vP7F11IfInU"
   },
   "outputs": [],
   "source": [
    "def gen_dict(n):\n",
    "    sample_dict = {}\n",
    "    for i in range(n+1):\n",
    "        if i**2 > n:\n",
    "            break\n",
    "        sample_dict[i] = i**2\n",
    "    return sample_dict"
   ]
  },
  {
   "cell_type": "code",
   "execution_count": 9,
   "metadata": {
    "colab": {
     "base_uri": "https://localhost:8080/",
     "height": 35
    },
    "colab_type": "code",
    "id": "SBXfNbmifIj4",
    "outputId": "ff614e97-bb28-41ad-ffff-eb019f0e3215"
   },
   "outputs": [
    {
     "data": {
      "text/plain": [
       "{0: 0, 1: 1, 2: 4}"
      ]
     },
     "execution_count": 9,
     "metadata": {},
     "output_type": "execute_result"
    }
   ],
   "source": [
    "gen_dict(8)"
   ]
  },
  {
   "cell_type": "markdown",
   "metadata": {
    "colab_type": "text",
    "id": "7CfpJjZoeuNS"
   },
   "source": [
    "## Solution 5"
   ]
  },
  {
   "cell_type": "code",
   "execution_count": 10,
   "metadata": {
    "colab": {},
    "colab_type": "code",
    "id": "eCQcGCVsfJYw"
   },
   "outputs": [],
   "source": [
    "def find_unique_vals(inp_dict):\n",
    "    unique_elements = set()\n",
    "    for key in inp_dict:\n",
    "        unique_elements.add(inp_dict[key])\n",
    "    return unique_elements"
   ]
  },
  {
   "cell_type": "code",
   "execution_count": 11,
   "metadata": {
    "colab": {
     "base_uri": "https://localhost:8080/",
     "height": 35
    },
    "colab_type": "code",
    "id": "93dbQyi2fJV4",
    "outputId": "2a4cf531-fc57-42ca-edd0-b5e5f1d29418"
   },
   "outputs": [
    {
     "data": {
      "text/plain": [
       "{1, 2, 3, 4}"
      ]
     },
     "execution_count": 11,
     "metadata": {},
     "output_type": "execute_result"
    }
   ],
   "source": [
    "find_unique_vals({'a':1, 'b':2, 'c':1, 'd':1, 'e':2, 'f':3, 'g':4, 'h':3, 'i':4})"
   ]
  },
  {
   "cell_type": "markdown",
   "metadata": {
    "colab_type": "text",
    "id": "246cT-wseuC5"
   },
   "source": [
    "## Solution 6"
   ]
  },
  {
   "cell_type": "code",
   "execution_count": 12,
   "metadata": {
    "colab": {},
    "colab_type": "code",
    "id": "rxMZe9gRfKST"
   },
   "outputs": [],
   "source": [
    "sample_text = \"Quantum entanglement is a label for the observed physical phenomenon\\nthat occurs when a pair or group of particles is generated, interact, or share\\nspatial proximity in a way such that the quantum state of each particle\\nof the pair or group cannot be described independently of the state of the others,\\neven when the particles are separated by a large distance. The topic of\\nquantum entanglement is at the heart of the disparity between\\nclassical and quantum physics.\""
   ]
  },
  {
   "cell_type": "code",
   "execution_count": 13,
   "metadata": {
    "colab": {},
    "colab_type": "code",
    "id": "fGqvVqCHfKPg"
   },
   "outputs": [],
   "source": [
    "with open('sample text.txt', 'w') as file:\n",
    "    file.write(sample_text)"
   ]
  },
  {
   "cell_type": "code",
   "execution_count": 14,
   "metadata": {
    "colab": {
     "base_uri": "https://localhost:8080/",
     "height": 55
    },
    "colab_type": "code",
    "id": "MUZcloSBfKMx",
    "outputId": "27d37a6b-b791-45f2-bd8b-3ee117bb0457"
   },
   "outputs": [
    {
     "data": {
      "text/plain": [
       "'Quantum entanglement is a label for the observed physical phenomeno that occurs when a pair or group of particles is generated, interact, or shar spatial proximity in a way such that the quantum state of each particl of the pair or group cannot be described independently of the state of the others even when the particles are separated by a large distance. The topic o quantum entanglement is at the heart of the disparity betwee classical and quantum physic '"
      ]
     },
     "execution_count": 14,
     "metadata": {},
     "output_type": "execute_result"
    }
   ],
   "source": [
    "text = ''\n",
    "with open('sample text.txt', 'r') as file:\n",
    "    for line in file.readlines():\n",
    "        text += line[:-2] + ' '\n",
    "text"
   ]
  },
  {
   "cell_type": "markdown",
   "metadata": {
    "colab_type": "text",
    "id": "Nwb_kbK7e06J"
   },
   "source": [
    "## Solution 7"
   ]
  },
  {
   "cell_type": "code",
   "execution_count": 15,
   "metadata": {
    "colab": {},
    "colab_type": "code",
    "id": "re78eApxfLF9"
   },
   "outputs": [],
   "source": [
    "sample_text = \"Quantum entanglement is a label for the observed physical phenomenon\\nthat occurs when a pair or group of particles is generated, interact, or share\\nspatial proximity in a way such that the quantum state of each particle\\nof the pair or group cannot be described independently of the state of the others,\\neven when the particles are separated by a large distance. The topic of\\nquantum entanglement is at the heart of the disparity between\\nclassical and quantum physics.\""
   ]
  },
  {
   "cell_type": "code",
   "execution_count": 16,
   "metadata": {
    "colab": {},
    "colab_type": "code",
    "id": "QfxFeHQlfLDQ"
   },
   "outputs": [],
   "source": [
    "with open('sample text.txt', 'w') as file:\n",
    "    file.write(sample_text)"
   ]
  },
  {
   "cell_type": "code",
   "execution_count": 17,
   "metadata": {
    "colab": {
     "base_uri": "https://localhost:8080/",
     "height": 35
    },
    "colab_type": "code",
    "id": "35QLCbvLemA4",
    "outputId": "c606d596-37b0-41b7-8d86-e805ebf3ebae"
   },
   "outputs": [
    {
     "data": {
      "text/plain": [
       "467"
      ]
     },
     "execution_count": 17,
     "metadata": {},
     "output_type": "execute_result"
    }
   ],
   "source": [
    "no_of_words = 0\n",
    "with open('sample text.txt', 'r') as file:\n",
    "    for line in file.readlines():\n",
    "        no_of_words += line.__len__()\n",
    "no_of_words"
   ]
  },
  {
   "cell_type": "markdown",
   "metadata": {
    "colab_type": "text",
    "id": "2B23qoGaehE4"
   },
   "source": [
    "# Solutions to Exercise 2"
   ]
  },
  {
   "cell_type": "markdown",
   "metadata": {
    "colab_type": "text",
    "id": "jYH7krzfgD2y"
   },
   "source": [
    "## Solution 1"
   ]
  },
  {
   "cell_type": "code",
   "execution_count": 18,
   "metadata": {
    "colab": {},
    "colab_type": "code",
    "id": "qY72KsKJgFvQ"
   },
   "outputs": [],
   "source": [
    "#Sample Function (it could be any function)\n",
    "def func(x):\n",
    "    return x**2\n",
    "\n",
    "def find_derivative(data):\n",
    "    func, x_a = data\n",
    "    delta_x = 0.000001\n",
    "    f_x_a = func(x_a)\n",
    "    f_delta_x = func(x_a + delta_x)\n",
    "    return ((f_delta_x - f_x_a)/delta_x, x_a, f_x_a, delta_x)"
   ]
  },
  {
   "cell_type": "code",
   "execution_count": 19,
   "metadata": {
    "colab": {
     "base_uri": "https://localhost:8080/",
     "height": 35
    },
    "colab_type": "code",
    "id": "WCaw9ttegFso",
    "outputId": "4fad871a-fcd6-4707-b429-f294903f4172"
   },
   "outputs": [
    {
     "data": {
      "text/plain": [
       "(12.00000099998988, 6, 36, 1e-06)"
      ]
     },
     "execution_count": 19,
     "metadata": {},
     "output_type": "execute_result"
    }
   ],
   "source": [
    "#derivative of x^2 should be 2x, and we can verify that in output\n",
    "data = (func, 6)\n",
    "find_derivative(data)"
   ]
  },
  {
   "cell_type": "markdown",
   "metadata": {
    "colab_type": "text",
    "id": "AZmk7J_Lfj7y"
   },
   "source": [
    "## Solution 2"
   ]
  },
  {
   "cell_type": "code",
   "execution_count": 20,
   "metadata": {
    "colab": {},
    "colab_type": "code",
    "id": "l7EquHGBfs7M"
   },
   "outputs": [],
   "source": [
    "def factorial(n):\n",
    "    fact = 1\n",
    "    for i in range(2, n+1):\n",
    "        fact *= i\n",
    "    return fact"
   ]
  },
  {
   "cell_type": "code",
   "execution_count": 21,
   "metadata": {
    "colab": {},
    "colab_type": "code",
    "id": "zFNOXCFmfs4J"
   },
   "outputs": [],
   "source": [
    "def n_th_term(n, a):\n",
    "    term = 1\n",
    "    for i in range(1, n+1):\n",
    "        term += (a**i)/factorial(i)\n",
    "    return term"
   ]
  },
  {
   "cell_type": "code",
   "execution_count": 22,
   "metadata": {
    "colab": {},
    "colab_type": "code",
    "id": "SyS51I7Zfs01"
   },
   "outputs": [],
   "source": [
    "def tuple_of_series(n, a):\n",
    "    terms = []\n",
    "    for i in range(1, n):\n",
    "        terms.append(n_th_term(i, a))\n",
    "    return tuple(terms)"
   ]
  },
  {
   "cell_type": "code",
   "execution_count": 23,
   "metadata": {
    "colab": {
     "base_uri": "https://localhost:8080/",
     "height": 532
    },
    "colab_type": "code",
    "id": "J4tIDCYefsx3",
    "outputId": "c10227ec-36d5-4867-c97f-d3f0f021b964"
   },
   "outputs": [
    {
     "data": {
      "text/plain": [
       "(8.0,\n",
       " 32.5,\n",
       " 89.66666666666666,\n",
       " 189.70833333333331,\n",
       " 329.76666666666665,\n",
       " 493.16805555555555,\n",
       " 656.5694444444445,\n",
       " 799.5456597222222,\n",
       " 910.7493827160494,\n",
       " 988.5919888117284,\n",
       " 1038.1281926907968,\n",
       " 1067.0243116202535,\n",
       " 1082.5837602745762,\n",
       " 1090.3634846017376,\n",
       " 1093.9940226210795,\n",
       " 1095.5823830045415,\n",
       " 1096.236413750673,\n",
       " 1096.4907590408352,\n",
       " 1096.5844652003686,\n",
       " 1096.6172623562054,\n",
       " 1096.6281947414843,\n",
       " 1096.6316732277094,\n",
       " 1096.63273189743,\n",
       " 1096.6330406760985,\n",
       " 1096.6331271341257,\n",
       " 1096.6331504112868,\n",
       " 1096.6331564461063,\n",
       " 1096.6331579548112,\n",
       " 1096.6331583189813)"
      ]
     },
     "execution_count": 23,
     "metadata": {},
     "output_type": "execute_result"
    }
   ],
   "source": [
    "tuple_of_series(30, 7)"
   ]
  },
  {
   "cell_type": "markdown",
   "metadata": {
    "colab_type": "text",
    "id": "btSvjx4mfj4L"
   },
   "source": [
    "## Solution 3"
   ]
  },
  {
   "cell_type": "code",
   "execution_count": 24,
   "metadata": {
    "colab": {},
    "colab_type": "code",
    "id": "fsss9nPJft_4"
   },
   "outputs": [],
   "source": [
    "def alpha_i(a, n):\n",
    "    alpha = [0]\n",
    "    beta = 0.99\n",
    "    for i in range(1, n+1):\n",
    "        alpha.append((beta * alpha[i-1]) + (1 - beta) * a[i - 1])\n",
    "    return alpha[1:]"
   ]
  },
  {
   "cell_type": "code",
   "execution_count": 25,
   "metadata": {
    "colab": {},
    "colab_type": "code",
    "id": "QlcmAochft7z"
   },
   "outputs": [],
   "source": [
    "def marks_operation(smpl_dict):\n",
    "    marks = smpl_dict['Marks']\n",
    "    return alpha_i(marks, marks.__len__())"
   ]
  },
  {
   "cell_type": "code",
   "execution_count": 26,
   "metadata": {
    "colab": {},
    "colab_type": "code",
    "id": "lMs5AhnPft4Z"
   },
   "outputs": [],
   "source": [
    "def create_dict(n):\n",
    "    dicts = []\n",
    "    for i in range(n):\n",
    "        temp_dict = {}\n",
    "        temp_dict['Name'] = name[i]                 #instead of name[i], you can ask user for name using input('')\n",
    "        temp_dict['Marks'] = marks[i]               ##instead of marks[i], you can ask user for name using input('')\n",
    "        dicts.append(temp_dict)\n",
    "    return dicts"
   ]
  },
  {
   "cell_type": "code",
   "execution_count": 27,
   "metadata": {
    "colab": {
     "base_uri": "https://localhost:8080/",
     "height": 52
    },
    "colab_type": "code",
    "id": "7YP2hlR1ft1C",
    "outputId": "d910744b-b0b7-4e33-f4f2-495aacc73724"
   },
   "outputs": [
    {
     "data": {
      "text/plain": [
       "[{'Name': 'Rahul', 'Marks': [80, 60, 57, 84, 52, 98, 49, 58, 73, 65]},\n",
       " {'Name': 'Deepak', 'Marks': [58, 66, 50, 94, 87, 98, 82, 62, 83, 67]}]"
      ]
     },
     "execution_count": 27,
     "metadata": {},
     "output_type": "execute_result"
    }
   ],
   "source": [
    "#Just for explanation, we used predefined name and marks list.\n",
    "name = ['Rahul', 'Deepak']\n",
    "marks = [[80, 60, 57, 84, 52, 98, 49, 58, 73, 65], [58, 66, 50, 94, 87, 98, 82, 62, 83, 67]]\n",
    "dicts = create_dict(2)\n",
    "dicts"
   ]
  },
  {
   "cell_type": "code",
   "execution_count": 28,
   "metadata": {
    "colab": {
     "base_uri": "https://localhost:8080/",
     "height": 195
    },
    "colab_type": "code",
    "id": "x20XloGuftx3",
    "outputId": "2dada265-cc2e-4ee3-d7e3-0e99e3ecec9f"
   },
   "outputs": [
    {
     "data": {
      "text/plain": [
       "[0.8000000000000007,\n",
       " 1.3920000000000012,\n",
       " 1.9480800000000018,\n",
       " 2.7685992000000024,\n",
       " 3.260913208000003,\n",
       " 4.208304075920004,\n",
       " 4.6562210351608035,\n",
       " 5.189658824809197,\n",
       " 5.867762236561105,\n",
       " 6.459084614195494]"
      ]
     },
     "execution_count": 28,
     "metadata": {},
     "output_type": "execute_result"
    }
   ],
   "source": [
    "marks_operation(dicts[0])"
   ]
  },
  {
   "cell_type": "markdown",
   "metadata": {
    "colab_type": "text",
    "id": "0dS5IbBMfjxL"
   },
   "source": [
    "## Solution 4"
   ]
  },
  {
   "cell_type": "code",
   "execution_count": 29,
   "metadata": {
    "colab": {},
    "colab_type": "code",
    "id": "9jgWueBKfvIj"
   },
   "outputs": [],
   "source": [
    "def is_prime(num):\n",
    "    count = 2\n",
    "    if num == 1:\n",
    "        return False\n",
    "    for i in range(2, num-1):\n",
    "        if num%i == 0:\n",
    "            count += 1\n",
    "    return True if count == 2 else False"
   ]
  },
  {
   "cell_type": "code",
   "execution_count": 30,
   "metadata": {
    "colab": {
     "base_uri": "https://localhost:8080/",
     "height": 35
    },
    "colab_type": "code",
    "id": "ctbTsAJTfvF3",
    "outputId": "612a3fae-9364-497a-d637-28595376c868"
   },
   "outputs": [
    {
     "data": {
      "text/plain": [
       "[1, 1, 2, 3, 5, 8, 13, 21, 34, 55, 89]"
      ]
     },
     "execution_count": 30,
     "metadata": {},
     "output_type": "execute_result"
    }
   ],
   "source": [
    "fibonacci = [1, 1]\n",
    "while fibonacci[-1] <= 100:\n",
    "    fibonacci.append(fibonacci[-1] + fibonacci[-2])\n",
    "fibonacci = fibonacci[0:-1]\n",
    "fibonacci"
   ]
  },
  {
   "cell_type": "code",
   "execution_count": 31,
   "metadata": {
    "colab": {},
    "colab_type": "code",
    "id": "RC_0PxRMfvEp"
   },
   "outputs": [],
   "source": [
    "def create_dict():\n",
    "    num_dict = {}\n",
    "    for i in range(1, 101):\n",
    "        if i not in num_dict:\n",
    "            num_dict[i] = []\n",
    "        if i**2 <= 100:\n",
    "            num_dict[i**2] = []\n",
    "            num_dict[i**2].append('Square')\n",
    "        if i in fibonacci:\n",
    "            num_dict[i].append('Fibonacci')\n",
    "        if is_prime(i):\n",
    "            num_dict[i].append('Prime')\n",
    "    return num_dict"
   ]
  },
  {
   "cell_type": "code",
   "execution_count": 32,
   "metadata": {
    "colab": {},
    "colab_type": "code",
    "id": "WsZjpeUrfu_Y"
   },
   "outputs": [],
   "source": [
    "def search_dict_elem(num_dict, proprty):\n",
    "    nums = []\n",
    "    for i in num_dict.items():\n",
    "        if proprty in i[1]:\n",
    "            nums.append(i[0])\n",
    "    return tuple(nums)"
   ]
  },
  {
   "cell_type": "code",
   "execution_count": 33,
   "metadata": {
    "colab": {
     "base_uri": "https://localhost:8080/",
     "height": 70
    },
    "colab_type": "code",
    "id": "O31vMi-Wfu7g",
    "outputId": "a900bd3a-9ebb-432c-bbbc-541679545122"
   },
   "outputs": [
    {
     "name": "stdout",
     "output_type": "stream",
     "text": [
      "(1, 2, 3, 5, 8, 13, 21, 34, 55, 89)\n",
      "(1, 4, 9, 16, 25, 36, 49, 64, 81, 100)\n",
      "(2, 3, 5, 7, 11, 13, 17, 19, 23, 29, 31, 37, 41, 43, 47, 53, 59, 61, 67, 71, 73, 79, 83, 89, 97)\n"
     ]
    }
   ],
   "source": [
    "num_dict = create_dict()\n",
    "print(search_dict_elem(num_dict, 'Fibonacci'))\n",
    "print(search_dict_elem(num_dict, 'Square'))\n",
    "print(search_dict_elem(num_dict, 'Prime'))"
   ]
  },
  {
   "cell_type": "markdown",
   "metadata": {
    "colab_type": "text",
    "id": "6Eas2H7Vfjsp"
   },
   "source": [
    "## Solution 5"
   ]
  },
  {
   "cell_type": "code",
   "execution_count": 34,
   "metadata": {
    "colab": {
     "base_uri": "https://localhost:8080/",
     "height": 55
    },
    "colab_type": "code",
    "id": "yCOIra7tfwhl",
    "outputId": "02d208fc-aa74-4531-d14c-1bd906c1b214"
   },
   "outputs": [
    {
     "data": {
      "text/plain": [
       "'Data science is an inter-disciplinary field that uses scientific methods, processes, algorithms and systems to extract knowledge and insights from structured and unstructured data. Data science is related to data mining and big data. Data science is a \"concept to unify statistics, data analysis, machine learning and their related methods\" in order to \"understand and analyze actual phenomena\" with data. It employs techniques and theories drawn from many fields within the context of mathematics, statistics, computer science, and information science. Turing award winner Jim Gray imagined data science as a \"fourth paradigm\" of science (empirical, theoretical, computational and now data-driven) and asserted that \"everything about science is changing because of the impact of information technology\" and the data deluge. In 2015, the American Statistical Association identified database management, statistics and machine learning, and distributed and parallel systems as the three emerging foundational professional communities.'"
      ]
     },
     "execution_count": 34,
     "metadata": {},
     "output_type": "execute_result"
    }
   ],
   "source": [
    "para = 'Data science is an inter-disciplinary field that uses scientific methods, processes, algorithms and systems to extract knowledge and insights from structured and unstructured data. Data science is related to data mining and big data. Data science is a \"concept to unify statistics, data analysis, machine learning and their related methods\" in order to \"understand and analyze actual phenomena\" with data. It employs techniques and theories drawn from many fields within the context of mathematics, statistics, computer science, and information science. Turing award winner Jim Gray imagined data science as a \"fourth paradigm\" of science (empirical, theoretical, computational and now data-driven) and asserted that \"everything about science is changing because of the impact of information technology\" and the data deluge. In 2015, the American Statistical Association identified database management, statistics and machine learning, and distributed and parallel systems as the three emerging foundational professional communities.'\n",
    "para"
   ]
  },
  {
   "cell_type": "code",
   "execution_count": 35,
   "metadata": {
    "colab": {},
    "colab_type": "code",
    "id": "45xJV17_fwe3"
   },
   "outputs": [],
   "source": [
    "def f(a):\n",
    "    a = int(ord(a))                              #ord() returns ASCII value\n",
    "    return (2*a + 3)"
   ]
  },
  {
   "cell_type": "code",
   "execution_count": 36,
   "metadata": {
    "colab": {},
    "colab_type": "code",
    "id": "PJ48oR__fwbH"
   },
   "outputs": [],
   "source": [
    "def f_inv(a):\n",
    "    return chr(int((a - 3)/2))"
   ]
  },
  {
   "cell_type": "code",
   "execution_count": 37,
   "metadata": {
    "colab": {},
    "colab_type": "code",
    "id": "qquIf23IfwSx"
   },
   "outputs": [],
   "source": [
    "#encoding\n",
    "encoded_para = ''\n",
    "for i in para:\n",
    "    encoded_para += str(f(i))\n",
    "    encoded_para += ' '\n",
    "with open('encoded.txt', 'w') as file:\n",
    "    file.write(encoded_para)"
   ]
  },
  {
   "cell_type": "code",
   "execution_count": 38,
   "metadata": {
    "colab": {
     "base_uri": "https://localhost:8080/",
     "height": 55
    },
    "colab_type": "code",
    "id": "HancByh5fwPL",
    "outputId": "88d215c1-0887-4c4d-cf8b-7c59ef0784c8"
   },
   "outputs": [
    {
     "data": {
      "text/plain": [
       "'Data science is an inter-disciplinary field that uses scientific methods, processes, algorithms and systems to extract knowledge and insights from structured and unstructured data. Data science is related to data mining and big data. Data science is a \"concept to unify statistics, data analysis, machine learning and their related methods\" in order to \"understand and analyze actual phenomena\" with data. It employs techniques and theories drawn from many fields within the context of mathematics, statistics, computer science, and information science. Turing award winner Jim Gray imagined data science as a \"fourth paradigm\" of science (empirical, theoretical, computational and now data-driven) and asserted that \"everything about science is changing because of the impact of information technology\" and the data deluge. In 2015, the American Statistical Association identified database management, statistics and machine learning, and distributed and parallel systems as the three emerging foundational professional communities.'"
      ]
     },
     "execution_count": 38,
     "metadata": {},
     "output_type": "execute_result"
    }
   ],
   "source": [
    "#decoding\n",
    "with open('encoded.txt', 'r') as file:\n",
    "    content = file.readline()\n",
    "\n",
    "reconstruct_para = ''\n",
    "for a in content.split(' '):\n",
    "    if a.__len__() > 0:\n",
    "        reconstruct_para = reconstruct_para + f_inv(int(a))\n",
    "reconstruct_para"
   ]
  },
  {
   "cell_type": "code",
   "execution_count": null,
   "metadata": {
    "colab": {},
    "colab_type": "code",
    "id": "K617R3xAfwMI"
   },
   "outputs": [],
   "source": []
  },
  {
   "cell_type": "markdown",
   "metadata": {
    "colab_type": "text",
    "id": "djFACnAZfjkR"
   },
   "source": [
    "## Solution 6"
   ]
  },
  {
   "cell_type": "code",
   "execution_count": 39,
   "metadata": {
    "colab": {},
    "colab_type": "code",
    "id": "o9J3dqN8f9mY"
   },
   "outputs": [],
   "source": [
    "file_1 = 'Data science is an inter-disciplinary field that uses scientific methods processes algorithms and systems to extract knowledge and insights from structured and unstructured data Data science is related to data mining and big data. Data science is a concept to unify statistics data analysis machine learning and their related methods in order to understand and analyze actual phenomena with data It employs techniques and theories drawn from many fields within the context of mathematics statistics computer science and information science Turing award winner Jim Gray imagined data science as a fourth paradigm of science empirical theoretical computational and now data driven and asserted that everything about science is changing because of the impact of information technology and the data deluge In 2015 the American Statistical Association identified database management statistics and machine learning and distributed and parallel systems as the three emerging foundational professional communities'"
   ]
  },
  {
   "cell_type": "code",
   "execution_count": 40,
   "metadata": {
    "colab": {
     "base_uri": "https://localhost:8080/"
    },
    "colab_type": "code",
    "id": "-4yibjMuf8Ui",
    "outputId": "1ad88f0a-0234-4956-f469-fc0a552e082b"
   },
   "outputs": [
    {
     "data": {
      "text/plain": [
       "145"
      ]
     },
     "execution_count": 40,
     "metadata": {},
     "output_type": "execute_result"
    }
   ],
   "source": [
    "total_words = len(file_1.split(' '))\n",
    "total_words"
   ]
  },
  {
   "cell_type": "code",
   "execution_count": 41,
   "metadata": {
    "colab": {
     "base_uri": "https://localhost:8080/"
    },
    "colab_type": "code",
    "id": "5GtW8D6_ek1d",
    "outputId": "89428e6d-101f-49d2-9f98-17dea51091ae"
   },
   "outputs": [
    {
     "data": {
      "text/plain": [
       "['Data ',\n",
       " 'science ',\n",
       " 'is ',\n",
       " 'an ',\n",
       " 'inter-disciplinary ',\n",
       " 'field ',\n",
       " 'that ',\n",
       " 'uses ',\n",
       " 'scientific ',\n",
       " 'methods ',\n",
       " '\\nprocesses ',\n",
       " 'algorithms ',\n",
       " 'and ',\n",
       " 'systems ',\n",
       " 'to ',\n",
       " 'extract ',\n",
       " 'knowledge ',\n",
       " 'and ',\n",
       " 'insights ',\n",
       " 'from ',\n",
       " '\\nstructured ']"
      ]
     },
     "execution_count": 41,
     "metadata": {},
     "output_type": "execute_result"
    }
   ],
   "source": [
    "words = file_1.split(' ')\n",
    "text = [words[0] + ' ']\n",
    "for i in range(1, total_words):\n",
    "    if i%10 == 0:\n",
    "        text.append('\\n' + words[i] + ' ')\n",
    "        continue\n",
    "    text.append(words[i] + ' ')\n",
    "text[0:21]"
   ]
  }
 ],
 "metadata": {
  "colab": {
   "collapsed_sections": [
    "djFACnAZfjkR"
   ],
   "name": "PadhAI_FDS_Week_5_Assignment_Solutions.ipynb",
   "provenance": []
  },
  "kernelspec": {
   "display_name": "Python 3",
   "language": "python",
   "name": "python3"
  },
  "language_info": {
   "codemirror_mode": {
    "name": "ipython",
    "version": 3
   },
   "file_extension": ".py",
   "mimetype": "text/x-python",
   "name": "python",
   "nbconvert_exporter": "python",
   "pygments_lexer": "ipython3",
   "version": "3.8.8"
  }
 },
 "nbformat": 4,
 "nbformat_minor": 1
}
