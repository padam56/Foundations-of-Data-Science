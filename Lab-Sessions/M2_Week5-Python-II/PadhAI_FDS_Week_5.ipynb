{
 "cells": [
  {
   "cell_type": "markdown",
   "metadata": {
    "colab_type": "text",
    "id": "YPodBtxNI2uS"
   },
   "source": [
    "# Documentation and Error Handling"
   ]
  },
  {
   "cell_type": "markdown",
   "metadata": {
    "colab_type": "text",
    "id": "uBR5U473CLPr"
   },
   "source": [
    "**Note to self about Fibonacci sequence**\n",
    "\n",
    "Start from *two* numbers $(f_0, f_1)$ and compute the $n$th value as \n",
    "$f_{n} \\leftarrow f_{n - 1} + f_{n - 2}$.\n",
    "\n",
    "It turns out that the ratio of consecutive numbers in the Fibonacci sequence approximates to the Golden ratio $\\phi$: \n",
    "$$ \\phi \\approx \\dfrac{f_n}{f_{n - 1}} $$"
   ]
  },
  {
   "cell_type": "code",
   "execution_count": 1,
   "metadata": {
    "colab": {},
    "colab_type": "code",
    "id": "fqC4mlzIBy36"
   },
   "outputs": [],
   "source": [
    "def fibonacci_sequence(n, a = 1, b = 1):\n",
    "    for i in range(n):\n",
    "        temp = a + b\n",
    "        a = b\n",
    "        b = temp\n",
    "    return temp"
   ]
  },
  {
   "cell_type": "code",
   "execution_count": 2,
   "metadata": {
    "colab": {},
    "colab_type": "code",
    "id": "ILkL0PSiCRwE"
   },
   "outputs": [],
   "source": [
    "def input_single_float(prompt):\n",
    "    user_input = input(prompt)\n",
    "    output = float(user_input)\n",
    "    return output"
   ]
  },
  {
   "cell_type": "code",
   "execution_count": 3,
   "metadata": {
    "colab": {},
    "colab_type": "code",
    "id": "9ft-ChR7Cba_"
   },
   "outputs": [],
   "source": [
    "def fibonacci_sequence(n, a =10, b = 1):\n",
    "    \"\"\"\n",
    "    This computes the nth number in the Fibonacci sequence\n",
    "    starting with a and b as the first two values.\n",
    "    \"\"\"\n",
    "    for i in range(n):\n",
    "        temp = a + b\n",
    "        a = b\n",
    "        b = temp\n",
    "    return temp"
   ]
  },
  {
   "cell_type": "code",
   "execution_count": 4,
   "metadata": {
    "colab": {},
    "colab_type": "code",
    "id": "5tDaKoqmOQaM"
   },
   "outputs": [],
   "source": [
    "fibonacci_sequence?"
   ]
  },
  {
   "cell_type": "code",
   "execution_count": 5,
   "metadata": {
    "colab": {},
    "colab_type": "code",
    "id": "kIjkQ0_0OVRg"
   },
   "outputs": [],
   "source": [
    "def input_single_float(prompt):\n",
    "    \"\"\"\n",
    "    This prompts user to input, and then converts this to a single float\n",
    "    \"\"\"\n",
    "    user_input = input(prompt)\n",
    "    output = float(user_input)\n",
    "    return output"
   ]
  },
  {
   "cell_type": "code",
   "execution_count": 6,
   "metadata": {
    "colab": {
     "base_uri": "https://localhost:8080/",
     "height": 320
    },
    "colab_type": "code",
    "id": "VqIcwOflPMdi",
    "outputId": "d1fefeab-263d-40bc-8ffb-85f77a1fc7de"
   },
   "outputs": [
    {
     "name": "stdout",
     "output_type": "stream",
     "text": [
      "Enter PI: 3.14\n"
     ]
    }
   ],
   "source": [
    "val = input_single_float('Enter PI: ')"
   ]
  },
  {
   "cell_type": "code",
   "execution_count": 7,
   "metadata": {
    "colab": {},
    "colab_type": "code",
    "id": "OdONGuQLPTIW"
   },
   "outputs": [],
   "source": [
    "def input_single_float(prompt):\n",
    "    \"\"\"\n",
    "    This prompts user to input, and then converts this to a single float\n",
    "    \"\"\"\n",
    "    user_input = input(prompt)\n",
    "    try: \n",
    "        output = float(user_input)\n",
    "    except ValueError:\n",
    "        print(\"Input value must be a float\")\n",
    "        output = None\n",
    "    return output"
   ]
  },
  {
   "cell_type": "code",
   "execution_count": 8,
   "metadata": {
    "colab": {
     "base_uri": "https://localhost:8080/",
     "height": 54
    },
    "colab_type": "code",
    "id": "UrJOrnHWP41g",
    "outputId": "e557d14c-7f57-4e31-cbf4-c9a5d56f2eff"
   },
   "outputs": [
    {
     "name": "stdout",
     "output_type": "stream",
     "text": [
      "Enter PI: PI\n",
      "Input value must be a float\n"
     ]
    }
   ],
   "source": [
    "val = input_single_float('Enter PI: ')"
   ]
  },
  {
   "cell_type": "code",
   "execution_count": 9,
   "metadata": {
    "colab": {
     "base_uri": "https://localhost:8080/",
     "height": 35
    },
    "colab_type": "code",
    "id": "b5ERjMRdP66b",
    "outputId": "0291f7b8-7a80-4376-f442-a4749638008c"
   },
   "outputs": [
    {
     "name": "stdout",
     "output_type": "stream",
     "text": [
      "None <class 'NoneType'>\n"
     ]
    }
   ],
   "source": [
    "print(val, type(val))"
   ]
  },
  {
   "cell_type": "code",
   "execution_count": 10,
   "metadata": {
    "colab": {},
    "colab_type": "code",
    "id": "gvQoH-PdQPOt"
   },
   "outputs": [],
   "source": [
    "def input_single_float_inverse(prompt):\n",
    "    \"\"\"\n",
    "    This prompts user to input, and then converts this to a single float inverse\n",
    "    \"\"\"\n",
    "    user_input = input(prompt)\n",
    "    output = None\n",
    "    try: \n",
    "        output = 1/float(user_input)\n",
    "    except ValueError:\n",
    "        print(\"Input value must be a float\")\n",
    "    except ZeroDivisionError:\n",
    "        print(\"Input value must not be zero\")\n",
    "    return output"
   ]
  },
  {
   "cell_type": "code",
   "execution_count": 11,
   "metadata": {
    "colab": {
     "base_uri": "https://localhost:8080/",
     "height": 72
    },
    "colab_type": "code",
    "id": "UHcwRqSyQfxj",
    "outputId": "d26b689d-af20-441d-926e-5c7173710ce0"
   },
   "outputs": [
    {
     "name": "stdout",
     "output_type": "stream",
     "text": [
      "Enter number -2\n",
      "-0.5\n"
     ]
    }
   ],
   "source": [
    "val = input_single_float_inverse('Enter number ')\n",
    "print(val)"
   ]
  },
  {
   "cell_type": "markdown",
   "metadata": {
    "colab_type": "text",
    "id": "6Ut0mP550rvh"
   },
   "source": [
    "# Lists"
   ]
  },
  {
   "cell_type": "code",
   "execution_count": 12,
   "metadata": {
    "colab": {},
    "colab_type": "code",
    "id": "2sCpl7IG0MCS"
   },
   "outputs": [],
   "source": [
    "course_name = \"Foundations of Data Science\""
   ]
  },
  {
   "cell_type": "code",
   "execution_count": 13,
   "metadata": {
    "colab": {},
    "colab_type": "code",
    "id": "t22wYIzW0vvY"
   },
   "outputs": [],
   "source": [
    "words = course_name.split()"
   ]
  },
  {
   "cell_type": "code",
   "execution_count": 14,
   "metadata": {
    "colab": {
     "base_uri": "https://localhost:8080/",
     "height": 35
    },
    "colab_type": "code",
    "id": "ooADbjda0yjN",
    "outputId": "889f5cf4-88d5-49de-a061-ac54db1b2151"
   },
   "outputs": [
    {
     "name": "stdout",
     "output_type": "stream",
     "text": [
      "['Foundations', 'of', 'Data', 'Science']\n"
     ]
    }
   ],
   "source": [
    "print(words)"
   ]
  },
  {
   "cell_type": "code",
   "execution_count": 15,
   "metadata": {
    "colab": {},
    "colab_type": "code",
    "id": "_EpvJuLJ0znb"
   },
   "outputs": [],
   "source": [
    "str.split?"
   ]
  },
  {
   "cell_type": "code",
   "execution_count": 16,
   "metadata": {
    "colab": {
     "base_uri": "https://localhost:8080/",
     "height": 35
    },
    "colab_type": "code",
    "id": "sumvsLzf08H6",
    "outputId": "4f1abe91-c5f2-4ef0-e47b-36cd0dd2664a"
   },
   "outputs": [
    {
     "name": "stdout",
     "output_type": "stream",
     "text": [
      "<class 'list'>\n"
     ]
    }
   ],
   "source": [
    "print(type(words))"
   ]
  },
  {
   "cell_type": "code",
   "execution_count": 18,
   "metadata": {
    "colab": {
     "base_uri": "https://localhost:8080/",
     "height": 35
    },
    "colab_type": "code",
    "id": "T0DrQ1rH1Fyq",
    "outputId": "ab6c5898-6714-4f72-cd05-e285402a0049"
   },
   "outputs": [
    {
     "name": "stdout",
     "output_type": "stream",
     "text": [
      "Foundations\n"
     ]
    }
   ],
   "source": [
    "print(words[0])"
   ]
  },
  {
   "cell_type": "code",
   "execution_count": 21,
   "metadata": {},
   "outputs": [
    {
     "name": "stdout",
     "output_type": "stream",
     "text": [
      "Science\n"
     ]
    }
   ],
   "source": [
    "print(words[-1])"
   ]
  },
  {
   "cell_type": "code",
   "execution_count": 19,
   "metadata": {
    "colab": {
     "base_uri": "https://localhost:8080/",
     "height": 35
    },
    "colab_type": "code",
    "id": "tqYdpiaK1MEF",
    "outputId": "b21de28f-da83-4def-a5db-d463676e08f6"
   },
   "outputs": [
    {
     "name": "stdout",
     "output_type": "stream",
     "text": [
      "<class 'str'>\n"
     ]
    }
   ],
   "source": [
    "print(type(words[-2]))"
   ]
  },
  {
   "cell_type": "code",
   "execution_count": 20,
   "metadata": {
    "colab": {
     "base_uri": "https://localhost:8080/",
     "height": 35
    },
    "colab_type": "code",
    "id": "T4Tmfhax1Ywi",
    "outputId": "5709df7e-6b68-4934-acf7-5ce108ed5313"
   },
   "outputs": [
    {
     "name": "stdout",
     "output_type": "stream",
     "text": [
      "data\n"
     ]
    }
   ],
   "source": [
    "print(words[-2].lower())"
   ]
  },
  {
   "cell_type": "code",
   "execution_count": 22,
   "metadata": {
    "colab": {
     "base_uri": "https://localhost:8080/",
     "height": 35
    },
    "colab_type": "code",
    "id": "x6hTL0KR1fMc",
    "outputId": "efb5df2a-1178-4d02-9f61-0290ddcde832"
   },
   "outputs": [
    {
     "name": "stdout",
     "output_type": "stream",
     "text": [
      "['Foundations', 'of']\n"
     ]
    }
   ],
   "source": [
    "print(words[0:2])"
   ]
  },
  {
   "cell_type": "code",
   "execution_count": 23,
   "metadata": {
    "colab": {
     "base_uri": "https://localhost:8080/",
     "height": 35
    },
    "colab_type": "code",
    "id": "ObnsuU-I1qN8",
    "outputId": "b16b8a94-67c9-4af1-bf62-e041e4579d7a"
   },
   "outputs": [
    {
     "name": "stdout",
     "output_type": "stream",
     "text": [
      "['Foundations', 'of']\n"
     ]
    }
   ],
   "source": [
    "print(words[:2])"
   ]
  },
  {
   "cell_type": "code",
   "execution_count": 24,
   "metadata": {
    "colab": {
     "base_uri": "https://localhost:8080/",
     "height": 35
    },
    "colab_type": "code",
    "id": "TwYJRQ2K10SO",
    "outputId": "6e0a854c-b2be-47b4-b38f-0bec9345111c"
   },
   "outputs": [
    {
     "name": "stdout",
     "output_type": "stream",
     "text": [
      "<class 'list'>\n"
     ]
    }
   ],
   "source": [
    "print(type(words[1:]))"
   ]
  },
  {
   "cell_type": "code",
   "execution_count": 25,
   "metadata": {
    "colab": {},
    "colab_type": "code",
    "id": "wkKVVYK2130R"
   },
   "outputs": [],
   "source": [
    "new_words = [\"Machine\", \"Learning\"]"
   ]
  },
  {
   "cell_type": "code",
   "execution_count": 26,
   "metadata": {
    "colab": {
     "base_uri": "https://localhost:8080/",
     "height": 35
    },
    "colab_type": "code",
    "id": "A6dHEz1v2BwZ",
    "outputId": "bb5df681-4045-41bd-aadd-456e5934eb30"
   },
   "outputs": [
    {
     "name": "stdout",
     "output_type": "stream",
     "text": [
      "<class 'list'>\n"
     ]
    }
   ],
   "source": [
    "print(type(new_words))"
   ]
  },
  {
   "cell_type": "code",
   "execution_count": 27,
   "metadata": {
    "colab": {
     "base_uri": "https://localhost:8080/",
     "height": 35
    },
    "colab_type": "code",
    "id": "U6W2YM7O2DDd",
    "outputId": "f9a0bbe7-e3e0-4578-8f4d-1bc7c5aed2b2"
   },
   "outputs": [
    {
     "name": "stdout",
     "output_type": "stream",
     "text": [
      "Machine\n"
     ]
    }
   ],
   "source": [
    "print(new_words[0])"
   ]
  },
  {
   "cell_type": "code",
   "execution_count": 28,
   "metadata": {
    "colab": {},
    "colab_type": "code",
    "id": "CLPct_dn2FjV"
   },
   "outputs": [],
   "source": [
    "fibonacci_list = [1, 1, 2, 3, 5, 8, 13, 21]"
   ]
  },
  {
   "cell_type": "code",
   "execution_count": 29,
   "metadata": {
    "colab": {
     "base_uri": "https://localhost:8080/",
     "height": 35
    },
    "colab_type": "code",
    "id": "EINXgpEX2K2l",
    "outputId": "5f9a206e-0ffb-430d-e284-b7f3aaface4f"
   },
   "outputs": [
    {
     "name": "stdout",
     "output_type": "stream",
     "text": [
      "<class 'int'>\n"
     ]
    }
   ],
   "source": [
    "print(type(fibonacci_list[0]))"
   ]
  },
  {
   "cell_type": "code",
   "execution_count": 30,
   "metadata": {
    "colab": {
     "base_uri": "https://localhost:8080/",
     "height": 35
    },
    "colab_type": "code",
    "id": "FureZr8r2MQR",
    "outputId": "b142a938-e51b-43f0-8111-aeb707eeedd7"
   },
   "outputs": [
    {
     "name": "stdout",
     "output_type": "stream",
     "text": [
      "11\n"
     ]
    }
   ],
   "source": [
    "print(fibonacci_list[0] + 10)"
   ]
  },
  {
   "cell_type": "code",
   "execution_count": 31,
   "metadata": {
    "colab": {
     "base_uri": "https://localhost:8080/",
     "height": 164
    },
    "colab_type": "code",
    "id": "wHCWmqiU2RYh",
    "outputId": "93687a1f-096f-4731-edee-b79637c61d6e"
   },
   "outputs": [
    {
     "name": "stdout",
     "output_type": "stream",
     "text": [
      "11\n",
      "11\n",
      "12\n",
      "13\n",
      "15\n",
      "18\n",
      "23\n",
      "31\n"
     ]
    }
   ],
   "source": [
    "for num in fibonacci_list:\n",
    "    print(num + 10)"
   ]
  },
  {
   "cell_type": "code",
   "execution_count": 32,
   "metadata": {
    "colab": {
     "base_uri": "https://localhost:8080/",
     "height": 35
    },
    "colab_type": "code",
    "id": "OmGFOHv52c-Q",
    "outputId": "de434a8e-deea-4c3a-920e-4d6d7fc0a061"
   },
   "outputs": [
    {
     "name": "stdout",
     "output_type": "stream",
     "text": [
      "8\n"
     ]
    }
   ],
   "source": [
    "length = len(fibonacci_list)\n",
    "print(length)"
   ]
  },
  {
   "cell_type": "code",
   "execution_count": 33,
   "metadata": {
    "colab": {
     "base_uri": "https://localhost:8080/",
     "height": 164
    },
    "colab_type": "code",
    "id": "R7wnHSMH2sPE",
    "outputId": "f6747209-0b5c-4361-b7cc-e25f414aca6e"
   },
   "outputs": [
    {
     "name": "stdout",
     "output_type": "stream",
     "text": [
      "0 1\n",
      "1 1\n",
      "2 2\n",
      "3 3\n",
      "4 5\n",
      "5 8\n",
      "6 13\n",
      "7 21\n"
     ]
    }
   ],
   "source": [
    "for i in range(length):\n",
    "    print(i, fibonacci_list[i])"
   ]
  },
  {
   "cell_type": "code",
   "execution_count": 34,
   "metadata": {
    "colab": {},
    "colab_type": "code",
    "id": "MjWqDjLF2xk_"
   },
   "outputs": [],
   "source": [
    "bmi_record = [\"Krishna\", 75, 1.73, False]"
   ]
  },
  {
   "cell_type": "code",
   "execution_count": 35,
   "metadata": {
    "colab": {
     "base_uri": "https://localhost:8080/",
     "height": 35
    },
    "colab_type": "code",
    "id": "nNLZS8m43HjW",
    "outputId": "10d07662-cd4c-424c-82b8-00df0d8075b1"
   },
   "outputs": [
    {
     "name": "stdout",
     "output_type": "stream",
     "text": [
      "<class 'list'>\n"
     ]
    }
   ],
   "source": [
    "print(type(bmi_record))"
   ]
  },
  {
   "cell_type": "code",
   "execution_count": 36,
   "metadata": {
    "colab": {
     "base_uri": "https://localhost:8080/",
     "height": 91
    },
    "colab_type": "code",
    "id": "xgTlXkEf3JUL",
    "outputId": "2d395d6c-66b7-4cb6-ce73-c156688101d3"
   },
   "outputs": [
    {
     "name": "stdout",
     "output_type": "stream",
     "text": [
      "Krishna <class 'str'>\n",
      "75 <class 'int'>\n",
      "1.73 <class 'float'>\n",
      "False <class 'bool'>\n"
     ]
    }
   ],
   "source": [
    "for item in bmi_record:\n",
    "    print(item, type(item))"
   ]
  },
  {
   "cell_type": "code",
   "execution_count": 37,
   "metadata": {
    "colab": {},
    "colab_type": "code",
    "id": "5zQYms0i3OWy"
   },
   "outputs": [],
   "source": [
    "bmi_record[0] = \"Krishna A\""
   ]
  },
  {
   "cell_type": "code",
   "execution_count": 38,
   "metadata": {
    "colab": {},
    "colab_type": "code",
    "id": "TUwm9fjg3Whh"
   },
   "outputs": [],
   "source": [
    "bmi_record.append(\"krishnaa@idontknow.com\")"
   ]
  },
  {
   "cell_type": "code",
   "execution_count": 39,
   "metadata": {
    "colab": {
     "base_uri": "https://localhost:8080/",
     "height": 109
    },
    "colab_type": "code",
    "id": "8ZmQL12t3fiK",
    "outputId": "4f4b2d13-e979-496b-d58d-64a562e68d7a"
   },
   "outputs": [
    {
     "name": "stdout",
     "output_type": "stream",
     "text": [
      "Krishna A <class 'str'>\n",
      "75 <class 'int'>\n",
      "1.73 <class 'float'>\n",
      "False <class 'bool'>\n",
      "krishnaa@idontknow.com <class 'str'>\n"
     ]
    }
   ],
   "source": [
    "for item in bmi_record:\n",
    "    print(item, type(item))"
   ]
  },
  {
   "cell_type": "markdown",
   "metadata": {
    "colab_type": "text",
    "id": "-ziDAeaFJQRR"
   },
   "source": [
    "# Lists - continued"
   ]
  },
  {
   "cell_type": "code",
   "execution_count": 40,
   "metadata": {
    "colab": {},
    "colab_type": "code",
    "id": "EQkc3mMy3hD-"
   },
   "outputs": [],
   "source": [
    "bmi_dataset = [\n",
    "               [\"Krishna\", 75, 1.73, False],\n",
    "               [\"Bheem\", 120, 1.78, True]\n",
    "]"
   ]
  },
  {
   "cell_type": "code",
   "execution_count": 41,
   "metadata": {
    "colab": {
     "base_uri": "https://localhost:8080/",
     "height": 35
    },
    "colab_type": "code",
    "id": "xEvdr535Jg3d",
    "outputId": "53b90a0d-d1fa-46d4-ac0b-5214eb01ab14"
   },
   "outputs": [
    {
     "name": "stdout",
     "output_type": "stream",
     "text": [
      "<class 'list'>\n"
     ]
    }
   ],
   "source": [
    "print(type(bmi_dataset[1]))"
   ]
  },
  {
   "cell_type": "code",
   "execution_count": 42,
   "metadata": {
    "colab": {
     "base_uri": "https://localhost:8080/",
     "height": 35
    },
    "colab_type": "code",
    "id": "r3NEcEflJjuA",
    "outputId": "5fdbff4f-c23f-4dd6-a16a-f27815a05d27"
   },
   "outputs": [
    {
     "name": "stdout",
     "output_type": "stream",
     "text": [
      "['Krishna', 75, 1.73, False]\n"
     ]
    }
   ],
   "source": [
    "print(bmi_dataset[0])"
   ]
  },
  {
   "cell_type": "code",
   "execution_count": 43,
   "metadata": {
    "colab": {
     "base_uri": "https://localhost:8080/",
     "height": 35
    },
    "colab_type": "code",
    "id": "GSkr_XjBJtrP",
    "outputId": "027eed67-8adc-4b80-a1d8-efeaee4c9153"
   },
   "outputs": [
    {
     "name": "stdout",
     "output_type": "stream",
     "text": [
      "<class 'str'>\n"
     ]
    }
   ],
   "source": [
    "print(type(bmi_dataset[0][0]))"
   ]
  },
  {
   "cell_type": "code",
   "execution_count": 44,
   "metadata": {
    "colab": {
     "base_uri": "https://localhost:8080/",
     "height": 35
    },
    "colab_type": "code",
    "id": "yREJjR6WJ2r3",
    "outputId": "12a24979-6201-4fc0-9065-96e93e640dee"
   },
   "outputs": [
    {
     "name": "stdout",
     "output_type": "stream",
     "text": [
      "1.78\n"
     ]
    }
   ],
   "source": [
    "print(bmi_dataset[1][2])"
   ]
  },
  {
   "cell_type": "code",
   "execution_count": 45,
   "metadata": {
    "colab": {},
    "colab_type": "code",
    "id": "4Vokqa0FJ89l"
   },
   "outputs": [],
   "source": [
    "bmi_dataset[1].append(\"bheem@foodtruck.com\")"
   ]
  },
  {
   "cell_type": "code",
   "execution_count": 46,
   "metadata": {
    "colab": {
     "base_uri": "https://localhost:8080/",
     "height": 55
    },
    "colab_type": "code",
    "id": "Rzgndf4aKO8p",
    "outputId": "9cead59b-867d-44f9-de5d-8d989b295cb4"
   },
   "outputs": [
    {
     "name": "stdout",
     "output_type": "stream",
     "text": [
      "[['Krishna', 75, 1.73, False], ['Bheem', 120, 1.78, True, 'bheem@foodtruck.com']]\n"
     ]
    }
   ],
   "source": [
    "print(bmi_dataset)"
   ]
  },
  {
   "cell_type": "code",
   "execution_count": 47,
   "metadata": {
    "colab": {},
    "colab_type": "code",
    "id": "Lkz3Es5QKQf3"
   },
   "outputs": [],
   "source": [
    "bmi_dataset[1][1] = 125"
   ]
  },
  {
   "cell_type": "code",
   "execution_count": 48,
   "metadata": {
    "colab": {},
    "colab_type": "code",
    "id": "aBBMxzV7KZ_1"
   },
   "outputs": [],
   "source": [
    "identity_3 = [\n",
    "              [1, 0, 0],\n",
    "              [0, 1, 0],\n",
    "              [0, 0, 1]\n",
    "] #MultiDimensional List"
   ]
  },
  {
   "cell_type": "code",
   "execution_count": 49,
   "metadata": {
    "colab": {
     "base_uri": "https://localhost:8080/",
     "height": 35
    },
    "colab_type": "code",
    "id": "7NTzmXOwKqp8",
    "outputId": "65f9772f-1a75-4751-84fa-a6cee3c032b1"
   },
   "outputs": [
    {
     "name": "stdout",
     "output_type": "stream",
     "text": [
      "1\n"
     ]
    }
   ],
   "source": [
    "print(identity_3[2][2])"
   ]
  },
  {
   "cell_type": "code",
   "execution_count": 50,
   "metadata": {
    "colab": {},
    "colab_type": "code",
    "id": "eutbtw4XKsd0"
   },
   "outputs": [],
   "source": [
    "A = [1, 2]"
   ]
  },
  {
   "cell_type": "code",
   "execution_count": 51,
   "metadata": {
    "colab": {},
    "colab_type": "code",
    "id": "prDRE12VK6Wt"
   },
   "outputs": [],
   "source": [
    "B = A"
   ]
  },
  {
   "cell_type": "code",
   "execution_count": 52,
   "metadata": {
    "colab": {
     "base_uri": "https://localhost:8080/",
     "height": 35
    },
    "colab_type": "code",
    "id": "ARmetUuiK7hZ",
    "outputId": "3342a88a-33bb-4d75-8844-6fad99cb2040"
   },
   "outputs": [
    {
     "name": "stdout",
     "output_type": "stream",
     "text": [
      "[1, 2]\n"
     ]
    }
   ],
   "source": [
    "print(B)"
   ]
  },
  {
   "cell_type": "code",
   "execution_count": 53,
   "metadata": {
    "colab": {},
    "colab_type": "code",
    "id": "C8N0K8KlK9M8"
   },
   "outputs": [],
   "source": [
    "A[0] = A[0] + A[1]"
   ]
  },
  {
   "cell_type": "code",
   "execution_count": 54,
   "metadata": {
    "colab": {
     "base_uri": "https://localhost:8080/",
     "height": 35
    },
    "colab_type": "code",
    "id": "kJt33znALCpE",
    "outputId": "3eb792e3-8b36-4724-fecf-96c4612e99df"
   },
   "outputs": [
    {
     "name": "stdout",
     "output_type": "stream",
     "text": [
      "[3, 2]\n"
     ]
    }
   ],
   "source": [
    "print(A)"
   ]
  },
  {
   "cell_type": "code",
   "execution_count": 55,
   "metadata": {
    "colab": {
     "base_uri": "https://localhost:8080/",
     "height": 35
    },
    "colab_type": "code",
    "id": "l_O2qJtwLDZq",
    "outputId": "4325d959-5ef2-476f-80ec-78c83d0a4f05"
   },
   "outputs": [
    {
     "name": "stdout",
     "output_type": "stream",
     "text": [
      "[3, 2]\n"
     ]
    }
   ],
   "source": [
    "print(B)"
   ]
  },
  {
   "cell_type": "code",
   "execution_count": 56,
   "metadata": {
    "colab": {},
    "colab_type": "code",
    "id": "Ngunj3jtLEv0"
   },
   "outputs": [],
   "source": [
    "A = [1, 2]"
   ]
  },
  {
   "cell_type": "code",
   "execution_count": 57,
   "metadata": {
    "colab": {},
    "colab_type": "code",
    "id": "mROzmMJgLXrn"
   },
   "outputs": [],
   "source": [
    "B = [item for item in A]"
   ]
  },
  {
   "cell_type": "code",
   "execution_count": 58,
   "metadata": {
    "colab": {
     "base_uri": "https://localhost:8080/",
     "height": 35
    },
    "colab_type": "code",
    "id": "6NlLnK1XLiyu",
    "outputId": "30bafcb5-8c6c-4cb2-e504-340405cea3ac"
   },
   "outputs": [
    {
     "name": "stdout",
     "output_type": "stream",
     "text": [
      "[1, 2]\n"
     ]
    }
   ],
   "source": [
    "print(B)"
   ]
  },
  {
   "cell_type": "code",
   "execution_count": 59,
   "metadata": {
    "colab": {},
    "colab_type": "code",
    "id": "PbZtWubDLjgK"
   },
   "outputs": [],
   "source": [
    "A[0] = A[0] + A[1]"
   ]
  },
  {
   "cell_type": "code",
   "execution_count": 60,
   "metadata": {
    "colab": {
     "base_uri": "https://localhost:8080/",
     "height": 35
    },
    "colab_type": "code",
    "id": "o_fIxWZ4Lk_w",
    "outputId": "756d7517-016c-42f4-d2f5-f393c9c5af42"
   },
   "outputs": [
    {
     "name": "stdout",
     "output_type": "stream",
     "text": [
      "[3, 2]\n"
     ]
    }
   ],
   "source": [
    "print(A)"
   ]
  },
  {
   "cell_type": "code",
   "execution_count": 61,
   "metadata": {
    "colab": {
     "base_uri": "https://localhost:8080/",
     "height": 35
    },
    "colab_type": "code",
    "id": "QrKvnxdtLlls",
    "outputId": "b28b9b65-8854-4dc2-ffe2-34bbfc09693a"
   },
   "outputs": [
    {
     "name": "stdout",
     "output_type": "stream",
     "text": [
      "[1, 2]\n"
     ]
    }
   ],
   "source": [
    "print(B) # Has Deepcopy of the original values"
   ]
  },
  {
   "cell_type": "markdown",
   "metadata": {
    "colab_type": "text",
    "id": "cmJis39bLvNn"
   },
   "source": [
    "# Exercise for Lists\n",
    "\n",
    "Given the following square matrix $A$\n",
    "$$A =  \\begin{pmatrix} 1 & 1 \\\\ 1 & 0  \\end{pmatrix}$$\n",
    "compute the matrix $A^n$ obtained by multiplying $A$ to itself $n$ times.\n",
    " \n",
    "Can you comment on the left-top value in $A^n$ (what does this remind you of?)"
   ]
  },
  {
   "cell_type": "code",
   "execution_count": 62,
   "metadata": {
    "colab": {},
    "colab_type": "code",
    "id": "yfKUGqMNLmcn"
   },
   "outputs": [],
   "source": [
    "def square_matrix_power(A, n):\n",
    "    output = A\n",
    "    temp = A\n",
    "    for i in range(n - 1):\n",
    "        # output = A * output\n",
    "        # -> output = A * temp\n",
    "        #    temp = output\n",
    "        output[0][0] = A[0][0] * temp[0][0] + A[0][1] * temp[1][0]\n",
    "        output[0][1] = A[0][0] * temp[0][1] + A[0][1] * temp[1][1]\n",
    "        output[1][0] = A[1][0] * temp[0][0] + A[1][1] * temp[1][0]\n",
    "        output[1][1] = A[1][0] * temp[0][1] + A[1][1] * temp[1][1]\n",
    "        temp = output\n",
    "    return output"
   ]
  },
  {
   "cell_type": "code",
   "execution_count": 63,
   "metadata": {
    "colab": {},
    "colab_type": "code",
    "id": "1gCv_QnCNoEv"
   },
   "outputs": [],
   "source": [
    "A = [\n",
    "     [1, 1], \n",
    "     [1, 0]\n",
    "]"
   ]
  },
  {
   "cell_type": "code",
   "execution_count": 64,
   "metadata": {
    "colab": {
     "base_uri": "https://localhost:8080/",
     "height": 35
    },
    "colab_type": "code",
    "id": "1WSp8kFJNrMG",
    "outputId": "98489603-2031-4855-8a9b-aa3f18dd0a09"
   },
   "outputs": [
    {
     "name": "stdout",
     "output_type": "stream",
     "text": [
      "[[2, 2], [2, 4]]\n"
     ]
    }
   ],
   "source": [
    "print(square_matrix_power(A, 2))"
   ]
  },
  {
   "cell_type": "code",
   "execution_count": 65,
   "metadata": {
    "colab": {},
    "colab_type": "code",
    "id": "DF4JZ9NbOXai"
   },
   "outputs": [],
   "source": [
    "def square_matrix_power(A, n):\n",
    "    output = [item[:] for item in A]\n",
    "    temp = [item[:] for item in A]\n",
    "    for i in range(n - 1):\n",
    "        # output = A * output\n",
    "        # -> output = A * temp\n",
    "        #    temp = output\n",
    "        output[0][0] = A[0][0] * temp[0][0] + A[0][1] * temp[1][0]\n",
    "        output[0][1] = A[0][0] * temp[0][1] + A[0][1] * temp[1][1]\n",
    "        output[1][0] = A[1][0] * temp[0][0] + A[1][1] * temp[1][0]\n",
    "        output[1][1] = A[1][0] * temp[0][1] + A[1][1] * temp[1][1]\n",
    "        temp = [item[:] for item in output]\n",
    "    return output"
   ]
  },
  {
   "cell_type": "code",
   "execution_count": 66,
   "metadata": {
    "colab": {},
    "colab_type": "code",
    "id": "AY5Tj-w0PMLQ"
   },
   "outputs": [],
   "source": [
    "A = [\n",
    "     [1, 1], \n",
    "     [1, 0]\n",
    "]"
   ]
  },
  {
   "cell_type": "code",
   "execution_count": 67,
   "metadata": {
    "colab": {
     "base_uri": "https://localhost:8080/",
     "height": 35
    },
    "colab_type": "code",
    "id": "IUJhgUDbPGuR",
    "outputId": "154d47b7-7aeb-4362-8fda-c3f7d94bf134"
   },
   "outputs": [
    {
     "name": "stdout",
     "output_type": "stream",
     "text": [
      "[[2, 1], [1, 1]]\n"
     ]
    }
   ],
   "source": [
    "print(square_matrix_power(A, 2))"
   ]
  },
  {
   "cell_type": "code",
   "execution_count": 68,
   "metadata": {
    "colab": {
     "base_uri": "https://localhost:8080/",
     "height": 201
    },
    "colab_type": "code",
    "id": "2PLmw7oOPKDc",
    "outputId": "6e7724ba-1bad-4066-813f-47455ff4dd99"
   },
   "outputs": [
    {
     "name": "stdout",
     "output_type": "stream",
     "text": [
      "0 1\n",
      "1 1\n",
      "2 2\n",
      "3 3\n",
      "4 5\n",
      "5 8\n",
      "6 13\n",
      "7 21\n",
      "8 34\n",
      "9 55\n"
     ]
    }
   ],
   "source": [
    "for n in range(10):\n",
    "    output = square_matrix_power(A, n)\n",
    "    print(n, output[0][0])"
   ]
  },
  {
   "cell_type": "markdown",
   "metadata": {
    "colab_type": "text",
    "id": "V4bsIvOxSRJE"
   },
   "source": [
    "# Tuples and Sets"
   ]
  },
  {
   "cell_type": "code",
   "execution_count": 69,
   "metadata": {
    "colab": {},
    "colab_type": "code",
    "id": "_DJblfyJPhY1"
   },
   "outputs": [],
   "source": [
    "bmi_categories = (\"Underweight\", \"Normal\", \"Overweight\", \"Very overweight\")"
   ]
  },
  {
   "cell_type": "code",
   "execution_count": 70,
   "metadata": {
    "colab": {
     "base_uri": "https://localhost:8080/",
     "height": 35
    },
    "colab_type": "code",
    "id": "8CXBKymkSktX",
    "outputId": "ddfaa8cd-0e9a-4ca2-8965-6fac7c2755c0"
   },
   "outputs": [
    {
     "name": "stdout",
     "output_type": "stream",
     "text": [
      "<class 'tuple'>\n"
     ]
    }
   ],
   "source": [
    "print(type(bmi_categories))"
   ]
  },
  {
   "cell_type": "code",
   "execution_count": 71,
   "metadata": {
    "colab": {
     "base_uri": "https://localhost:8080/",
     "height": 35
    },
    "colab_type": "code",
    "id": "PSZ4cleeSnNq",
    "outputId": "91ceab10-d955-4199-f498-956b170eb715"
   },
   "outputs": [
    {
     "name": "stdout",
     "output_type": "stream",
     "text": [
      "Very overweight\n"
     ]
    }
   ],
   "source": [
    "print(bmi_categories[-1])"
   ]
  },
  {
   "cell_type": "code",
   "execution_count": 72,
   "metadata": {
    "colab": {
     "base_uri": "https://localhost:8080/",
     "height": 35
    },
    "colab_type": "code",
    "id": "Atj3VM1RSs_Z",
    "outputId": "5c96aca3-9c1e-4e21-d0d5-a9416b5c19a4"
   },
   "outputs": [
    {
     "name": "stdout",
     "output_type": "stream",
     "text": [
      "('Underweight', 'Normal')\n"
     ]
    }
   ],
   "source": [
    "print(bmi_categories[0:2])"
   ]
  },
  {
   "cell_type": "code",
   "execution_count": 73,
   "metadata": {
    "colab": {
     "base_uri": "https://localhost:8080/",
     "height": 35
    },
    "colab_type": "code",
    "id": "KhqmARH5S3p4",
    "outputId": "9a3acd93-b935-4e9d-a463-d2d61046507b"
   },
   "outputs": [
    {
     "data": {
      "text/plain": [
       "1"
      ]
     },
     "execution_count": 73,
     "metadata": {},
     "output_type": "execute_result"
    }
   ],
   "source": [
    "bmi_categories.index(\"Normal\")"
   ]
  },
  {
   "cell_type": "code",
   "execution_count": 74,
   "metadata": {
    "colab": {
     "base_uri": "https://localhost:8080/",
     "height": 191
    },
    "colab_type": "code",
    "id": "ThQzsWyRTEvp",
    "outputId": "cd00781f-09e1-42d8-fdb2-94b02bc5adab"
   },
   "outputs": [
    {
     "ename": "ValueError",
     "evalue": "tuple.index(x): x not in tuple",
     "output_type": "error",
     "traceback": [
      "\u001b[1;31m---------------------------------------------------------------------------\u001b[0m",
      "\u001b[1;31mValueError\u001b[0m                                Traceback (most recent call last)",
      "\u001b[1;32m<ipython-input-74-e8511bb3003f>\u001b[0m in \u001b[0;36m<module>\u001b[1;34m\u001b[0m\n\u001b[1;32m----> 1\u001b[1;33m \u001b[0mbmi_categories\u001b[0m\u001b[1;33m.\u001b[0m\u001b[0mindex\u001b[0m\u001b[1;33m(\u001b[0m\u001b[1;34m\"Very underweight\"\u001b[0m\u001b[1;33m)\u001b[0m\u001b[1;33m\u001b[0m\u001b[1;33m\u001b[0m\u001b[0m\n\u001b[0m",
      "\u001b[1;31mValueError\u001b[0m: tuple.index(x): x not in tuple"
     ]
    }
   ],
   "source": [
    "bmi_categories.index(\"Very underweight\")"
   ]
  },
  {
   "cell_type": "code",
   "execution_count": 75,
   "metadata": {
    "colab": {
     "base_uri": "https://localhost:8080/",
     "height": 35
    },
    "colab_type": "code",
    "id": "VXt7mx4ATMgp",
    "outputId": "8f842d51-fca5-433a-b62b-3e000ea47f55"
   },
   "outputs": [
    {
     "name": "stdout",
     "output_type": "stream",
     "text": [
      "True\n"
     ]
    }
   ],
   "source": [
    "print(\"Underweight\" in bmi_categories)"
   ]
  },
  {
   "cell_type": "code",
   "execution_count": 76,
   "metadata": {
    "colab": {
     "base_uri": "https://localhost:8080/",
     "height": 191
    },
    "colab_type": "code",
    "id": "ku1Ohc4RTVAe",
    "outputId": "7870dd39-1063-4952-c16b-c80a1293d25c"
   },
   "outputs": [
    {
     "ename": "TypeError",
     "evalue": "'tuple' object does not support item assignment",
     "output_type": "error",
     "traceback": [
      "\u001b[1;31m---------------------------------------------------------------------------\u001b[0m",
      "\u001b[1;31mTypeError\u001b[0m                                 Traceback (most recent call last)",
      "\u001b[1;32m<ipython-input-76-d2ac44599195>\u001b[0m in \u001b[0;36m<module>\u001b[1;34m\u001b[0m\n\u001b[1;32m----> 1\u001b[1;33m \u001b[0mbmi_categories\u001b[0m\u001b[1;33m[\u001b[0m\u001b[1;36m3\u001b[0m\u001b[1;33m]\u001b[0m \u001b[1;33m=\u001b[0m \u001b[1;34m\"VERY overweight\"\u001b[0m\u001b[1;33m\u001b[0m\u001b[1;33m\u001b[0m\u001b[0m\n\u001b[0m",
      "\u001b[1;31mTypeError\u001b[0m: 'tuple' object does not support item assignment"
     ]
    }
   ],
   "source": [
    "bmi_categories[3] = \"VERY overweight\"\n",
    "# Useful error message"
   ]
  },
  {
   "cell_type": "code",
   "execution_count": 77,
   "metadata": {
    "colab": {
     "base_uri": "https://localhost:8080/",
     "height": 35
    },
    "colab_type": "code",
    "id": "EGiN0aGOTiTW",
    "outputId": "57ae5d11-d68f-41db-a526-3eaeb87519b6"
   },
   "outputs": [
    {
     "name": "stdout",
     "output_type": "stream",
     "text": [
      "178 ms ± 34.4 ms per loop (mean ± std. dev. of 10 runs, 1 loop each)\n"
     ]
    }
   ],
   "source": [
    "%%timeit -n1 -r10\n",
    "for i in range(1000000):\n",
    "    my_list = [\"Tuples\", \"are\", \"faster\", \"than\", \"lists\"]"
   ]
  },
  {
   "cell_type": "code",
   "execution_count": 78,
   "metadata": {
    "colab": {},
    "colab_type": "code",
    "id": "UvYyyEkAUc1M"
   },
   "outputs": [],
   "source": [
    "%%timeit?"
   ]
  },
  {
   "cell_type": "code",
   "execution_count": 79,
   "metadata": {
    "colab": {
     "base_uri": "https://localhost:8080/",
     "height": 35
    },
    "colab_type": "code",
    "id": "i23Msh0bUiAM",
    "outputId": "78a50f61-3aa1-4ae1-d999-3229a707d2d5"
   },
   "outputs": [
    {
     "name": "stdout",
     "output_type": "stream",
     "text": [
      "68.6 ms ± 7.29 ms per loop (mean ± std. dev. of 10 runs, 1 loop each)\n"
     ]
    }
   ],
   "source": [
    "%%timeit -n1 -r10\n",
    "for i in range(1000000):\n",
    "    my_tuple = (\"Tuples\", \"are\", \"faster\", \"than\", \"lists\")"
   ]
  },
  {
   "cell_type": "code",
   "execution_count": 80,
   "metadata": {
    "colab": {},
    "colab_type": "code",
    "id": "kv9wQVEWUtZ1"
   },
   "outputs": [],
   "source": [
    "batsmen = {\"Rohit\", \"Virat\", \"Ravindra\", \"Rahul\"}"
   ]
  },
  {
   "cell_type": "code",
   "execution_count": 81,
   "metadata": {
    "colab": {
     "base_uri": "https://localhost:8080/",
     "height": 35
    },
    "colab_type": "code",
    "id": "Bca5ZURIVLOi",
    "outputId": "d4c5f43d-1ae9-4d4f-a8d0-20f71c57b921"
   },
   "outputs": [
    {
     "name": "stdout",
     "output_type": "stream",
     "text": [
      "<class 'set'>\n"
     ]
    }
   ],
   "source": [
    "print(type(batsmen))"
   ]
  },
  {
   "cell_type": "code",
   "execution_count": 82,
   "metadata": {
    "colab": {
     "base_uri": "https://localhost:8080/",
     "height": 35
    },
    "colab_type": "code",
    "id": "gbdMW5UGVNfX",
    "outputId": "a2858790-43cd-4a6e-e290-f29dcf1327cc"
   },
   "outputs": [
    {
     "name": "stdout",
     "output_type": "stream",
     "text": [
      "True\n"
     ]
    }
   ],
   "source": [
    "print(\"Rohit\" in batsmen)"
   ]
  },
  {
   "cell_type": "code",
   "execution_count": 83,
   "metadata": {
    "colab": {
     "base_uri": "https://localhost:8080/",
     "height": 191
    },
    "colab_type": "code",
    "id": "gX-GPXBvVSV8",
    "outputId": "a418804d-7da7-49be-bf3a-193c9240f997"
   },
   "outputs": [
    {
     "ename": "AttributeError",
     "evalue": "'set' object has no attribute 'index'",
     "output_type": "error",
     "traceback": [
      "\u001b[1;31m---------------------------------------------------------------------------\u001b[0m",
      "\u001b[1;31mAttributeError\u001b[0m                            Traceback (most recent call last)",
      "\u001b[1;32m<ipython-input-83-90ac87f4e015>\u001b[0m in \u001b[0;36m<module>\u001b[1;34m\u001b[0m\n\u001b[1;32m----> 1\u001b[1;33m \u001b[0mbatsmen\u001b[0m\u001b[1;33m.\u001b[0m\u001b[0mindex\u001b[0m\u001b[1;33m(\u001b[0m\u001b[1;34m\"Rohit\"\u001b[0m\u001b[1;33m)\u001b[0m\u001b[1;33m\u001b[0m\u001b[1;33m\u001b[0m\u001b[0m\n\u001b[0m",
      "\u001b[1;31mAttributeError\u001b[0m: 'set' object has no attribute 'index'"
     ]
    }
   ],
   "source": [
    "batsmen.index(\"Rohit\")"
   ]
  },
  {
   "cell_type": "code",
   "execution_count": 84,
   "metadata": {
    "colab": {},
    "colab_type": "code",
    "id": "iPRzKwxpVZe7"
   },
   "outputs": [],
   "source": [
    "bowlers = {\"Ishant\", \"Bumrah\", \"Ravindra\"}"
   ]
  },
  {
   "cell_type": "code",
   "execution_count": 85,
   "metadata": {
    "colab": {
     "base_uri": "https://localhost:8080/",
     "height": 35
    },
    "colab_type": "code",
    "id": "kDGi71-JVjXg",
    "outputId": "0be6f46d-f5a6-45df-bcc3-787b007ef567"
   },
   "outputs": [
    {
     "name": "stdout",
     "output_type": "stream",
     "text": [
      "<class 'set'>\n"
     ]
    }
   ],
   "source": [
    "print(type(bowlers))"
   ]
  },
  {
   "cell_type": "code",
   "execution_count": 86,
   "metadata": {
    "colab": {},
    "colab_type": "code",
    "id": "JFz_RE7LVknF"
   },
   "outputs": [],
   "source": [
    "all_rounders = batsmen.intersection(bowlers)"
   ]
  },
  {
   "cell_type": "code",
   "execution_count": 87,
   "metadata": {
    "colab": {
     "base_uri": "https://localhost:8080/",
     "height": 35
    },
    "colab_type": "code",
    "id": "WsEVdemzVoQL",
    "outputId": "4cef10ce-6ba9-4b5d-d8ca-75dd4c0e5f7a"
   },
   "outputs": [
    {
     "name": "stdout",
     "output_type": "stream",
     "text": [
      "<class 'set'>\n"
     ]
    }
   ],
   "source": [
    "print(type(all_rounders))"
   ]
  },
  {
   "cell_type": "code",
   "execution_count": 88,
   "metadata": {
    "colab": {
     "base_uri": "https://localhost:8080/",
     "height": 35
    },
    "colab_type": "code",
    "id": "kplrKHlVVpzW",
    "outputId": "8edc68d4-7716-4cd6-b945-26c28803e631"
   },
   "outputs": [
    {
     "name": "stdout",
     "output_type": "stream",
     "text": [
      "{'Ravindra'}\n"
     ]
    }
   ],
   "source": [
    "print(all_rounders)"
   ]
  },
  {
   "cell_type": "code",
   "execution_count": 89,
   "metadata": {
    "colab": {},
    "colab_type": "code",
    "id": "ADkWKfC1Vrip"
   },
   "outputs": [],
   "source": [
    "players = batsmen.union(bowlers)"
   ]
  },
  {
   "cell_type": "code",
   "execution_count": 90,
   "metadata": {
    "colab": {
     "base_uri": "https://localhost:8080/",
     "height": 35
    },
    "colab_type": "code",
    "id": "MSwKk3G2V2UJ",
    "outputId": "4e2793b6-9291-4c99-986a-ae5d3b620642"
   },
   "outputs": [
    {
     "name": "stdout",
     "output_type": "stream",
     "text": [
      "<class 'set'>\n"
     ]
    }
   ],
   "source": [
    "print(type(players))"
   ]
  },
  {
   "cell_type": "code",
   "execution_count": 91,
   "metadata": {
    "colab": {
     "base_uri": "https://localhost:8080/",
     "height": 35
    },
    "colab_type": "code",
    "id": "YxaOIZETV3Y5",
    "outputId": "67b429be-2a1f-4b96-8e4a-7f5e80057854"
   },
   "outputs": [
    {
     "name": "stdout",
     "output_type": "stream",
     "text": [
      "{'Virat', 'Bumrah', 'Rahul', 'Ishant', 'Rohit', 'Ravindra'}\n"
     ]
    }
   ],
   "source": [
    "print(players)"
   ]
  },
  {
   "cell_type": "code",
   "execution_count": 92,
   "metadata": {
    "colab": {},
    "colab_type": "code",
    "id": "25ZGq6hLV4T4"
   },
   "outputs": [],
   "source": [
    "bowlers = {\"Ishant\", \"Bumrah\", \"Ravindra\", \"Bumrah\"}"
   ]
  },
  {
   "cell_type": "code",
   "execution_count": 93,
   "metadata": {
    "colab": {
     "base_uri": "https://localhost:8080/",
     "height": 35
    },
    "colab_type": "code",
    "id": "3f4SpXn_V-YI",
    "outputId": "e2e7ba5b-79d2-44e2-89ca-eaf917a466fe"
   },
   "outputs": [
    {
     "name": "stdout",
     "output_type": "stream",
     "text": [
      "{'Ishant', 'Bumrah', 'Ravindra'}\n"
     ]
    }
   ],
   "source": [
    "print(bowlers)"
   ]
  },
  {
   "cell_type": "code",
   "execution_count": 94,
   "metadata": {
    "colab": {
     "base_uri": "https://localhost:8080/",
     "height": 35
    },
    "colab_type": "code",
    "id": "dIDmR9x7V_vC",
    "outputId": "d29a450c-b0be-4424-f78a-fd3e979a7dbb"
   },
   "outputs": [
    {
     "name": "stdout",
     "output_type": "stream",
     "text": [
      "358 ms ± 22.6 ms per loop (mean ± std. dev. of 10 runs, 1 loop each)\n"
     ]
    }
   ],
   "source": [
    "%%timeit -n1 -r10\n",
    "my_list = list(range(10000))\n",
    "for i in range(10000):\n",
    "    b = 1947 in my_list"
   ]
  },
  {
   "cell_type": "code",
   "execution_count": 95,
   "metadata": {
    "colab": {
     "base_uri": "https://localhost:8080/",
     "height": 35
    },
    "colab_type": "code",
    "id": "Li-V91Y1WkEf",
    "outputId": "33cfa67d-a632-4143-bb79-f9be899d8183"
   },
   "outputs": [
    {
     "name": "stdout",
     "output_type": "stream",
     "text": [
      "346 ms ± 39.1 ms per loop (mean ± std. dev. of 10 runs, 1 loop each)\n"
     ]
    }
   ],
   "source": [
    "%%timeit -n1 -r10\n",
    "my_tuple = tuple(range(10000))\n",
    "for i in range(10000):\n",
    "    b = 1947 in my_tuple"
   ]
  },
  {
   "cell_type": "code",
   "execution_count": 96,
   "metadata": {
    "colab": {
     "base_uri": "https://localhost:8080/",
     "height": 35
    },
    "colab_type": "code",
    "id": "0Co9MdoAWpHI",
    "outputId": "cdcf3e71-06a0-449c-d348-d0f0ba481e98"
   },
   "outputs": [
    {
     "name": "stdout",
     "output_type": "stream",
     "text": [
      "1.94 ms ± 877 µs per loop (mean ± std. dev. of 10 runs, 1 loop each)\n"
     ]
    }
   ],
   "source": [
    "%%timeit -n1 -r10\n",
    "my_set = set(range(10000))\n",
    "for i in range(10000):\n",
    "    b = 1947 in my_set"
   ]
  },
  {
   "cell_type": "markdown",
   "metadata": {
    "colab_type": "text",
    "id": "sTDgFpQCa9xa"
   },
   "source": [
    "# Dictionary"
   ]
  },
  {
   "cell_type": "code",
   "execution_count": 97,
   "metadata": {
    "colab": {},
    "colab_type": "code",
    "id": "ufnuvOHzaunz"
   },
   "outputs": [],
   "source": [
    "bmi_dataset = [\n",
    "               [\"Krishna\", 75, 1.73, False],\n",
    "               [\"Bheem\", 120, 1.78, True]\n",
    "]"
   ]
  },
  {
   "cell_type": "code",
   "execution_count": 98,
   "metadata": {
    "colab": {},
    "colab_type": "code",
    "id": "nxRU93n1bCx7"
   },
   "outputs": [],
   "source": [
    "bmi_record = {\n",
    "    \"name\": \"Krishna\",\n",
    "    \"weight\": 75,\n",
    "    \"height\": 1.73,\n",
    "    \"is_overweight\": False\n",
    "}"
   ]
  },
  {
   "cell_type": "code",
   "execution_count": 99,
   "metadata": {
    "colab": {
     "base_uri": "https://localhost:8080/",
     "height": 35
    },
    "colab_type": "code",
    "id": "2RNmOCEAb43J",
    "outputId": "3f167663-3c2f-4194-a078-c85acb370dc3"
   },
   "outputs": [
    {
     "name": "stdout",
     "output_type": "stream",
     "text": [
      "<class 'dict'>\n"
     ]
    }
   ],
   "source": [
    "print(type(bmi_record))"
   ]
  },
  {
   "cell_type": "code",
   "execution_count": 100,
   "metadata": {
    "colab": {
     "base_uri": "https://localhost:8080/",
     "height": 35
    },
    "colab_type": "code",
    "id": "q3knrRTfb6LK",
    "outputId": "9b6217a5-8c0a-4168-9a35-1547e901f09e"
   },
   "outputs": [
    {
     "data": {
      "text/plain": [
       "'Krishna'"
      ]
     },
     "execution_count": 100,
     "metadata": {},
     "output_type": "execute_result"
    }
   ],
   "source": [
    "bmi_record[\"name\"]"
   ]
  },
  {
   "cell_type": "code",
   "execution_count": 101,
   "metadata": {
    "colab": {
     "base_uri": "https://localhost:8080/",
     "height": 191
    },
    "colab_type": "code",
    "id": "63W3rfkzcAeZ",
    "outputId": "0a791a3b-83be-4941-a083-9942b3bee1a8"
   },
   "outputs": [
    {
     "ename": "KeyError",
     "evalue": "'email'",
     "output_type": "error",
     "traceback": [
      "\u001b[1;31m---------------------------------------------------------------------------\u001b[0m",
      "\u001b[1;31mKeyError\u001b[0m                                  Traceback (most recent call last)",
      "\u001b[1;32m<ipython-input-101-5f8e83e5c83b>\u001b[0m in \u001b[0;36m<module>\u001b[1;34m\u001b[0m\n\u001b[1;32m----> 1\u001b[1;33m \u001b[0mbmi_record\u001b[0m\u001b[1;33m[\u001b[0m\u001b[1;34m\"email\"\u001b[0m\u001b[1;33m]\u001b[0m\u001b[1;33m\u001b[0m\u001b[1;33m\u001b[0m\u001b[0m\n\u001b[0m",
      "\u001b[1;31mKeyError\u001b[0m: 'email'"
     ]
    }
   ],
   "source": [
    "bmi_record[\"email\"]"
   ]
  },
  {
   "cell_type": "code",
   "execution_count": 102,
   "metadata": {
    "colab": {},
    "colab_type": "code",
    "id": "fpW4ztt8cFDW"
   },
   "outputs": [],
   "source": [
    "bmi_record[\"email\"] = \"krishna@idontknow.com\""
   ]
  },
  {
   "cell_type": "code",
   "execution_count": 103,
   "metadata": {
    "colab": {
     "base_uri": "https://localhost:8080/",
     "height": 55
    },
    "colab_type": "code",
    "id": "vpfoArSdcKt6",
    "outputId": "45506530-470f-40b4-b88c-46d7d9eeaaa5"
   },
   "outputs": [
    {
     "name": "stdout",
     "output_type": "stream",
     "text": [
      "{'name': 'Krishna', 'weight': 75, 'height': 1.73, 'is_overweight': False, 'email': 'krishna@idontknow.com'}\n"
     ]
    }
   ],
   "source": [
    "print(bmi_record)"
   ]
  },
  {
   "cell_type": "code",
   "execution_count": 104,
   "metadata": {
    "colab": {
     "base_uri": "https://localhost:8080/",
     "height": 109
    },
    "colab_type": "code",
    "id": "HnbthNJDcMZB",
    "outputId": "837da8ab-9b05-4d3d-c554-489305f281e5"
   },
   "outputs": [
    {
     "name": "stdout",
     "output_type": "stream",
     "text": [
      "name : Krishna\n",
      "weight : 75\n",
      "height : 1.73\n",
      "is_overweight : False\n",
      "email : krishna@idontknow.com\n"
     ]
    }
   ],
   "source": [
    "for key in bmi_record:\n",
    "    print(key, \":\", bmi_record[key])"
   ]
  },
  {
   "cell_type": "code",
   "execution_count": 105,
   "metadata": {
    "colab": {
     "base_uri": "https://localhost:8080/",
     "height": 35
    },
    "colab_type": "code",
    "id": "UkbDd6yQcaqQ",
    "outputId": "c0d9e18e-1472-45fd-8956-391bbd53a495"
   },
   "outputs": [
    {
     "name": "stdout",
     "output_type": "stream",
     "text": [
      "dict_keys(['name', 'weight', 'height', 'is_overweight', 'email'])\n"
     ]
    }
   ],
   "source": [
    "print(bmi_record.keys())"
   ]
  },
  {
   "cell_type": "code",
   "execution_count": 106,
   "metadata": {
    "colab": {},
    "colab_type": "code",
    "id": "SoWv6sKncoTl"
   },
   "outputs": [],
   "source": [
    "bmi_record_1 = {\n",
    "    \"name\": \"Bheem\",\n",
    "    \"weight\": 125,\n",
    "    \"height\": 1.75,\n",
    "    \"is_overweight\": True,\n",
    "    \"email\": \"bheem@foodtruck.com\"\n",
    "}"
   ]
  },
  {
   "cell_type": "code",
   "execution_count": 107,
   "metadata": {
    "colab": {},
    "colab_type": "code",
    "id": "UXhGexkfc9vu"
   },
   "outputs": [],
   "source": [
    "bmi_dataset = [bmi_record, bmi_record_1]"
   ]
  },
  {
   "cell_type": "code",
   "execution_count": 108,
   "metadata": {
    "colab": {
     "base_uri": "https://localhost:8080/",
     "height": 35
    },
    "colab_type": "code",
    "id": "Fnv5saMIdBgt",
    "outputId": "8ae4ca82-c217-41b0-c208-d98a5c1d13fc"
   },
   "outputs": [
    {
     "name": "stdout",
     "output_type": "stream",
     "text": [
      "False\n"
     ]
    }
   ],
   "source": [
    "print(bmi_dataset[0][\"is_overweight\"])"
   ]
  },
  {
   "cell_type": "markdown",
   "metadata": {
    "colab_type": "text",
    "id": "hotfYemIdSJo"
   },
   "source": [
    "## Exercise for dictionary"
   ]
  },
  {
   "cell_type": "markdown",
   "metadata": {
    "colab_type": "text",
    "id": "qCbcEYcndV3x"
   },
   "source": [
    "Receive the user input that says something like \"I went to Parliament\" or \"Why don't you go to Wankhede\". You then subsitute the POI by its lat and long coordinates of that POI."
   ]
  },
  {
   "cell_type": "code",
   "execution_count": 109,
   "metadata": {
    "colab": {},
    "colab_type": "code",
    "id": "Kyl9MayUdEAN"
   },
   "outputs": [],
   "source": [
    "pois = {\"Parliament\": \"28°37'2\\\"N, 77°12'29\\\"E\", \n",
    "        \"Wankhede\": \"18°56'20.10\\\"N, 72°49'32.60\\\"E\",\n",
    "        \"Nalanda\": \"25°8'12\\\"N, 85°26'38\\\"E\",\n",
    "        \"Mahabalipuram\": \"12°37'21.817\\\"N, 80°11'38.080\\\"E\"\n",
    "        }"
   ]
  },
  {
   "cell_type": "code",
   "execution_count": 123,
   "metadata": {
    "colab": {
     "base_uri": "https://localhost:8080/",
     "height": 35
    },
    "colab_type": "code",
    "id": "LDXs7VuVfDYA",
    "outputId": "48148098-e90e-4e47-ed34-4ddbd10fa6e9"
   },
   "outputs": [
    {
     "name": "stdout",
     "output_type": "stream",
     "text": [
      "I went to Wankhede\n"
     ]
    }
   ],
   "source": [
    "user_text = input(\"\")"
   ]
  },
  {
   "cell_type": "code",
   "execution_count": 124,
   "metadata": {
    "colab": {
     "base_uri": "https://localhost:8080/",
     "height": 35
    },
    "colab_type": "code",
    "id": "24cznA3cfH-I",
    "outputId": "02e9ccc8-604f-4614-8e9b-28b5d9c6c40c"
   },
   "outputs": [
    {
     "name": "stdout",
     "output_type": "stream",
     "text": [
      "['I', 'went', 'to', 'Wankhede']\n"
     ]
    }
   ],
   "source": [
    "words = user_text.split()\n",
    "print(words)"
   ]
  },
  {
   "cell_type": "code",
   "execution_count": 125,
   "metadata": {
    "colab": {},
    "colab_type": "code",
    "id": "147LejjMfURV"
   },
   "outputs": [],
   "source": [
    "output = \"\"\n",
    "for word in words:\n",
    "    if word in pois:\n",
    "        output += pois[word]\n",
    "    else:\n",
    "        output += word\n",
    "    output += \" \""
   ]
  },
  {
   "cell_type": "code",
   "execution_count": 126,
   "metadata": {
    "colab": {
     "base_uri": "https://localhost:8080/",
     "height": 35
    },
    "colab_type": "code",
    "id": "EHHKEIY_fpQp",
    "outputId": "aa27273d-bef5-4586-fed8-bf5475c097c6"
   },
   "outputs": [
    {
     "name": "stdout",
     "output_type": "stream",
     "text": [
      "I went to 18°56'20.10\"N, 72°49'32.60\"E \n"
     ]
    }
   ],
   "source": [
    "print(output)"
   ]
  },
  {
   "cell_type": "code",
   "execution_count": 127,
   "metadata": {
    "colab": {},
    "colab_type": "code",
    "id": "0wuZ3tmdfqNm"
   },
   "outputs": [],
   "source": [
    "output = \"\"\n",
    "for word in words:\n",
    "    #get:function available on dictionary\n",
    "    #Used to get the word as the key, and tries to see if it exists in POI's. If it does, it replaces and gives the value.\n",
    "    #If it doesn't exists, I need to give it a default value. Here, \"word\" as again.\n",
    "    #If word is a valid key in dict., return the transformed value of that. If it doesn't, give me word itself.\n",
    "    output += (pois.get(word, word) + \" \")"
   ]
  },
  {
   "cell_type": "code",
   "execution_count": 128,
   "metadata": {
    "colab": {
     "base_uri": "https://localhost:8080/",
     "height": 35
    },
    "colab_type": "code",
    "id": "BN20yKSAgFpx",
    "outputId": "58ec7fc0-6f8d-4212-f411-4479fef6a67d"
   },
   "outputs": [
    {
     "name": "stdout",
     "output_type": "stream",
     "text": [
      "I went to 18°56'20.10\"N, 72°49'32.60\"E \n"
     ]
    }
   ],
   "source": [
    "print(output)"
   ]
  },
  {
   "cell_type": "markdown",
   "metadata": {
    "colab_type": "text",
    "id": "bKvfycfkgQ3r"
   },
   "source": [
    "# Exercise - Design Thinking\n",
    "Practical Usecase\n",
    "\n",
    "![alt text](https://www.polygons.tech/wp-content/uploads/adas-road2-web-1200.jpg)\n",
    "\n",
    "Consider the following data store that is used to represent the output of annotation process. \n",
    "\n",
    "```\n",
    "Car 1729\n",
    "X1, Y1\n",
    "X2, Y2\n",
    "X3, Y3\n",
    "...\n",
    "Xk, Yk\n",
    "----\n",
    "Car \n",
    "X1, Y1\n",
    "X2, Y2\n",
    "...\n",
    "Xk', Yk'\n",
    "----\n",
    "...\n",
    "```\n",
    "\n",
    "Multiple cars are annotated in each image. Each car has a string name followed by a series of points forming a closed polygon. The number of these points varies from car to car. Each point itself is characterised by two numbers corresponding to the x and y coordinates. What data structures would you use to represent this. Note that you have multiple levels of representation that are nested and different choices can be made for each level. "
   ]
  },
  {
   "cell_type": "markdown",
   "metadata": {
    "colab_type": "text",
    "id": "0jOZYFBKl1A1"
   },
   "source": [
    "# Files"
   ]
  },
  {
   "cell_type": "code",
   "execution_count": 129,
   "metadata": {},
   "outputs": [
    {
     "name": "stdout",
     "output_type": "stream",
     "text": [
      "['Unending Love by Rabindranath Tagore\\n', '\\n', 'I seem to have loved you in numberless forms, numberless times\\n', 'In life after life, in age after age, forever.\\n', 'My spellbound heart has made and remade the necklace of songs,\\n', 'That you take as a gift, wear round your neck in your many forms,\\n', 'In life after life, in age after age, forever.\\n', '\\n', 'Whenever I hear old chronicles of love, its age-old pain,\\n', 'Its ancient tale of being apart or together.\\n', 'As I stare on and on into the past, in the end you emerge,\\n', 'Clad in the light of a pole-star piercing the darkness of time:\\n', 'You become an image of what is remembered forever.\\n', '\\n', 'You and I have floated here on the stream that brings from the fount.\\n', 'At the heart of time, love of one for another.\\n', 'We have played along side millions of lovers, shared in the same\\n', 'Shy sweetness of meeting, the same distressful tears of farewell-\\n', 'Old love but in shapes that renew and renew forever.\\n', '\\n', 'Today it is heaped at your feet, it has found its end in you\\n', 'The love of all man’s days both past and forever:\\n', 'Universal joy, universal sorrow, universal life.\\n', 'The memories of all loves merging with this one love of ours –\\n', 'And the songs of every poet past and forever.']\n"
     ]
    }
   ],
   "source": [
    "f = open(\"poem.txt\", \"r\")\n",
    "out_lines = f.readlines()\n",
    "print(out_lines)\n",
    "f.close()"
   ]
  },
  {
   "cell_type": "code",
   "execution_count": 130,
   "metadata": {
    "colab": {},
    "colab_type": "code",
    "id": "_P-KqqtRltoe"
   },
   "outputs": [],
   "source": [
    "f = open(\"poem.txt\", \"r\")"
   ]
  },
  {
   "cell_type": "code",
   "execution_count": 131,
   "metadata": {
    "colab": {
     "base_uri": "https://localhost:8080/",
     "height": 35
    },
    "colab_type": "code",
    "id": "Yy9n5PYumyrF",
    "outputId": "fc86de43-600d-41ad-cfe8-36b931dd1ca8"
   },
   "outputs": [
    {
     "name": "stdout",
     "output_type": "stream",
     "text": [
      "<_io.TextIOWrapper name='poem.txt' mode='r' encoding='cp1252'>\n"
     ]
    }
   ],
   "source": [
    "print(f)"
   ]
  },
  {
   "cell_type": "code",
   "execution_count": 132,
   "metadata": {
    "colab": {},
    "colab_type": "code",
    "id": "Y1JoHERmmzqX"
   },
   "outputs": [],
   "source": [
    "output = f.read()"
   ]
  },
  {
   "cell_type": "code",
   "execution_count": 133,
   "metadata": {
    "colab": {
     "base_uri": "https://localhost:8080/",
     "height": 477
    },
    "colab_type": "code",
    "id": "ig5eOCYnm6fO",
    "outputId": "0be4dcd2-6e61-41d5-cf3a-b3b9257aa4fc"
   },
   "outputs": [
    {
     "name": "stdout",
     "output_type": "stream",
     "text": [
      "Unending Love by Rabindranath Tagore\n",
      "\n",
      "I seem to have loved you in numberless forms, numberless times\n",
      "In life after life, in age after age, forever.\n",
      "My spellbound heart has made and remade the necklace of songs,\n",
      "That you take as a gift, wear round your neck in your many forms,\n",
      "In life after life, in age after age, forever.\n",
      "\n",
      "Whenever I hear old chronicles of love, its age-old pain,\n",
      "Its ancient tale of being apart or together.\n",
      "As I stare on and on into the past, in the end you emerge,\n",
      "Clad in the light of a pole-star piercing the darkness of time:\n",
      "You become an image of what is remembered forever.\n",
      "\n",
      "You and I have floated here on the stream that brings from the fount.\n",
      "At the heart of time, love of one for another.\n",
      "We have played along side millions of lovers, shared in the same\n",
      "Shy sweetness of meeting, the same distressful tears of farewell-\n",
      "Old love but in shapes that renew and renew forever.\n",
      "\n",
      "Today it is heaped at your feet, it has found its end in you\n",
      "The love of all man’s days both past and forever:\n",
      "Universal joy, universal sorrow, universal life.\n",
      "The memories of all loves merging with this one love of ours –\n",
      "And the songs of every poet past and forever.\n"
     ]
    }
   ],
   "source": [
    "print(output)"
   ]
  },
  {
   "cell_type": "code",
   "execution_count": 134,
   "metadata": {
    "colab": {
     "base_uri": "https://localhost:8080/",
     "height": 54
    },
    "colab_type": "code",
    "id": "_ddGl1xmm7VH",
    "outputId": "ca7902df-2bb7-42da-d107-16ad6b05cc3b"
   },
   "outputs": [
    {
     "name": "stdout",
     "output_type": "stream",
     "text": [
      "Unending Love by Rabindranath Tagore\n",
      "\n"
     ]
    }
   ],
   "source": [
    "f = open(\"poem.txt\", \"r\")\n",
    "out_line = f.readline()\n",
    "print(out_line)"
   ]
  },
  {
   "cell_type": "code",
   "execution_count": 135,
   "metadata": {
    "colab": {
     "base_uri": "https://localhost:8080/",
     "height": 54
    },
    "colab_type": "code",
    "id": "5jLCietmnHW3",
    "outputId": "0b8d7b92-1baa-4f07-9f1e-8062181edb1d"
   },
   "outputs": [
    {
     "name": "stdout",
     "output_type": "stream",
     "text": [
      "\n",
      "\n"
     ]
    }
   ],
   "source": [
    "out_line = f.readline()\n",
    "print(out_line)"
   ]
  },
  {
   "cell_type": "code",
   "execution_count": 136,
   "metadata": {
    "colab": {
     "base_uri": "https://localhost:8080/",
     "height": 54
    },
    "colab_type": "code",
    "id": "XZlfBpNWnKZr",
    "outputId": "63d79fa0-bc4a-4a3d-ac85-2687cbf4fc99"
   },
   "outputs": [
    {
     "name": "stdout",
     "output_type": "stream",
     "text": [
      "I seem to have loved you in numberless forms, numberless times\n",
      "\n"
     ]
    }
   ],
   "source": [
    "out_line = f.readline()\n",
    "print(out_line)"
   ]
  },
  {
   "cell_type": "code",
   "execution_count": 137,
   "metadata": {
    "colab": {
     "base_uri": "https://localhost:8080/",
     "height": 55
    },
    "colab_type": "code",
    "id": "4uHX46O7nMEC",
    "outputId": "aeaf5b4f-0e2b-42d1-a19d-1a414d3bb5c1"
   },
   "outputs": [
    {
     "name": "stdout",
     "output_type": "stream",
     "text": [
      "['Unending Love by Rabindranath Tagore\\n', '\\n', 'I seem to have loved you in numberless forms, numberless times\\n', 'In life after life, in age after age, forever.\\n', 'My spellbound heart has made and remade the necklace of songs,\\n', 'That you take as a gift, wear round your neck in your many forms,\\n', 'In life after life, in age after age, forever.\\n', '\\n', 'Whenever I hear old chronicles of love, its age-old pain,\\n', 'Its ancient tale of being apart or together.\\n', 'As I stare on and on into the past, in the end you emerge,\\n', 'Clad in the light of a pole-star piercing the darkness of time:\\n', 'You become an image of what is remembered forever.\\n', '\\n', 'You and I have floated here on the stream that brings from the fount.\\n', 'At the heart of time, love of one for another.\\n', 'We have played along side millions of lovers, shared in the same\\n', 'Shy sweetness of meeting, the same distressful tears of farewell-\\n', 'Old love but in shapes that renew and renew forever.\\n', '\\n', 'Today it is heaped at your feet, it has found its end in you\\n', 'The love of all man’s days both past and forever:\\n', 'Universal joy, universal sorrow, universal life.\\n', 'The memories of all loves merging with this one love of ours –\\n', 'And the songs of every poet past and forever.']\n"
     ]
    }
   ],
   "source": [
    "f = open(\"poem.txt\", \"r\")\n",
    "out_lines = f.readlines()\n",
    "print(out_lines)"
   ]
  },
  {
   "cell_type": "code",
   "execution_count": 138,
   "metadata": {
    "colab": {},
    "colab_type": "code",
    "id": "srMGVS67nS9g"
   },
   "outputs": [],
   "source": [
    "f.close()\n",
    "#If not closed, it somehow restricts the files to some other applications.\n",
    "#Performnance can be hurt, if not closed. Memory should be released."
   ]
  },
  {
   "cell_type": "code",
   "execution_count": 139,
   "metadata": {
    "colab": {
     "base_uri": "https://localhost:8080/",
     "height": 191
    },
    "colab_type": "code",
    "id": "n3ecHqLDncHw",
    "outputId": "cc6e0e6f-8e05-4644-afa1-69f053bad4e0"
   },
   "outputs": [
    {
     "ename": "ValueError",
     "evalue": "I/O operation on closed file.",
     "output_type": "error",
     "traceback": [
      "\u001b[1;31m---------------------------------------------------------------------------\u001b[0m",
      "\u001b[1;31mValueError\u001b[0m                                Traceback (most recent call last)",
      "\u001b[1;32m<ipython-input-139-0a6ad4065469>\u001b[0m in \u001b[0;36m<module>\u001b[1;34m\u001b[0m\n\u001b[1;32m----> 1\u001b[1;33m \u001b[0mout_line\u001b[0m \u001b[1;33m=\u001b[0m \u001b[0mf\u001b[0m\u001b[1;33m.\u001b[0m\u001b[0mreadline\u001b[0m\u001b[1;33m(\u001b[0m\u001b[1;33m)\u001b[0m\u001b[1;33m\u001b[0m\u001b[1;33m\u001b[0m\u001b[0m\n\u001b[0m",
      "\u001b[1;31mValueError\u001b[0m: I/O operation on closed file."
     ]
    }
   ],
   "source": [
    "out_line = f.readline()"
   ]
  },
  {
   "cell_type": "code",
   "execution_count": 140,
   "metadata": {
    "colab": {
     "base_uri": "https://localhost:8080/",
     "height": 55
    },
    "colab_type": "code",
    "id": "RpbQQl2XnegA",
    "outputId": "c7c4ca44-2da1-4d36-a3fd-03f46c7cd8d0"
   },
   "outputs": [
    {
     "name": "stdout",
     "output_type": "stream",
     "text": [
      "['Unending Love by Rabindranath Tagore\\n', '\\n', 'I seem to have loved you in numberless forms, numberless times\\n', 'In life after life, in age after age, forever.\\n', 'My spellbound heart has made and remade the necklace of songs,\\n', 'That you take as a gift, wear round your neck in your many forms,\\n', 'In life after life, in age after age, forever.\\n', '\\n', 'Whenever I hear old chronicles of love, its age-old pain,\\n', 'Its ancient tale of being apart or together.\\n', 'As I stare on and on into the past, in the end you emerge,\\n', 'Clad in the light of a pole-star piercing the darkness of time:\\n', 'You become an image of what is remembered forever.\\n', '\\n', 'You and I have floated here on the stream that brings from the fount.\\n', 'At the heart of time, love of one for another.\\n', 'We have played along side millions of lovers, shared in the same\\n', 'Shy sweetness of meeting, the same distressful tears of farewell-\\n', 'Old love but in shapes that renew and renew forever.\\n', '\\n', 'Today it is heaped at your feet, it has found its end in you\\n', 'The love of all man’s days both past and forever:\\n', 'Universal joy, universal sorrow, universal life.\\n', 'The memories of all loves merging with this one love of ours –\\n', 'And the songs of every poet past and forever.']\n"
     ]
    }
   ],
   "source": [
    "with open(\"poem.txt\", \"r\") as f: #Once out of this block, the object f is automatically destroyed or the file is automatically closed.\n",
    "    out_lines = f.readlines()\n",
    "    print(out_lines) "
   ]
  },
  {
   "cell_type": "code",
   "execution_count": 141,
   "metadata": {
    "colab": {
     "base_uri": "https://localhost:8080/",
     "height": 191
    },
    "colab_type": "code",
    "id": "raNR8TPMqXtS",
    "outputId": "166a5c9c-393e-4152-e100-cbece9d5113d"
   },
   "outputs": [
    {
     "ename": "ValueError",
     "evalue": "I/O operation on closed file.",
     "output_type": "error",
     "traceback": [
      "\u001b[1;31m---------------------------------------------------------------------------\u001b[0m",
      "\u001b[1;31mValueError\u001b[0m                                Traceback (most recent call last)",
      "\u001b[1;32m<ipython-input-141-055d0c37aeda>\u001b[0m in \u001b[0;36m<module>\u001b[1;34m\u001b[0m\n\u001b[1;32m----> 1\u001b[1;33m \u001b[0mf\u001b[0m\u001b[1;33m.\u001b[0m\u001b[0mreadlines\u001b[0m\u001b[1;33m(\u001b[0m\u001b[1;33m)\u001b[0m\u001b[1;33m\u001b[0m\u001b[1;33m\u001b[0m\u001b[0m\n\u001b[0m",
      "\u001b[1;31mValueError\u001b[0m: I/O operation on closed file."
     ]
    }
   ],
   "source": [
    "f.readlines()"
   ]
  },
  {
   "cell_type": "code",
   "execution_count": 142,
   "metadata": {
    "colab": {
     "base_uri": "https://localhost:8080/",
     "height": 55
    },
    "colab_type": "code",
    "id": "brA2ghgfqawf",
    "outputId": "d85758e1-871b-4f35-ede6-48e78a301dd5"
   },
   "outputs": [
    {
     "name": "stdout",
     "output_type": "stream",
     "text": [
      "['Unending Love by Rabindranath Tagore\\n', '\\n', 'I seem to have loved you in numberless forms, numberless times\\n', 'In life after life, in age after age, forever.\\n', 'My spellbound heart has made and remade the necklace of songs,\\n', 'That you take as a gift, wear round your neck in your many forms,\\n', 'In life after life, in age after age, forever.\\n', '\\n', 'Whenever I hear old chronicles of love, its age-old pain,\\n', 'Its ancient tale of being apart or together.\\n', 'As I stare on and on into the past, in the end you emerge,\\n', 'Clad in the light of a pole-star piercing the darkness of time:\\n', 'You become an image of what is remembered forever.\\n', '\\n', 'You and I have floated here on the stream that brings from the fount.\\n', 'At the heart of time, love of one for another.\\n', 'We have played along side millions of lovers, shared in the same\\n', 'Shy sweetness of meeting, the same distressful tears of farewell-\\n', 'Old love but in shapes that renew and renew forever.\\n', '\\n', 'Today it is heaped at your feet, it has found its end in you\\n', 'The love of all man’s days both past and forever:\\n', 'Universal joy, universal sorrow, universal life.\\n', 'The memories of all loves merging with this one love of ours –\\n', 'And the songs of every poet past and forever.']\n"
     ]
    }
   ],
   "source": [
    "f = open(\"poem.txt\", \"r\")\n",
    "out_lines = f.readlines()\n",
    "print(out_lines)\n",
    "f.close()"
   ]
  },
  {
   "cell_type": "code",
   "execution_count": 143,
   "metadata": {},
   "outputs": [
    {
     "name": "stdout",
     "output_type": "stream",
     "text": [
      "Unending Love by Rabindranath Tagore\n",
      "\n",
      "\n",
      "\n",
      "I seem to have loved you in numberless forms, numberless times\n",
      "\n",
      "In life after life, in age after age, forever.\n",
      "\n",
      "My spellbound heart has made and remade the necklace of songs,\n",
      "\n",
      "That you take as a gift, wear round your neck in your many forms,\n",
      "\n",
      "In life after life, in age after age, forever.\n",
      "\n",
      "\n",
      "\n",
      "Whenever I hear old chronicles of love, its age-old pain,\n",
      "\n",
      "Its ancient tale of being apart or together.\n",
      "\n",
      "As I stare on and on into the past, in the end you emerge,\n",
      "\n",
      "Clad in the light of a pole-star piercing the darkness of time:\n",
      "\n",
      "You become an image of what is remembered forever.\n",
      "\n",
      "\n",
      "\n",
      "You and I have floated here on the stream that brings from the fount.\n",
      "\n",
      "At the heart of time, love of one for another.\n",
      "\n",
      "We have played along side millions of lovers, shared in the same\n",
      "\n",
      "Shy sweetness of meeting, the same distressful tears of farewell-\n",
      "\n",
      "Old love but in shapes that renew and renew forever.\n",
      "\n",
      "\n",
      "\n",
      "Today it is heaped at your feet, it has found its end in you\n",
      "\n",
      "The love of all man’s days both past and forever:\n",
      "\n",
      "Universal joy, universal sorrow, universal life.\n",
      "\n",
      "The memories of all loves merging with this one love of ours –\n",
      "\n",
      "And the songs of every poet past and forever.\n"
     ]
    }
   ],
   "source": [
    "for line in out_lines:\n",
    "    print(line)"
   ]
  },
  {
   "cell_type": "code",
   "execution_count": 144,
   "metadata": {},
   "outputs": [
    {
     "name": "stdout",
     "output_type": "stream",
     "text": [
      "Unending Love by Rabindranath Tagore\n",
      "\n",
      "I seem to have loved you in numberless forms, numberless times\n",
      "In life after life, in age after age, forever.\n",
      "My spellbound heart has made and remade the necklace of songs,\n",
      "That you take as a gift, wear round your neck in your many forms,\n",
      "In life after life, in age after age, forever.\n",
      "\n",
      "Whenever I hear old chronicles of love, its age-old pain,\n",
      "Its ancient tale of being apart or together.\n",
      "As I stare on and on into the past, in the end you emerge,\n",
      "Clad in the light of a pole-star piercing the darkness of time:\n",
      "You become an image of what is remembered forever.\n",
      "\n",
      "You and I have floated here on the stream that brings from the fount.\n",
      "At the heart of time, love of one for another.\n",
      "We have played along side millions of lovers, shared in the same\n",
      "Shy sweetness of meeting, the same distressful tears of farewell-\n",
      "Old love but in shapes that renew and renew forever.\n",
      "\n",
      "Today it is heaped at your feet, it has found its end in you\n",
      "The love of all man’s days both past and forever:\n",
      "Universal joy, universal sorrow, universal life.\n",
      "The memories of all loves merging with this one love of ours –\n",
      "And the songs of every poet past and forever.\n"
     ]
    }
   ],
   "source": [
    "for line in out_lines:\n",
    "    print(line.strip())"
   ]
  },
  {
   "cell_type": "code",
   "execution_count": 145,
   "metadata": {
    "colab": {
     "base_uri": "https://localhost:8080/",
     "height": 497
    },
    "colab_type": "code",
    "id": "yfybbwLuq8Ss",
    "outputId": "6f9d186a-12e0-4837-f00a-e3fbb99081aa"
   },
   "outputs": [
    {
     "name": "stdout",
     "output_type": "stream",
     "text": [
      "0 \t Unending Love by Rabindranath Tagore\n",
      "1 \t \n",
      "2 \t I seem to have loved you in numberless forms, numberless times\n",
      "3 \t In life after life, in age after age, forever.\n",
      "4 \t My spellbound heart has made and remade the necklace of songs,\n",
      "5 \t That you take as a gift, wear round your neck in your many forms,\n",
      "6 \t In life after life, in age after age, forever.\n",
      "7 \t \n",
      "8 \t Whenever I hear old chronicles of love, its age-old pain,\n",
      "9 \t Its ancient tale of being apart or together.\n",
      "10 \t As I stare on and on into the past, in the end you emerge,\n",
      "11 \t Clad in the light of a pole-star piercing the darkness of time:\n",
      "12 \t You become an image of what is remembered forever.\n",
      "13 \t \n",
      "14 \t You and I have floated here on the stream that brings from the fount.\n",
      "15 \t At the heart of time, love of one for another.\n",
      "16 \t We have played along side millions of lovers, shared in the same\n",
      "17 \t Shy sweetness of meeting, the same distressful tears of farewell-\n",
      "18 \t Old love but in shapes that renew and renew forever.\n",
      "19 \t \n",
      "20 \t Today it is heaped at your feet, it has found its end in you\n",
      "21 \t The love of all man’s days both past and forever:\n",
      "22 \t Universal joy, universal sorrow, universal life.\n",
      "23 \t The memories of all loves merging with this one love of ours –\n",
      "24 \t And the songs of every poet past and forever.\n"
     ]
    }
   ],
   "source": [
    "i = 0\n",
    "for line in out_lines:\n",
    "    print(i, '\\t', line.strip()) #strip : used to remove the leading and trailing spaces on new lines in strings.\n",
    "    i += 1"
   ]
  },
  {
   "cell_type": "code",
   "execution_count": 146,
   "metadata": {
    "colab": {},
    "colab_type": "code",
    "id": "01zYZPzXrDvo"
   },
   "outputs": [],
   "source": [
    "#Creating a new file handler\n",
    "f_out = open(\"fav.txt\", \"w\")"
   ]
  },
  {
   "cell_type": "code",
   "execution_count": 147,
   "metadata": {
    "colab": {},
    "colab_type": "code",
    "id": "hZCTo6I-reJL"
   },
   "outputs": [],
   "source": [
    "f_out.writelines(out_lines[2])"
   ]
  },
  {
   "cell_type": "code",
   "execution_count": 148,
   "metadata": {
    "colab": {},
    "colab_type": "code",
    "id": "L_PTj0Srrjq-"
   },
   "outputs": [],
   "source": [
    "f_out.close()"
   ]
  },
  {
   "cell_type": "code",
   "execution_count": 149,
   "metadata": {
    "colab": {},
    "colab_type": "code",
    "id": "hVBBnZXBrv3Y"
   },
   "outputs": [],
   "source": [
    "fav_lines = [2, 22]"
   ]
  },
  {
   "cell_type": "code",
   "execution_count": 150,
   "metadata": {
    "colab": {},
    "colab_type": "code",
    "id": "t8owFzztr35X"
   },
   "outputs": [],
   "source": [
    "with open(\"fav.txt\", \"w\") as f_out:\n",
    "    for fav_line in fav_lines:\n",
    "        f_out.writelines(out_lines[fav_line])"
   ]
  },
  {
   "cell_type": "markdown",
   "metadata": {
    "colab_type": "text",
    "id": "edmIJ9KUsRsU"
   },
   "source": [
    "#### Exercise\n",
    "\n",
    "1.   Create a dictionary whose keys correspond to unique words in a given file and whose values correspond to the number of times each word appears in the file.\n",
    "2.   To an output file, write the 10 most frequent words in separate lines.\n",
    "3.   To an output file, write the 5 most frequenct 2-grams in separate lines.\n",
    "\n",
    "\n"
   ]
  },
  {
   "cell_type": "markdown",
   "metadata": {
    "colab_type": "text",
    "id": "-OuV1y82BUYV"
   },
   "source": [
    "# Problem 1, 2"
   ]
  },
  {
   "cell_type": "code",
   "execution_count": 151,
   "metadata": {
    "colab": {
     "base_uri": "https://localhost:8080/",
     "height": 55
    },
    "colab_type": "code",
    "id": "RqhwDYTpBVac",
    "outputId": "a1e1f1cb-283b-4bf8-e170-dccc0a372e54"
   },
   "outputs": [
    {
     "name": "stdout",
     "output_type": "stream",
     "text": [
      "['Unending Love by Rabindranath Tagore\\n', '\\n', 'I seem to have loved you in numberless forms, numberless times\\n', 'In life after life, in age after age, forever.\\n', 'My spellbound heart has made and remade the necklace of songs,\\n', 'That you take as a gift, wear round your neck in your many forms,\\n', 'In life after life, in age after age, forever.\\n', '\\n', 'Whenever I hear old chronicles of love, its age-old pain,\\n', 'Its ancient tale of being apart or together.\\n', 'As I stare on and on into the past, in the end you emerge,\\n', 'Clad in the light of a pole-star piercing the darkness of time:\\n', 'You become an image of what is remembered forever.\\n', '\\n', 'You and I have floated here on the stream that brings from the fount.\\n', 'At the heart of time, love of one for another.\\n', 'We have played along side millions of lovers, shared in the same\\n', 'Shy sweetness of meeting, the same distressful tears of farewell-\\n', 'Old love but in shapes that renew and renew forever.\\n', '\\n', 'Today it is heaped at your feet, it has found its end in you\\n', 'The love of all man’s days both past and forever:\\n', 'Universal joy, universal sorrow, universal life.\\n', 'The memories of all loves merging with this one love of ours –\\n', 'And the songs of every poet past and forever.']\n"
     ]
    }
   ],
   "source": [
    "f = open(\"poem.txt\", \"r\")\n",
    "lines = f.readlines()\n",
    "print(lines)\n",
    "f.close()"
   ]
  },
  {
   "cell_type": "code",
   "execution_count": 152,
   "metadata": {
    "colab": {},
    "colab_type": "code",
    "id": "k2o2s4jJBYSs"
   },
   "outputs": [],
   "source": [
    "for item in lines:\n",
    "    item = item.lower()"
   ]
  },
  {
   "cell_type": "code",
   "execution_count": 153,
   "metadata": {
    "colab": {
     "base_uri": "https://localhost:8080/",
     "height": 54
    },
    "colab_type": "code",
    "id": "9wNMoBAwBoOU",
    "outputId": "2c52361c-5c38-44f7-d9dd-333f36a08abf"
   },
   "outputs": [
    {
     "name": "stdout",
     "output_type": "stream",
     "text": [
      "Unending Love by Rabindranath Tagore\n",
      "\n"
     ]
    }
   ],
   "source": [
    "print(lines[0])"
   ]
  },
  {
   "cell_type": "code",
   "execution_count": 154,
   "metadata": {
    "colab": {},
    "colab_type": "code",
    "id": "TFF31Cz1Bpya"
   },
   "outputs": [],
   "source": [
    "length = len(lines)\n",
    "for i in range(length):\n",
    "    lines[i] = lines[i].lower()"
   ]
  },
  {
   "cell_type": "code",
   "execution_count": 155,
   "metadata": {
    "colab": {
     "base_uri": "https://localhost:8080/",
     "height": 54
    },
    "colab_type": "code",
    "id": "nPD1C8UmB6RG",
    "outputId": "fce9f838-0d72-4d8a-89aa-2a7dbcf53eef"
   },
   "outputs": [
    {
     "name": "stdout",
     "output_type": "stream",
     "text": [
      "unending love by rabindranath tagore\n",
      "\n"
     ]
    }
   ],
   "source": [
    "print(lines[0])"
   ]
  },
  {
   "cell_type": "code",
   "execution_count": 156,
   "metadata": {
    "colab": {
     "base_uri": "https://localhost:8080/",
     "height": 55
    },
    "colab_type": "code",
    "id": "K5Zu5a0BB8e5",
    "outputId": "43c69fd2-aaaa-48c7-8d02-5c3e2e7b3cfe"
   },
   "outputs": [
    {
     "name": "stdout",
     "output_type": "stream",
     "text": [
      "['unending love by rabindranath tagore\\n', '\\n', 'i seem to have loved you in numberless forms, numberless times\\n', 'in life after life, in age after age, forever.\\n', 'my spellbound heart has made and remade the necklace of songs,\\n', 'that you take as a gift, wear round your neck in your many forms,\\n', 'in life after life, in age after age, forever.\\n', '\\n', 'whenever i hear old chronicles of love, its age-old pain,\\n', 'its ancient tale of being apart or together.\\n', 'as i stare on and on into the past, in the end you emerge,\\n', 'clad in the light of a pole-star piercing the darkness of time:\\n', 'you become an image of what is remembered forever.\\n', '\\n', 'you and i have floated here on the stream that brings from the fount.\\n', 'at the heart of time, love of one for another.\\n', 'we have played along side millions of lovers, shared in the same\\n', 'shy sweetness of meeting, the same distressful tears of farewell-\\n', 'old love but in shapes that renew and renew forever.\\n', '\\n', 'today it is heaped at your feet, it has found its end in you\\n', 'the love of all man’s days both past and forever:\\n', 'universal joy, universal sorrow, universal life.\\n', 'the memories of all loves merging with this one love of ours –\\n', 'and the songs of every poet past and forever.']\n"
     ]
    }
   ],
   "source": [
    "print(lines)"
   ]
  },
  {
   "cell_type": "code",
   "execution_count": 157,
   "metadata": {
    "colab": {},
    "colab_type": "code",
    "id": "6p68KD7_B9zj"
   },
   "outputs": [],
   "source": [
    "for i in range(length):\n",
    "    lines[i] = lines[i].replace('\\n', ' ')"
   ]
  },
  {
   "cell_type": "code",
   "execution_count": 158,
   "metadata": {
    "colab": {
     "base_uri": "https://localhost:8080/",
     "height": 55
    },
    "colab_type": "code",
    "id": "cieU63uDCLlW",
    "outputId": "29a24b1b-b4ba-4dcc-e87b-7a0be091b142"
   },
   "outputs": [
    {
     "name": "stdout",
     "output_type": "stream",
     "text": [
      "['unending love by rabindranath tagore ', ' ', 'i seem to have loved you in numberless forms, numberless times ', 'in life after life, in age after age, forever. ', 'my spellbound heart has made and remade the necklace of songs, ', 'that you take as a gift, wear round your neck in your many forms, ', 'in life after life, in age after age, forever. ', ' ', 'whenever i hear old chronicles of love, its age-old pain, ', 'its ancient tale of being apart or together. ', 'as i stare on and on into the past, in the end you emerge, ', 'clad in the light of a pole-star piercing the darkness of time: ', 'you become an image of what is remembered forever. ', ' ', 'you and i have floated here on the stream that brings from the fount. ', 'at the heart of time, love of one for another. ', 'we have played along side millions of lovers, shared in the same ', 'shy sweetness of meeting, the same distressful tears of farewell- ', 'old love but in shapes that renew and renew forever. ', ' ', 'today it is heaped at your feet, it has found its end in you ', 'the love of all man’s days both past and forever: ', 'universal joy, universal sorrow, universal life. ', 'the memories of all loves merging with this one love of ours – ', 'and the songs of every poet past and forever.']\n"
     ]
    }
   ],
   "source": [
    "print(lines)"
   ]
  },
  {
   "cell_type": "code",
   "execution_count": 159,
   "metadata": {
    "colab": {},
    "colab_type": "code",
    "id": "5ScoSoYQCMur"
   },
   "outputs": [],
   "source": [
    "chars_to_replace = ['\\n', ',', '-', '\"', '(', ')', '.']\n",
    "for i in range(length):\n",
    "    for s in chars_to_replace:\n",
    "        lines[i] = lines[i].replace(s, ' ')"
   ]
  },
  {
   "cell_type": "code",
   "execution_count": 160,
   "metadata": {
    "colab": {
     "base_uri": "https://localhost:8080/",
     "height": 55
    },
    "colab_type": "code",
    "id": "aSa-Yuu8Cjk6",
    "outputId": "3012727d-0c0b-4f9e-8f74-c92cb9382bca"
   },
   "outputs": [
    {
     "name": "stdout",
     "output_type": "stream",
     "text": [
      "['unending love by rabindranath tagore ', ' ', 'i seem to have loved you in numberless forms  numberless times ', 'in life after life  in age after age  forever  ', 'my spellbound heart has made and remade the necklace of songs  ', 'that you take as a gift  wear round your neck in your many forms  ', 'in life after life  in age after age  forever  ', ' ', 'whenever i hear old chronicles of love  its age old pain  ', 'its ancient tale of being apart or together  ', 'as i stare on and on into the past  in the end you emerge  ', 'clad in the light of a pole star piercing the darkness of time: ', 'you become an image of what is remembered forever  ', ' ', 'you and i have floated here on the stream that brings from the fount  ', 'at the heart of time  love of one for another  ', 'we have played along side millions of lovers  shared in the same ', 'shy sweetness of meeting  the same distressful tears of farewell  ', 'old love but in shapes that renew and renew forever  ', ' ', 'today it is heaped at your feet  it has found its end in you ', 'the love of all man’s days both past and forever: ', 'universal joy  universal sorrow  universal life  ', 'the memories of all loves merging with this one love of ours – ', 'and the songs of every poet past and forever ']\n"
     ]
    }
   ],
   "source": [
    "print(lines)"
   ]
  },
  {
   "cell_type": "code",
   "execution_count": 161,
   "metadata": {
    "colab": {},
    "colab_type": "code",
    "id": "Fdpi4spmClKS"
   },
   "outputs": [],
   "source": [
    "text = \"\"\n",
    "for line in lines:\n",
    "    text += line + \" \" "
   ]
  },
  {
   "cell_type": "code",
   "execution_count": 162,
   "metadata": {
    "colab": {
     "base_uri": "https://localhost:8080/",
     "height": 55
    },
    "colab_type": "code",
    "id": "YE8i94NLC7ep",
    "outputId": "751e84b6-e35f-4571-97dc-eacc6b927950"
   },
   "outputs": [
    {
     "name": "stdout",
     "output_type": "stream",
     "text": [
      "unending love by rabindranath tagore    i seem to have loved you in numberless forms  numberless times  in life after life  in age after age  forever   my spellbound heart has made and remade the necklace of songs   that you take as a gift  wear round your neck in your many forms   in life after life  in age after age  forever     whenever i hear old chronicles of love  its age old pain   its ancient tale of being apart or together   as i stare on and on into the past  in the end you emerge   clad in the light of a pole star piercing the darkness of time:  you become an image of what is remembered forever     you and i have floated here on the stream that brings from the fount   at the heart of time  love of one for another   we have played along side millions of lovers  shared in the same  shy sweetness of meeting  the same distressful tears of farewell   old love but in shapes that renew and renew forever     today it is heaped at your feet  it has found its end in you  the love of all man’s days both past and forever:  universal joy  universal sorrow  universal life   the memories of all loves merging with this one love of ours –  and the songs of every poet past and forever  \n"
     ]
    }
   ],
   "source": [
    "print(text)"
   ]
  },
  {
   "cell_type": "code",
   "execution_count": 163,
   "metadata": {
    "colab": {},
    "colab_type": "code",
    "id": "vGmiAZh2C-VN"
   },
   "outputs": [],
   "source": [
    "text = \" \".join(lines)"
   ]
  },
  {
   "cell_type": "code",
   "execution_count": 164,
   "metadata": {
    "colab": {
     "base_uri": "https://localhost:8080/",
     "height": 55
    },
    "colab_type": "code",
    "id": "2guM_qx8DNy1",
    "outputId": "bd509177-9cf0-4546-ee6f-0f0b71632f89"
   },
   "outputs": [
    {
     "name": "stdout",
     "output_type": "stream",
     "text": [
      "unending love by rabindranath tagore    i seem to have loved you in numberless forms  numberless times  in life after life  in age after age  forever   my spellbound heart has made and remade the necklace of songs   that you take as a gift  wear round your neck in your many forms   in life after life  in age after age  forever     whenever i hear old chronicles of love  its age old pain   its ancient tale of being apart or together   as i stare on and on into the past  in the end you emerge   clad in the light of a pole star piercing the darkness of time:  you become an image of what is remembered forever     you and i have floated here on the stream that brings from the fount   at the heart of time  love of one for another   we have played along side millions of lovers  shared in the same  shy sweetness of meeting  the same distressful tears of farewell   old love but in shapes that renew and renew forever     today it is heaped at your feet  it has found its end in you  the love of all man’s days both past and forever:  universal joy  universal sorrow  universal life   the memories of all loves merging with this one love of ours –  and the songs of every poet past and forever \n"
     ]
    }
   ],
   "source": [
    "print(text)"
   ]
  },
  {
   "cell_type": "code",
   "execution_count": 165,
   "metadata": {
    "colab": {},
    "colab_type": "code",
    "id": "h9wLviwZDOor"
   },
   "outputs": [],
   "source": [
    "words = text.split()"
   ]
  },
  {
   "cell_type": "code",
   "execution_count": 166,
   "metadata": {
    "colab": {
     "base_uri": "https://localhost:8080/",
     "height": 55
    },
    "colab_type": "code",
    "id": "Xb-VC2VaDUYW",
    "outputId": "433288be-ea54-4da2-82af-84ba3cfe94d2"
   },
   "outputs": [
    {
     "name": "stdout",
     "output_type": "stream",
     "text": [
      "222 ['unending', 'love', 'by', 'rabindranath', 'tagore', 'i', 'seem', 'to', 'have', 'loved', 'you', 'in', 'numberless', 'forms', 'numberless', 'times', 'in', 'life', 'after', 'life', 'in', 'age', 'after', 'age', 'forever', 'my', 'spellbound', 'heart', 'has', 'made', 'and', 'remade', 'the', 'necklace', 'of', 'songs', 'that', 'you', 'take', 'as', 'a', 'gift', 'wear', 'round', 'your', 'neck', 'in', 'your', 'many', 'forms', 'in', 'life', 'after', 'life', 'in', 'age', 'after', 'age', 'forever', 'whenever', 'i', 'hear', 'old', 'chronicles', 'of', 'love', 'its', 'age', 'old', 'pain', 'its', 'ancient', 'tale', 'of', 'being', 'apart', 'or', 'together', 'as', 'i', 'stare', 'on', 'and', 'on', 'into', 'the', 'past', 'in', 'the', 'end', 'you', 'emerge', 'clad', 'in', 'the', 'light', 'of', 'a', 'pole', 'star', 'piercing', 'the', 'darkness', 'of', 'time:', 'you', 'become', 'an', 'image', 'of', 'what', 'is', 'remembered', 'forever', 'you', 'and', 'i', 'have', 'floated', 'here', 'on', 'the', 'stream', 'that', 'brings', 'from', 'the', 'fount', 'at', 'the', 'heart', 'of', 'time', 'love', 'of', 'one', 'for', 'another', 'we', 'have', 'played', 'along', 'side', 'millions', 'of', 'lovers', 'shared', 'in', 'the', 'same', 'shy', 'sweetness', 'of', 'meeting', 'the', 'same', 'distressful', 'tears', 'of', 'farewell', 'old', 'love', 'but', 'in', 'shapes', 'that', 'renew', 'and', 'renew', 'forever', 'today', 'it', 'is', 'heaped', 'at', 'your', 'feet', 'it', 'has', 'found', 'its', 'end', 'in', 'you', 'the', 'love', 'of', 'all', 'man’s', 'days', 'both', 'past', 'and', 'forever:', 'universal', 'joy', 'universal', 'sorrow', 'universal', 'life', 'the', 'memories', 'of', 'all', 'loves', 'merging', 'with', 'this', 'one', 'love', 'of', 'ours', '–', 'and', 'the', 'songs', 'of', 'every', 'poet', 'past', 'and', 'forever']\n"
     ]
    }
   ],
   "source": [
    "print(len(words), words)"
   ]
  },
  {
   "cell_type": "code",
   "execution_count": 167,
   "metadata": {
    "colab": {},
    "colab_type": "code",
    "id": "PLDKWzRDDWsr"
   },
   "outputs": [],
   "source": [
    "word_freq = {}"
   ]
  },
  {
   "cell_type": "code",
   "execution_count": 168,
   "metadata": {
    "colab": {},
    "colab_type": "code",
    "id": "gMQY9pysDkhQ"
   },
   "outputs": [],
   "source": [
    "for word in words:\n",
    "    if word in word_freq:\n",
    "        word_freq[word] += 1\n",
    "    else:\n",
    "        word_freq[word] = 1"
   ]
  },
  {
   "cell_type": "code",
   "execution_count": 169,
   "metadata": {
    "colab": {},
    "colab_type": "code",
    "id": "9wzLXk_eJTCM"
   },
   "outputs": [
    {
     "ename": "NameError",
     "evalue": "name 'iterable_counter' is not defined",
     "output_type": "error",
     "traceback": [
      "\u001b[1;31m---------------------------------------------------------------------------\u001b[0m",
      "\u001b[1;31mNameError\u001b[0m                                 Traceback (most recent call last)",
      "\u001b[1;32m<ipython-input-169-ae4abe3d54ce>\u001b[0m in \u001b[0;36m<module>\u001b[1;34m\u001b[0m\n\u001b[1;32m----> 1\u001b[1;33m \u001b[0mword_freq\u001b[0m \u001b[1;33m=\u001b[0m \u001b[0miterable_counter\u001b[0m\u001b[1;33m(\u001b[0m\u001b[0mwords\u001b[0m\u001b[1;33m)\u001b[0m\u001b[1;33m\u001b[0m\u001b[1;33m\u001b[0m\u001b[0m\n\u001b[0m",
      "\u001b[1;31mNameError\u001b[0m: name 'iterable_counter' is not defined"
     ]
    }
   ],
   "source": [
    "word_freq = iterable_counter(words)"
   ]
  },
  {
   "cell_type": "code",
   "execution_count": 170,
   "metadata": {
    "colab": {
     "base_uri": "https://localhost:8080/",
     "height": 55
    },
    "colab_type": "code",
    "id": "Qq5y1bvyD2Pg",
    "outputId": "a3448b0a-b0ec-4352-e5c3-7b15741e936a"
   },
   "outputs": [
    {
     "name": "stdout",
     "output_type": "stream",
     "text": [
      "{'unending': 1, 'love': 6, 'by': 1, 'rabindranath': 1, 'tagore': 1, 'i': 4, 'seem': 1, 'to': 1, 'have': 3, 'loved': 1, 'you': 6, 'in': 11, 'numberless': 2, 'forms': 2, 'times': 1, 'life': 5, 'after': 4, 'age': 5, 'forever': 5, 'my': 1, 'spellbound': 1, 'heart': 2, 'has': 2, 'made': 1, 'and': 7, 'remade': 1, 'the': 13, 'necklace': 1, 'of': 15, 'songs': 2, 'that': 3, 'take': 1, 'as': 2, 'a': 2, 'gift': 1, 'wear': 1, 'round': 1, 'your': 3, 'neck': 1, 'many': 1, 'whenever': 1, 'hear': 1, 'old': 3, 'chronicles': 1, 'its': 3, 'pain': 1, 'ancient': 1, 'tale': 1, 'being': 1, 'apart': 1, 'or': 1, 'together': 1, 'stare': 1, 'on': 3, 'into': 1, 'past': 3, 'end': 2, 'emerge': 1, 'clad': 1, 'light': 1, 'pole': 1, 'star': 1, 'piercing': 1, 'darkness': 1, 'time:': 1, 'become': 1, 'an': 1, 'image': 1, 'what': 1, 'is': 2, 'remembered': 1, 'floated': 1, 'here': 1, 'stream': 1, 'brings': 1, 'from': 1, 'fount': 1, 'at': 2, 'time': 1, 'one': 2, 'for': 1, 'another': 1, 'we': 1, 'played': 1, 'along': 1, 'side': 1, 'millions': 1, 'lovers': 1, 'shared': 1, 'same': 2, 'shy': 1, 'sweetness': 1, 'meeting': 1, 'distressful': 1, 'tears': 1, 'farewell': 1, 'but': 1, 'shapes': 1, 'renew': 2, 'today': 1, 'it': 2, 'heaped': 1, 'feet': 1, 'found': 1, 'all': 2, 'man’s': 1, 'days': 1, 'both': 1, 'forever:': 1, 'universal': 3, 'joy': 1, 'sorrow': 1, 'memories': 1, 'loves': 1, 'merging': 1, 'with': 1, 'this': 1, 'ours': 1, '–': 1, 'every': 1, 'poet': 1}\n"
     ]
    }
   ],
   "source": [
    "print(word_freq)"
   ]
  },
  {
   "cell_type": "code",
   "execution_count": 171,
   "metadata": {
    "colab": {},
    "colab_type": "code",
    "id": "D9JRadaND4Pk"
   },
   "outputs": [],
   "source": [
    "# How to sort dictionary in python by value?\n",
    "# sorted(x.items(), key=lambda item: item[1])"
   ]
  },
  {
   "cell_type": "code",
   "execution_count": 172,
   "metadata": {
    "colab": {
     "base_uri": "https://localhost:8080/",
     "height": 55
    },
    "colab_type": "code",
    "id": "PktncF2nEjU5",
    "outputId": "2bfd6664-3486-47ff-fab8-343880824c71"
   },
   "outputs": [
    {
     "name": "stdout",
     "output_type": "stream",
     "text": [
      "[('a', 2), ('after', 4), ('age', 5), ('all', 2), ('along', 1), ('an', 1), ('ancient', 1), ('and', 7), ('another', 1), ('apart', 1), ('as', 2), ('at', 2), ('become', 1), ('being', 1), ('both', 1), ('brings', 1), ('but', 1), ('by', 1), ('chronicles', 1), ('clad', 1), ('darkness', 1), ('days', 1), ('distressful', 1), ('emerge', 1), ('end', 2), ('every', 1), ('farewell', 1), ('feet', 1), ('floated', 1), ('for', 1), ('forever', 5), ('forever:', 1), ('forms', 2), ('found', 1), ('fount', 1), ('from', 1), ('gift', 1), ('has', 2), ('have', 3), ('heaped', 1), ('hear', 1), ('heart', 2), ('here', 1), ('i', 4), ('image', 1), ('in', 11), ('into', 1), ('is', 2), ('it', 2), ('its', 3), ('joy', 1), ('life', 5), ('light', 1), ('love', 6), ('loved', 1), ('lovers', 1), ('loves', 1), ('made', 1), ('many', 1), ('man’s', 1), ('meeting', 1), ('memories', 1), ('merging', 1), ('millions', 1), ('my', 1), ('neck', 1), ('necklace', 1), ('numberless', 2), ('of', 15), ('old', 3), ('on', 3), ('one', 2), ('or', 1), ('ours', 1), ('pain', 1), ('past', 3), ('piercing', 1), ('played', 1), ('poet', 1), ('pole', 1), ('rabindranath', 1), ('remade', 1), ('remembered', 1), ('renew', 2), ('round', 1), ('same', 2), ('seem', 1), ('shapes', 1), ('shared', 1), ('shy', 1), ('side', 1), ('songs', 2), ('sorrow', 1), ('spellbound', 1), ('star', 1), ('stare', 1), ('stream', 1), ('sweetness', 1), ('tagore', 1), ('take', 1), ('tale', 1), ('tears', 1), ('that', 3), ('the', 13), ('this', 1), ('time', 1), ('time:', 1), ('times', 1), ('to', 1), ('today', 1), ('together', 1), ('unending', 1), ('universal', 3), ('we', 1), ('wear', 1), ('what', 1), ('whenever', 1), ('with', 1), ('you', 6), ('your', 3), ('–', 1)]\n"
     ]
    }
   ],
   "source": [
    "print(sorted(word_freq.items()))"
   ]
  },
  {
   "cell_type": "code",
   "execution_count": 173,
   "metadata": {
    "colab": {},
    "colab_type": "code",
    "id": "HaAhYulMEpYZ"
   },
   "outputs": [],
   "source": [
    "sorted?"
   ]
  },
  {
   "cell_type": "code",
   "execution_count": 174,
   "metadata": {
    "colab": {
     "base_uri": "https://localhost:8080/",
     "height": 55
    },
    "colab_type": "code",
    "id": "kuiv3F2-FANR",
    "outputId": "9c4a70d9-3be2-40fb-fc56-2eda7bedbec6"
   },
   "outputs": [
    {
     "name": "stdout",
     "output_type": "stream",
     "text": [
      "[('a', 2), ('after', 4), ('age', 5), ('all', 2), ('along', 1), ('an', 1), ('ancient', 1), ('and', 7), ('another', 1), ('apart', 1), ('as', 2), ('at', 2), ('become', 1), ('being', 1), ('both', 1), ('brings', 1), ('but', 1), ('by', 1), ('chronicles', 1), ('clad', 1), ('darkness', 1), ('days', 1), ('distressful', 1), ('emerge', 1), ('end', 2), ('every', 1), ('farewell', 1), ('feet', 1), ('floated', 1), ('for', 1), ('forever', 5), ('forever:', 1), ('forms', 2), ('found', 1), ('fount', 1), ('from', 1), ('gift', 1), ('has', 2), ('have', 3), ('heaped', 1), ('hear', 1), ('heart', 2), ('here', 1), ('i', 4), ('image', 1), ('in', 11), ('into', 1), ('is', 2), ('it', 2), ('its', 3), ('joy', 1), ('life', 5), ('light', 1), ('love', 6), ('loved', 1), ('lovers', 1), ('loves', 1), ('made', 1), ('many', 1), ('man’s', 1), ('meeting', 1), ('memories', 1), ('merging', 1), ('millions', 1), ('my', 1), ('neck', 1), ('necklace', 1), ('numberless', 2), ('of', 15), ('old', 3), ('on', 3), ('one', 2), ('or', 1), ('ours', 1), ('pain', 1), ('past', 3), ('piercing', 1), ('played', 1), ('poet', 1), ('pole', 1), ('rabindranath', 1), ('remade', 1), ('remembered', 1), ('renew', 2), ('round', 1), ('same', 2), ('seem', 1), ('shapes', 1), ('shared', 1), ('shy', 1), ('side', 1), ('songs', 2), ('sorrow', 1), ('spellbound', 1), ('star', 1), ('stare', 1), ('stream', 1), ('sweetness', 1), ('tagore', 1), ('take', 1), ('tale', 1), ('tears', 1), ('that', 3), ('the', 13), ('this', 1), ('time', 1), ('time:', 1), ('times', 1), ('to', 1), ('today', 1), ('together', 1), ('unending', 1), ('universal', 3), ('we', 1), ('wear', 1), ('what', 1), ('whenever', 1), ('with', 1), ('you', 6), ('your', 3), ('–', 1)]\n"
     ]
    }
   ],
   "source": [
    "print(sorted(word_freq.items(), key=lambda item: item[0])) #lamba: inline func. taking item as an argument and return item[0]."
   ]
  },
  {
   "cell_type": "code",
   "execution_count": 175,
   "metadata": {
    "colab": {
     "base_uri": "https://localhost:8080/",
     "height": 55
    },
    "colab_type": "code",
    "id": "7aw9UhRHFojy",
    "outputId": "93b492c8-7111-4e66-fb04-1cea723e181a"
   },
   "outputs": [
    {
     "name": "stdout",
     "output_type": "stream",
     "text": [
      "[('unending', 1), ('by', 1), ('rabindranath', 1), ('tagore', 1), ('seem', 1), ('to', 1), ('loved', 1), ('times', 1), ('my', 1), ('spellbound', 1), ('made', 1), ('remade', 1), ('necklace', 1), ('take', 1), ('gift', 1), ('wear', 1), ('round', 1), ('neck', 1), ('many', 1), ('whenever', 1), ('hear', 1), ('chronicles', 1), ('pain', 1), ('ancient', 1), ('tale', 1), ('being', 1), ('apart', 1), ('or', 1), ('together', 1), ('stare', 1), ('into', 1), ('emerge', 1), ('clad', 1), ('light', 1), ('pole', 1), ('star', 1), ('piercing', 1), ('darkness', 1), ('time:', 1), ('become', 1), ('an', 1), ('image', 1), ('what', 1), ('remembered', 1), ('floated', 1), ('here', 1), ('stream', 1), ('brings', 1), ('from', 1), ('fount', 1), ('time', 1), ('for', 1), ('another', 1), ('we', 1), ('played', 1), ('along', 1), ('side', 1), ('millions', 1), ('lovers', 1), ('shared', 1), ('shy', 1), ('sweetness', 1), ('meeting', 1), ('distressful', 1), ('tears', 1), ('farewell', 1), ('but', 1), ('shapes', 1), ('today', 1), ('heaped', 1), ('feet', 1), ('found', 1), ('man’s', 1), ('days', 1), ('both', 1), ('forever:', 1), ('joy', 1), ('sorrow', 1), ('memories', 1), ('loves', 1), ('merging', 1), ('with', 1), ('this', 1), ('ours', 1), ('–', 1), ('every', 1), ('poet', 1), ('numberless', 2), ('forms', 2), ('heart', 2), ('has', 2), ('songs', 2), ('as', 2), ('a', 2), ('end', 2), ('is', 2), ('at', 2), ('one', 2), ('same', 2), ('renew', 2), ('it', 2), ('all', 2), ('have', 3), ('that', 3), ('your', 3), ('old', 3), ('its', 3), ('on', 3), ('past', 3), ('universal', 3), ('i', 4), ('after', 4), ('life', 5), ('age', 5), ('forever', 5), ('love', 6), ('you', 6), ('and', 7), ('in', 11), ('the', 13), ('of', 15)]\n"
     ]
    }
   ],
   "source": [
    "print(sorted(word_freq.items(), key=lambda item: item[1]))"
   ]
  },
  {
   "cell_type": "code",
   "execution_count": 176,
   "metadata": {
    "colab": {},
    "colab_type": "code",
    "id": "foImE_VrFsta"
   },
   "outputs": [],
   "source": [
    "sorted_list = sorted(word_freq.items(), key=lambda item: item[1])"
   ]
  },
  {
   "cell_type": "code",
   "execution_count": 177,
   "metadata": {
    "colab": {
     "base_uri": "https://localhost:8080/",
     "height": 201
    },
    "colab_type": "code",
    "id": "7oqy63rvGAke",
    "outputId": "c9cdf286-dd48-4bcf-b84e-568d11fa19b6"
   },
   "outputs": [
    {
     "data": {
      "text/plain": [
       "[('after', 4),\n",
       " ('life', 5),\n",
       " ('age', 5),\n",
       " ('forever', 5),\n",
       " ('love', 6),\n",
       " ('you', 6),\n",
       " ('and', 7),\n",
       " ('in', 11),\n",
       " ('the', 13),\n",
       " ('of', 15)]"
      ]
     },
     "execution_count": 177,
     "metadata": {},
     "output_type": "execute_result"
    }
   ],
   "source": [
    "sorted_list[-10:]"
   ]
  },
  {
   "cell_type": "code",
   "execution_count": 178,
   "metadata": {
    "colab": {},
    "colab_type": "code",
    "id": "4z4WulHjGFwf"
   },
   "outputs": [],
   "source": [
    "with open('most_common_words.txt', 'w') as f_out:\n",
    "    for item in sorted_list[-10:]:\n",
    "        f_out.write(item[0] + \"\\n\")"
   ]
  },
  {
   "cell_type": "markdown",
   "metadata": {
    "colab_type": "text",
    "id": "S2kJONpeHgVP"
   },
   "source": [
    "# Problem 3"
   ]
  },
  {
   "cell_type": "markdown",
   "metadata": {
    "colab_type": "text",
    "id": "71iwXvGrHhml"
   },
   "source": [
    "unending love by rabindranath tagore -> (unending, love), (love, by), (by, rabindranath), (rabindranath, tagore)"
   ]
  },
  {
   "cell_type": "code",
   "execution_count": 179,
   "metadata": {
    "colab": {
     "base_uri": "https://localhost:8080/",
     "height": 55
    },
    "colab_type": "code",
    "id": "pf85UCnsGgYT",
    "outputId": "21b48b70-42e3-4578-f049-4acc3c914d84"
   },
   "outputs": [
    {
     "name": "stdout",
     "output_type": "stream",
     "text": [
      "['unending', 'love', 'by', 'rabindranath', 'tagore', 'i', 'seem', 'to', 'have', 'loved', 'you', 'in', 'numberless', 'forms', 'numberless', 'times', 'in', 'life', 'after', 'life', 'in', 'age', 'after', 'age', 'forever', 'my', 'spellbound', 'heart', 'has', 'made', 'and', 'remade', 'the', 'necklace', 'of', 'songs', 'that', 'you', 'take', 'as', 'a', 'gift', 'wear', 'round', 'your', 'neck', 'in', 'your', 'many', 'forms', 'in', 'life', 'after', 'life', 'in', 'age', 'after', 'age', 'forever', 'whenever', 'i', 'hear', 'old', 'chronicles', 'of', 'love', 'its', 'age', 'old', 'pain', 'its', 'ancient', 'tale', 'of', 'being', 'apart', 'or', 'together', 'as', 'i', 'stare', 'on', 'and', 'on', 'into', 'the', 'past', 'in', 'the', 'end', 'you', 'emerge', 'clad', 'in', 'the', 'light', 'of', 'a', 'pole', 'star', 'piercing', 'the', 'darkness', 'of', 'time:', 'you', 'become', 'an', 'image', 'of', 'what', 'is', 'remembered', 'forever', 'you', 'and', 'i', 'have', 'floated', 'here', 'on', 'the', 'stream', 'that', 'brings', 'from', 'the', 'fount', 'at', 'the', 'heart', 'of', 'time', 'love', 'of', 'one', 'for', 'another', 'we', 'have', 'played', 'along', 'side', 'millions', 'of', 'lovers', 'shared', 'in', 'the', 'same', 'shy', 'sweetness', 'of', 'meeting', 'the', 'same', 'distressful', 'tears', 'of', 'farewell', 'old', 'love', 'but', 'in', 'shapes', 'that', 'renew', 'and', 'renew', 'forever', 'today', 'it', 'is', 'heaped', 'at', 'your', 'feet', 'it', 'has', 'found', 'its', 'end', 'in', 'you', 'the', 'love', 'of', 'all', 'man’s', 'days', 'both', 'past', 'and', 'forever:', 'universal', 'joy', 'universal', 'sorrow', 'universal', 'life', 'the', 'memories', 'of', 'all', 'loves', 'merging', 'with', 'this', 'one', 'love', 'of', 'ours', '–', 'and', 'the', 'songs', 'of', 'every', 'poet', 'past', 'and', 'forever']\n"
     ]
    }
   ],
   "source": [
    "print(words)"
   ]
  },
  {
   "cell_type": "code",
   "execution_count": 180,
   "metadata": {
    "colab": {},
    "colab_type": "code",
    "id": "3wX3SCHdH_-7"
   },
   "outputs": [],
   "source": [
    "two_grams_zip = zip(words, words[1:])"
   ]
  },
  {
   "cell_type": "code",
   "execution_count": 181,
   "metadata": {
    "colab": {},
    "colab_type": "code",
    "id": "6100-JspIODM"
   },
   "outputs": [
    {
     "name": "stdout",
     "output_type": "stream",
     "text": [
      "('unending', 'love')\n",
      "('love', 'by')\n",
      "('by', 'rabindranath')\n",
      "('rabindranath', 'tagore')\n",
      "('tagore', 'i')\n",
      "('i', 'seem')\n",
      "('seem', 'to')\n",
      "('to', 'have')\n",
      "('have', 'loved')\n",
      "('loved', 'you')\n",
      "('you', 'in')\n",
      "('in', 'numberless')\n",
      "('numberless', 'forms')\n",
      "('forms', 'numberless')\n",
      "('numberless', 'times')\n",
      "('times', 'in')\n",
      "('in', 'life')\n",
      "('life', 'after')\n",
      "('after', 'life')\n",
      "('life', 'in')\n",
      "('in', 'age')\n",
      "('age', 'after')\n",
      "('after', 'age')\n",
      "('age', 'forever')\n",
      "('forever', 'my')\n",
      "('my', 'spellbound')\n",
      "('spellbound', 'heart')\n",
      "('heart', 'has')\n",
      "('has', 'made')\n",
      "('made', 'and')\n",
      "('and', 'remade')\n",
      "('remade', 'the')\n",
      "('the', 'necklace')\n",
      "('necklace', 'of')\n",
      "('of', 'songs')\n",
      "('songs', 'that')\n",
      "('that', 'you')\n",
      "('you', 'take')\n",
      "('take', 'as')\n",
      "('as', 'a')\n",
      "('a', 'gift')\n",
      "('gift', 'wear')\n",
      "('wear', 'round')\n",
      "('round', 'your')\n",
      "('your', 'neck')\n",
      "('neck', 'in')\n",
      "('in', 'your')\n",
      "('your', 'many')\n",
      "('many', 'forms')\n",
      "('forms', 'in')\n",
      "('in', 'life')\n",
      "('life', 'after')\n",
      "('after', 'life')\n",
      "('life', 'in')\n",
      "('in', 'age')\n",
      "('age', 'after')\n",
      "('after', 'age')\n",
      "('age', 'forever')\n",
      "('forever', 'whenever')\n",
      "('whenever', 'i')\n",
      "('i', 'hear')\n",
      "('hear', 'old')\n",
      "('old', 'chronicles')\n",
      "('chronicles', 'of')\n",
      "('of', 'love')\n",
      "('love', 'its')\n",
      "('its', 'age')\n",
      "('age', 'old')\n",
      "('old', 'pain')\n",
      "('pain', 'its')\n",
      "('its', 'ancient')\n",
      "('ancient', 'tale')\n",
      "('tale', 'of')\n",
      "('of', 'being')\n",
      "('being', 'apart')\n",
      "('apart', 'or')\n",
      "('or', 'together')\n",
      "('together', 'as')\n",
      "('as', 'i')\n",
      "('i', 'stare')\n",
      "('stare', 'on')\n",
      "('on', 'and')\n",
      "('and', 'on')\n",
      "('on', 'into')\n",
      "('into', 'the')\n",
      "('the', 'past')\n",
      "('past', 'in')\n",
      "('in', 'the')\n",
      "('the', 'end')\n",
      "('end', 'you')\n",
      "('you', 'emerge')\n",
      "('emerge', 'clad')\n",
      "('clad', 'in')\n",
      "('in', 'the')\n",
      "('the', 'light')\n",
      "('light', 'of')\n",
      "('of', 'a')\n",
      "('a', 'pole')\n",
      "('pole', 'star')\n",
      "('star', 'piercing')\n",
      "('piercing', 'the')\n",
      "('the', 'darkness')\n",
      "('darkness', 'of')\n",
      "('of', 'time:')\n",
      "('time:', 'you')\n",
      "('you', 'become')\n",
      "('become', 'an')\n",
      "('an', 'image')\n",
      "('image', 'of')\n",
      "('of', 'what')\n",
      "('what', 'is')\n",
      "('is', 'remembered')\n",
      "('remembered', 'forever')\n",
      "('forever', 'you')\n",
      "('you', 'and')\n",
      "('and', 'i')\n",
      "('i', 'have')\n",
      "('have', 'floated')\n",
      "('floated', 'here')\n",
      "('here', 'on')\n",
      "('on', 'the')\n",
      "('the', 'stream')\n",
      "('stream', 'that')\n",
      "('that', 'brings')\n",
      "('brings', 'from')\n",
      "('from', 'the')\n",
      "('the', 'fount')\n",
      "('fount', 'at')\n",
      "('at', 'the')\n",
      "('the', 'heart')\n",
      "('heart', 'of')\n",
      "('of', 'time')\n",
      "('time', 'love')\n",
      "('love', 'of')\n",
      "('of', 'one')\n",
      "('one', 'for')\n",
      "('for', 'another')\n",
      "('another', 'we')\n",
      "('we', 'have')\n",
      "('have', 'played')\n",
      "('played', 'along')\n",
      "('along', 'side')\n",
      "('side', 'millions')\n",
      "('millions', 'of')\n",
      "('of', 'lovers')\n",
      "('lovers', 'shared')\n",
      "('shared', 'in')\n",
      "('in', 'the')\n",
      "('the', 'same')\n",
      "('same', 'shy')\n",
      "('shy', 'sweetness')\n",
      "('sweetness', 'of')\n",
      "('of', 'meeting')\n",
      "('meeting', 'the')\n",
      "('the', 'same')\n",
      "('same', 'distressful')\n",
      "('distressful', 'tears')\n",
      "('tears', 'of')\n",
      "('of', 'farewell')\n",
      "('farewell', 'old')\n",
      "('old', 'love')\n",
      "('love', 'but')\n",
      "('but', 'in')\n",
      "('in', 'shapes')\n",
      "('shapes', 'that')\n",
      "('that', 'renew')\n",
      "('renew', 'and')\n",
      "('and', 'renew')\n",
      "('renew', 'forever')\n",
      "('forever', 'today')\n",
      "('today', 'it')\n",
      "('it', 'is')\n",
      "('is', 'heaped')\n",
      "('heaped', 'at')\n",
      "('at', 'your')\n",
      "('your', 'feet')\n",
      "('feet', 'it')\n",
      "('it', 'has')\n",
      "('has', 'found')\n",
      "('found', 'its')\n",
      "('its', 'end')\n",
      "('end', 'in')\n",
      "('in', 'you')\n",
      "('you', 'the')\n",
      "('the', 'love')\n",
      "('love', 'of')\n",
      "('of', 'all')\n",
      "('all', 'man’s')\n",
      "('man’s', 'days')\n",
      "('days', 'both')\n",
      "('both', 'past')\n",
      "('past', 'and')\n",
      "('and', 'forever:')\n",
      "('forever:', 'universal')\n",
      "('universal', 'joy')\n",
      "('joy', 'universal')\n",
      "('universal', 'sorrow')\n",
      "('sorrow', 'universal')\n",
      "('universal', 'life')\n",
      "('life', 'the')\n",
      "('the', 'memories')\n",
      "('memories', 'of')\n",
      "('of', 'all')\n",
      "('all', 'loves')\n",
      "('loves', 'merging')\n",
      "('merging', 'with')\n",
      "('with', 'this')\n",
      "('this', 'one')\n",
      "('one', 'love')\n",
      "('love', 'of')\n",
      "('of', 'ours')\n",
      "('ours', '–')\n",
      "('–', 'and')\n",
      "('and', 'the')\n",
      "('the', 'songs')\n",
      "('songs', 'of')\n",
      "('of', 'every')\n",
      "('every', 'poet')\n",
      "('poet', 'past')\n",
      "('past', 'and')\n",
      "('and', 'forever')\n"
     ]
    }
   ],
   "source": [
    "for item in two_grams_zip: #already iterated, may not print the next cell. Must leave this execution for converting into lists.\n",
    "    print(item)"
   ]
  },
  {
   "cell_type": "code",
   "execution_count": 182,
   "metadata": {
    "colab": {},
    "colab_type": "code",
    "id": "H9aCg9meIQmv"
   },
   "outputs": [],
   "source": [
    "two_grams = [item for item in two_grams_zip] "
   ]
  },
  {
   "cell_type": "code",
   "execution_count": 183,
   "metadata": {
    "colab": {
     "base_uri": "https://localhost:8080/",
     "height": 55
    },
    "colab_type": "code",
    "id": "qOrPHvltIqNs",
    "outputId": "e35f0e98-87c8-4204-e026-6d7e47461535"
   },
   "outputs": [
    {
     "name": "stdout",
     "output_type": "stream",
     "text": [
      "[]\n"
     ]
    }
   ],
   "source": [
    "print(two_grams)"
   ]
  },
  {
   "cell_type": "code",
   "execution_count": 184,
   "metadata": {
    "colab": {},
    "colab_type": "code",
    "id": "7Z0i6abtIr4q"
   },
   "outputs": [],
   "source": [
    "def iterable_counter (iter_obj):\n",
    "    count_dict = {}\n",
    "    for item in iter_obj:\n",
    "        if item in count_dict:\n",
    "            count_dict[item] += 1\n",
    "        else:\n",
    "            count_dict[item] = 1\n",
    "    return count_dict"
   ]
  },
  {
   "cell_type": "code",
   "execution_count": 185,
   "metadata": {
    "colab": {},
    "colab_type": "code",
    "id": "35ja23D4JLb6"
   },
   "outputs": [],
   "source": [
    "two_grams_freq = iterable_counter(two_grams)"
   ]
  },
  {
   "cell_type": "code",
   "execution_count": 186,
   "metadata": {
    "colab": {
     "base_uri": "https://localhost:8080/",
     "height": 55
    },
    "colab_type": "code",
    "id": "-kSbhrxbJddB",
    "outputId": "0fe47be9-633b-40e4-af36-ed486b19156f"
   },
   "outputs": [
    {
     "name": "stdout",
     "output_type": "stream",
     "text": [
      "{}\n"
     ]
    }
   ],
   "source": [
    "print(two_grams_freq)"
   ]
  },
  {
   "cell_type": "code",
   "execution_count": 187,
   "metadata": {
    "colab": {},
    "colab_type": "code",
    "id": "dV8v889pJepV"
   },
   "outputs": [],
   "source": [
    "sorted_list = sorted(two_grams_freq.items(), key=lambda item: item[1])"
   ]
  },
  {
   "cell_type": "code",
   "execution_count": 188,
   "metadata": {
    "colab": {
     "base_uri": "https://localhost:8080/",
     "height": 55
    },
    "colab_type": "code",
    "id": "V9yiPzC6JuOd",
    "outputId": "d62d03a0-c092-46c0-c79e-d2a66461ebad"
   },
   "outputs": [
    {
     "name": "stdout",
     "output_type": "stream",
     "text": [
      "dict_items([])\n"
     ]
    }
   ],
   "source": [
    "print(two_grams_freq.items())"
   ]
  },
  {
   "cell_type": "code",
   "execution_count": 189,
   "metadata": {
    "colab": {},
    "colab_type": "code",
    "id": "scZllfa6JwIL"
   },
   "outputs": [],
   "source": [
    "sorted_list = sorted(two_grams_freq.items(), key=lambda item: item[1])"
   ]
  },
  {
   "cell_type": "code",
   "execution_count": 190,
   "metadata": {
    "colab": {
     "base_uri": "https://localhost:8080/",
     "height": 55
    },
    "colab_type": "code",
    "id": "aYRFgGtFJ9E2",
    "outputId": "49875bcd-339d-4cc1-f0b5-fdaaa5a9d149"
   },
   "outputs": [
    {
     "name": "stdout",
     "output_type": "stream",
     "text": [
      "[]\n"
     ]
    }
   ],
   "source": [
    "print(sorted_list)"
   ]
  },
  {
   "cell_type": "code",
   "execution_count": 191,
   "metadata": {
    "colab": {
     "base_uri": "https://localhost:8080/",
     "height": 109
    },
    "colab_type": "code",
    "id": "KS1ZLULlJ_nz",
    "outputId": "57ab9953-db59-442f-8ad4-3655317ba03b"
   },
   "outputs": [
    {
     "data": {
      "text/plain": [
       "[]"
      ]
     },
     "execution_count": 191,
     "metadata": {},
     "output_type": "execute_result"
    }
   ],
   "source": [
    "sorted_list[-5:]"
   ]
  },
  {
   "cell_type": "code",
   "execution_count": 192,
   "metadata": {
    "colab": {},
    "colab_type": "code",
    "id": "uDiuzTGQKO0o"
   },
   "outputs": [],
   "source": [
    "with open(\"common_two_grams.txt\", \"w\") as f_out:\n",
    "    for item in sorted_list[-5:]:\n",
    "        # print(item[0][0] + \" \" + item[0][1] + \"\\n\")\n",
    "        f_out.write(item[0][0] + \" \" + item[0][1] + \"\\n\")"
   ]
  }
 ],
 "metadata": {
  "colab": {
   "collapsed_sections": [],
   "name": "FDS_W05.ipynb",
   "provenance": []
  },
  "kernelspec": {
   "display_name": "Python 3",
   "language": "python",
   "name": "python3"
  },
  "language_info": {
   "codemirror_mode": {
    "name": "ipython",
    "version": 3
   },
   "file_extension": ".py",
   "mimetype": "text/x-python",
   "name": "python",
   "nbconvert_exporter": "python",
   "pygments_lexer": "ipython3",
   "version": "3.8.8"
  }
 },
 "nbformat": 4,
 "nbformat_minor": 1
}
